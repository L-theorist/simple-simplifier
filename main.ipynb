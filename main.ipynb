{
 "cells": [
  {
   "cell_type": "code",
   "execution_count": 1,
   "metadata": {},
   "outputs": [
    {
     "name": "stderr",
     "output_type": "stream",
     "text": [
      "[nltk_data] Downloading package words to /home/filipp/nltk_data...\n",
      "[nltk_data]   Package words is already up-to-date!\n",
      "[nltk_data] Downloading package punkt to /home/filipp/nltk_data...\n",
      "[nltk_data]   Package punkt is already up-to-date!\n"
     ]
    },
    {
     "data": {
      "text/plain": [
       "True"
      ]
     },
     "execution_count": 1,
     "metadata": {},
     "output_type": "execute_result"
    }
   ],
   "source": [
    "import os\n",
    "import pathlib\n",
    "import nltk\n",
    "import numpy as np\n",
    "from unicodedata import normalize\n",
    "import collections\n",
    "%reload_ext autoreload\n",
    "%autoreload 2\n",
    "from model import *\n",
    "from simplifier import *\n",
    "\n",
    "nltk.download('words')\n",
    "nltk.download('punkt')\n"
   ]
  },
  {
   "cell_type": "code",
   "execution_count": 2,
   "metadata": {},
   "outputs": [],
   "source": [
    "path_data = 'data-simplification/wikilarge/wiki.full.aner.'"
   ]
  },
  {
   "cell_type": "code",
   "execution_count": 3,
   "metadata": {},
   "outputs": [],
   "source": [
    "train_src = open(path_data+'train.src', \"r\").readlines()\n",
    "train_dst = open(path_data+'train.dst', \"r\").readlines()\n",
    "train_ori_src = open(path_data+'ori.train.src', \"r\").readlines()\n",
    "train_ori_dst = open(path_data+'ori.train.dst', \"r\").readlines()\n",
    "\n",
    "valid_src = open(path_data+'valid.src', \"r\").readlines()\n",
    "valid_dst = open(path_data+'valid.dst', \"r\").readlines()\n",
    "valid_ori_src = open(path_data+'ori.valid.src', \"r\").readlines()\n",
    "valid_ori_dst = open(path_data+'ori.valid.dst', \"r\").readlines()"
   ]
  },
  {
   "cell_type": "markdown",
   "metadata": {},
   "source": [
    "### Comparison of datasets; will work with original first. Named entity identification is applied to get the modified dataset. Might facilitate trainining working with this."
   ]
  },
  {
   "cell_type": "code",
   "execution_count": 4,
   "metadata": {},
   "outputs": [
    {
     "data": {
      "text/plain": [
       "'ORGANIZATION@1 crews conducted backburning operations to ensure containment of the fire on NUMBER@1 February , warning residents of areas between LOCATION@1 and Warragul about smoke from those fires .\\n'"
      ]
     },
     "execution_count": 4,
     "metadata": {},
     "output_type": "execute_result"
    }
   ],
   "source": [
    "train_src[114]"
   ]
  },
  {
   "cell_type": "code",
   "execution_count": 5,
   "metadata": {},
   "outputs": [
    {
     "data": {
      "text/plain": [
       "'DSE crews conducted backburning operations to ensure containment of the fire on 9 February , warning residents of areas between Pakenham and Warragul about smoke from those fires .\\n'"
      ]
     },
     "execution_count": 5,
     "metadata": {},
     "output_type": "execute_result"
    }
   ],
   "source": [
    "train_ori_src[114]"
   ]
  },
  {
   "cell_type": "code",
   "execution_count": 6,
   "metadata": {},
   "outputs": [
    {
     "data": {
      "text/plain": [
       "'People between Pakenham and Warragul were warned about smoke from those fires .\\n'"
      ]
     },
     "execution_count": 6,
     "metadata": {},
     "output_type": "execute_result"
    }
   ],
   "source": [
    "train_ori_dst[114]"
   ]
  },
  {
   "cell_type": "code",
   "execution_count": 7,
   "metadata": {},
   "outputs": [
    {
     "data": {
      "text/plain": [
       "'People between LOCATION@1 and Warragul were warned about smoke from those fires .\\n'"
      ]
     },
     "execution_count": 7,
     "metadata": {},
     "output_type": "execute_result"
    }
   ],
   "source": [
    "train_dst[114]"
   ]
  },
  {
   "cell_type": "code",
   "execution_count": 8,
   "metadata": {},
   "outputs": [
    {
     "data": {
      "text/plain": [
       "'The Summer of Love became a defining moment of the 1960s , as the hippie counterculture movement came into public awareness .\\n'"
      ]
     },
     "execution_count": 8,
     "metadata": {},
     "output_type": "execute_result"
    }
   ],
   "source": [
    "valid_ori_src[11]"
   ]
  },
  {
   "cell_type": "code",
   "execution_count": 9,
   "metadata": {},
   "outputs": [
    {
     "data": {
      "text/plain": [
       "'Thousands of young people from all over the world went to San Francisco to help create a hippie counterculture . The Summer of Love made the rest of America much more aware of the hippie movement .\\n'"
      ]
     },
     "execution_count": 9,
     "metadata": {},
     "output_type": "execute_result"
    }
   ],
   "source": [
    "valid_ori_dst[11]"
   ]
  },
  {
   "cell_type": "code",
   "execution_count": 103,
   "metadata": {},
   "outputs": [],
   "source": [
    "embedding_index = {}\n",
    "file = os.path.join(str(pathlib.Path.home())+\"/GloVe\",\"glove.6B.300d.txt\")\n",
    "f= open(file)\n",
    "for line in f:\n",
    "    values = line.split()\n",
    "    word = values[0]\n",
    "    coefs = np.asarray(values[1:], dtype=\"float32\")\n",
    "    embedding_index[word] = coefs\n",
    "\n"
   ]
  },
  {
   "cell_type": "markdown",
   "metadata": {},
   "source": [
    "### A glimpse at the representations."
   ]
  },
  {
   "cell_type": "code",
   "execution_count": 104,
   "metadata": {},
   "outputs": [
    {
     "name": "stdout",
     "output_type": "stream",
     "text": [
      "the [ 4.6560e-02  2.1318e-01 -7.4364e-03 -4.5854e-01 -3.5639e-02  2.3643e-01\n",
      " -2.8836e-01  2.1521e-01 -1.3486e-01 -1.6413e+00 -2.6091e-01  3.2434e-02\n",
      "  5.6621e-02 -4.3296e-02 -2.1672e-02  2.2476e-01 -7.5129e-02 -6.7018e-02\n",
      " -1.4247e-01  3.8825e-02 -1.8951e-01  2.9977e-01  3.9305e-01  1.7887e-01\n",
      " -1.7343e-01 -2.1178e-01  2.3617e-01 -6.3681e-02 -4.2318e-01 -1.1661e-01\n",
      "  9.3754e-02  1.7296e-01 -3.3073e-01  4.9112e-01 -6.8995e-01 -9.2462e-02\n",
      "  2.4742e-01 -1.7991e-01  9.7908e-02  8.3118e-02  1.5299e-01 -2.7276e-01\n",
      " -3.8934e-02  5.4453e-01  5.3737e-01  2.9105e-01 -7.3514e-03  4.7880e-02\n",
      " -4.0760e-01 -2.6759e-02  1.7919e-01  1.0977e-02 -1.0963e-01 -2.6395e-01\n",
      "  7.3990e-02  2.6236e-01 -1.5080e-01  3.4623e-01  2.5758e-01  1.1971e-01\n",
      " -3.7135e-02 -7.1593e-02  4.3898e-01 -4.0764e-02  1.6425e-02 -4.4640e-01\n",
      "  1.7197e-01  4.6246e-02  5.8639e-02  4.1499e-02  5.3948e-01  5.2495e-01\n",
      "  1.1361e-01 -4.8315e-02 -3.6385e-01  1.8704e-01  9.2761e-02 -1.1129e-01\n",
      " -4.2085e-01  1.3992e-01 -3.9338e-01 -6.7945e-02  1.2188e-01  1.6707e-01\n",
      "  7.5169e-02 -1.5529e-02 -1.9499e-01  1.9638e-01  5.3194e-02  2.5170e-01\n",
      " -3.4845e-01 -1.0638e-01 -3.4692e-01 -1.9024e-01 -2.0040e-01  1.2154e-01\n",
      " -2.9208e-01  2.3353e-02 -1.1618e-01 -3.5768e-01  6.2304e-02  3.5884e-01\n",
      "  2.9060e-02  7.3005e-03  4.9482e-03 -1.5048e-01 -1.2313e-01  1.9337e-01\n",
      "  1.2173e-01  4.4503e-01  2.5147e-01  1.0781e-01 -1.7716e-01  3.8691e-02\n",
      "  8.1530e-02  1.4667e-01  6.3666e-02  6.1332e-02 -7.5569e-02 -3.7724e-01\n",
      "  1.5850e-02 -3.0342e-01  2.8374e-01 -4.2013e-02 -4.0715e-02 -1.5269e-01\n",
      "  7.4980e-02  1.5577e-01  1.0433e-01  3.1393e-01  1.9309e-01  1.9429e-01\n",
      "  1.5185e-01 -1.0192e-01 -1.8785e-02  2.0791e-01  1.3366e-01  1.9038e-01\n",
      " -2.5558e-01  3.0400e-01 -1.8960e-02  2.0147e-01 -4.2110e-01 -7.5156e-03\n",
      " -2.7977e-01 -1.9314e-01  4.6204e-02  1.9971e-01 -3.0207e-01  2.5735e-01\n",
      "  6.8107e-01 -1.9409e-01  2.3984e-01  2.2493e-01  6.5224e-01 -1.3561e-01\n",
      " -1.7383e-01 -4.8209e-02 -1.1860e-01  2.1588e-03 -1.9525e-02  1.1948e-01\n",
      "  1.9346e-01 -4.0820e-01 -8.2966e-02  1.6626e-01 -1.0601e-01  3.5861e-01\n",
      "  1.6922e-01  7.2590e-02 -2.4803e-01 -1.0024e-01 -5.2491e-01 -1.7745e-01\n",
      " -3.6647e-01  2.6180e-01 -1.2077e-02  8.3190e-02 -2.1528e-01  4.1045e-01\n",
      "  2.9136e-01  3.0869e-01  7.8864e-02  3.2207e-01 -4.1023e-02 -1.0970e-01\n",
      " -9.2041e-02 -1.2339e-01 -1.6416e-01  3.5382e-01 -8.2774e-02  3.3171e-01\n",
      " -2.4738e-01 -4.8928e-02  1.5746e-01  1.8988e-01 -2.6642e-02  6.3315e-02\n",
      " -1.0673e-02  3.4089e-01  1.4106e+00  1.3417e-01  2.8191e-01 -2.5940e-01\n",
      "  5.5267e-02 -5.2425e-02 -2.5789e-01  1.9127e-02 -2.2084e-02  3.2113e-01\n",
      "  6.8818e-02  5.1207e-01  1.6478e-01 -2.0194e-01  2.9232e-01  9.8575e-02\n",
      "  1.3145e-02 -1.0652e-01  1.3510e-01 -4.5332e-02  2.0697e-01 -4.8425e-01\n",
      " -4.4706e-01  3.3305e-03  2.9264e-03 -1.0975e-01 -2.3325e-01  2.2442e-01\n",
      " -1.0503e-01  1.2339e-01  1.0978e-01  4.8994e-02 -2.5157e-01  4.0319e-01\n",
      "  3.5318e-01  1.8651e-01 -2.3622e-02 -1.2734e-01  1.1475e-01  2.7359e-01\n",
      " -2.1866e-01  1.5794e-02  8.1754e-01 -2.3792e-02 -8.5469e-01 -1.6203e-01\n",
      "  1.8076e-01  2.8014e-02 -1.4340e-01  1.3139e-03 -9.1735e-02 -8.9704e-02\n",
      "  1.1105e-01 -1.6703e-01  6.8377e-02 -8.7388e-02 -3.9789e-02  1.4184e-02\n",
      "  2.1187e-01  2.8579e-01 -2.8797e-01 -5.8996e-02 -3.2436e-02 -4.7009e-03\n",
      " -1.7052e-01 -3.4741e-02 -1.1489e-01  7.5093e-02  9.9526e-02  4.8183e-02\n",
      " -7.3775e-02 -4.1817e-01  4.1268e-03  4.4414e-01 -1.6062e-01  1.4294e-01\n",
      " -2.2628e+00 -2.7347e-02  8.1311e-01  7.7417e-01 -2.5639e-01 -1.1576e-01\n",
      " -1.1982e-01 -2.1363e-01  2.8429e-02  2.7261e-01  3.1026e-02  9.6782e-02\n",
      "  6.7769e-03  1.4082e-01 -1.3064e-02 -2.9686e-01 -7.9913e-02  1.9500e-01\n",
      "  3.1549e-02  2.8506e-01 -8.7461e-02  9.0611e-03 -2.0989e-01  5.3913e-02]\n",
      "(300,)\n",
      ", [-2.5539e-01 -2.5723e-01  1.3169e-01 -4.2688e-02  2.1817e-01 -2.2702e-02\n",
      " -1.7854e-01  1.0756e-01  5.8936e-02 -1.3854e+00  5.8509e-01  3.6501e-02\n",
      " -1.9846e-01  1.9613e-01  4.0929e-01  1.5702e-01 -1.5305e-01  5.0447e-02\n",
      "  3.0045e-01 -1.1295e-01 -1.7043e-02  1.8593e-01  1.9982e-01  2.0053e-01\n",
      " -6.3141e-01 -1.2622e-01  2.9510e-01 -2.6282e-01 -1.5831e-01  1.2383e-03\n",
      "  1.1784e-02  5.8758e-01 -1.5914e-01  2.7731e-01 -8.2343e-01 -2.1134e-01\n",
      "  1.3414e-02  1.9637e-01 -4.1470e-01  1.0276e-03  1.3422e-01 -1.4205e-01\n",
      "  5.1545e-02  3.4993e-01 -2.9868e-01 -3.2090e-01  1.9566e-01  4.7886e-01\n",
      "  1.0744e-01  1.0004e-02  1.8503e-01  8.0694e-02  2.0739e-01 -9.7365e-02\n",
      " -3.9448e-02  2.0151e-02 -1.7378e-01  2.5679e-01  2.4198e-01 -3.5100e-01\n",
      "  1.8759e-01  6.3857e-03  1.8395e-01 -1.3929e-01  8.1855e-03 -6.3109e-01\n",
      "  2.9832e-01  3.1731e-01  1.3022e-01 -3.2284e-01 -5.0343e-02 -1.1400e-01\n",
      "  1.2097e-01  1.4687e-01 -3.3244e-01 -5.5789e-02 -5.8490e-02  2.7551e-01\n",
      " -4.3855e-02  3.9664e-02  1.5162e-01 -8.6627e-02  6.7729e-02  2.3146e-01\n",
      "  1.5351e-02 -1.5142e-01 -3.1975e-02  4.5181e-01 -6.8806e-02 -7.7058e-02\n",
      "  5.5193e-02  5.4596e-02 -2.4708e-01  3.1113e-02 -1.2826e-01  1.2782e-01\n",
      " -4.6708e-01 -2.6264e-02  1.0387e-02 -3.3174e-01  1.7277e-01 -2.6894e-01\n",
      "  2.0467e-01 -1.6181e-01 -4.1519e-02 -1.4878e-02  1.0279e-01  1.8868e-01\n",
      " -2.3396e-01 -1.8436e-02 -1.4747e-01 -3.2685e-01 -2.2055e-02 -5.4000e-02\n",
      "  1.6264e-01  2.7095e-01 -2.2792e-01 -7.7006e-03  1.1206e-01 -3.9787e-02\n",
      " -1.1906e-01  2.1773e-02  5.5280e-02 -1.3318e-01 -5.6867e-02  8.3040e-03\n",
      " -2.7021e-02  2.3447e-01  8.6864e-02  1.2009e-01 -3.0726e-01  2.4735e-03\n",
      "  2.9041e-01 -4.4887e-02  1.2297e-01  1.3077e-01  9.0807e-02 -3.9141e-01\n",
      "  8.0546e-02  1.8724e-01 -9.7481e-02  1.0397e-01  1.1492e-01  1.7775e-01\n",
      " -1.8167e-01  2.4652e-01  2.0136e-01 -2.3395e-01 -3.5018e-01 -1.4061e-01\n",
      "  1.7091e-01 -9.5465e-02 -1.0962e-01 -9.8360e-02  1.5344e-01  8.8680e-02\n",
      " -2.2048e-01 -1.3803e-01 -1.1288e-01 -8.5340e-02  7.2735e-02 -1.2732e-01\n",
      " -1.9640e-01 -1.0586e-01  2.0616e-03  1.3496e-01  5.8912e-02 -4.3979e-02\n",
      " -9.1375e-02  2.4408e-01  1.6872e-01  2.4297e-01 -4.3983e-01  4.7089e-01\n",
      " -1.8595e-02  1.6146e-01  1.9828e-01 -1.7237e-01 -2.6998e-03  5.2097e-01\n",
      " -8.0197e-02  4.3324e-01 -6.6261e-02  4.3240e-02  8.4954e-02 -1.4836e-01\n",
      " -4.1936e-01  1.5988e-01 -1.8411e-01  1.3210e-01  2.7476e-01  2.7279e-01\n",
      " -1.3465e-01 -9.1238e-02 -3.2523e-01  2.7936e-01  2.3296e-02 -3.3472e-01\n",
      "  1.6878e-02 -5.5544e-02  9.2915e-01 -3.3914e-01 -1.4791e-01  1.7301e-02\n",
      "  1.8272e-01  3.5108e-01 -1.1438e-01  1.3228e-01 -2.1064e-02 -2.7453e-01\n",
      " -1.0081e-01 -4.6296e-02  2.1689e-01 -5.6319e-02  1.4651e-01 -2.3536e-02\n",
      "  6.8026e-02 -4.5453e-02 -2.3851e-01 -3.3868e-01  3.1396e-01 -3.1914e-02\n",
      " -1.9217e-02  1.8715e-03 -1.3328e-01  7.0148e-02 -3.9761e-02  7.0801e-02\n",
      "  1.8422e-03 -1.2646e-01  2.8675e-02 -9.5728e-02  2.6673e-01 -3.5536e-01\n",
      "  1.5286e-01  6.4565e-02  1.2647e-01  2.3397e-01 -4.6058e-02  1.3519e-01\n",
      " -1.4549e-01  2.3031e-01  4.2066e-01  1.6267e-01 -1.6541e-01 -2.0155e-03\n",
      "  8.0653e-02 -3.0025e-01 -7.6014e-02  7.0612e-02  3.1570e-01  5.3520e-02\n",
      " -1.0721e-01 -1.3660e-01  3.2214e-01  2.0040e-01  1.1609e-01 -2.2501e-01\n",
      "  1.2155e-01 -1.0851e-01 -6.3187e-02 -2.4553e-01 -5.9751e-02  6.8787e-02\n",
      " -1.1627e-01 -8.3402e-03  5.2044e-03 -2.0159e-01 -2.3663e-02  1.7562e-01\n",
      " -3.1475e-01 -1.1162e-01 -1.2492e-01  1.0949e-01 -2.6913e-01  3.4893e-01\n",
      " -1.6997e+00 -2.4470e-01  3.0292e-01  5.6720e-02 -3.1737e-01  8.3612e-02\n",
      "  9.5949e-02 -1.7590e-01  1.0235e-01  3.6808e-01 -3.4380e-01  2.0607e-01\n",
      "  1.9135e-01  1.0992e-01  7.5968e-02 -1.4359e-02 -7.3794e-02  2.2176e-01\n",
      "  1.4652e-01  5.6686e-01  5.3307e-02 -2.3290e-01 -1.2226e-01  3.5499e-01]\n",
      "(300,)\n",
      ". [-1.2559e-01  1.3630e-02  1.0306e-01 -1.0123e-01  9.8128e-02  1.3627e-01\n",
      " -1.0721e-01  2.3697e-01  3.2870e-01 -1.6785e+00  2.2393e-01  1.2409e-01\n",
      " -8.6708e-02  3.3010e-01  3.4375e-01 -8.7582e-04 -2.9658e-01  2.4417e-01\n",
      " -1.1592e-01 -3.5742e-02 -1.0830e-02  2.0776e-01  2.9285e-01 -7.3491e-02\n",
      " -1.8598e-01 -2.0090e-01 -9.5366e-02  6.3732e-03 -1.3620e-01  9.2028e-02\n",
      " -3.9957e-02  1.9027e-01 -1.0456e-01  2.7670e-03 -7.1742e-01 -1.2915e-01\n",
      " -1.3451e-03  2.7002e-01 -5.3023e-02  2.2148e-01  1.3881e-01 -1.5051e-01\n",
      " -1.9150e-01  1.6402e-01  9.7484e-02  5.6841e-02  3.9789e-01  4.0725e-01\n",
      "  1.4802e-01  2.1569e-01 -1.0671e-01 -1.0232e-01  2.4810e-02 -2.2100e-01\n",
      " -1.0720e-02  1.4234e-01 -2.8242e-01  1.9254e-01  8.6720e-02 -3.8970e-01\n",
      "  1.1321e-01  1.3779e-03  6.4009e-03 -1.6206e-01 -8.2153e-02 -5.5397e-01\n",
      "  3.6789e-01 -4.0159e-03  2.0710e-01 -3.7157e-01  2.5135e-01 -1.9544e-01\n",
      " -4.7059e-02  1.7155e-01 -2.4036e-01 -4.6086e-02  1.9429e-01 -1.8939e-01\n",
      " -7.1974e-03  6.9481e-02  5.9175e-02 -1.7585e-01  1.0653e-01  1.6933e-01\n",
      " -3.6122e-02  2.9911e-02 -1.1830e-01  1.3916e-01 -3.7951e-02  1.0690e-01\n",
      " -2.6069e-01 -1.0307e-01 -1.2272e-01 -1.5032e-01 -4.2409e-02  1.3354e-02\n",
      " -2.8510e-01  1.1248e-02  1.6073e-01 -1.6384e-01  2.1233e-01 -1.8476e-01\n",
      " -9.0874e-04  6.6687e-02  1.6918e-01 -3.5004e-01  9.9016e-02  4.6393e-01\n",
      " -1.9462e-01  1.0346e-01 -2.5668e-01 -3.6516e-01 -1.8963e-01 -2.1933e-01\n",
      "  2.4634e-02  6.5627e-02 -1.1120e-01 -1.6400e-01  1.0874e-02 -8.4688e-02\n",
      " -1.4923e-01 -7.0223e-02  2.8887e-02  8.3497e-02 -1.6193e-02 -2.4926e-03\n",
      "  1.7186e-01  9.8749e-03  8.0237e-02  1.4774e-01  4.3206e-02  2.7716e-01\n",
      "  5.7697e-01 -4.1297e-02  1.2765e-01 -9.1517e-02  1.4132e-01  8.7579e-02\n",
      "  9.3224e-02  1.5346e-02 -1.9856e-01  1.7277e-02 -1.0708e-01 -1.3059e-02\n",
      " -3.7227e-01  7.8568e-02  1.6677e-01 -1.5359e-01 -3.3294e-01  3.6986e-02\n",
      "  1.1697e-01  3.9781e-02  3.8464e-02 -1.6247e-01  4.1280e-01 -7.7491e-02\n",
      "  4.5490e-02  1.1330e-01  8.2177e-03 -2.5052e-01  7.0966e-02 -1.1388e-01\n",
      " -1.1503e-01 -1.1014e-01  1.0499e-01  1.5878e-01 -2.7023e-01 -1.1006e-02\n",
      "  7.6057e-04  3.3902e-01  2.5564e-01  1.6342e-01 -5.6019e-01  1.3055e-01\n",
      "  7.6311e-02 -2.8334e-02  2.8721e-01 -2.7844e-02 -1.1561e-01  3.4925e-01\n",
      " -1.2420e-01  2.1405e-01  2.4116e-01 -3.1343e-02  1.0913e-01 -2.4755e-01\n",
      " -4.5429e-02 -8.2178e-02 -1.8831e-01  1.8446e-01 -9.7074e-02  3.2395e-01\n",
      "  1.0658e-01 -2.6676e-01 -2.7311e-01  1.7181e-02  2.5796e-01 -2.8048e-01\n",
      "  3.0790e-01 -2.1800e-01  8.7415e-01 -1.2297e-01  1.0991e-01 -2.9797e-01\n",
      "  1.3394e-01  1.0615e-01 -1.0789e-01 -3.5976e-01 -1.8311e-01 -4.5133e-01\n",
      "  3.4967e-02 -1.9847e-01  2.1965e-01  8.1520e-02  2.5810e-01  4.0173e-02\n",
      "  3.1394e-02  1.9069e-01  7.5800e-02 -6.0638e-02  2.0739e-01  9.8390e-03\n",
      " -2.6930e-01  6.6515e-02 -1.0711e-01  5.9916e-03  2.3284e-01 -5.8663e-02\n",
      "  9.8993e-02 -8.1464e-02  6.7004e-02 -1.4305e-01  2.5506e-01 -3.1971e-01\n",
      " -3.1070e-02 -9.2451e-02  2.9440e-01  2.8947e-01 -5.9804e-02  2.4286e-01\n",
      " -1.6755e-01  4.2031e-02  5.1261e-01  2.4525e-01 -6.5983e-01  6.2456e-02\n",
      "  5.2204e-02 -2.5717e-02 -8.0613e-02  8.0869e-02  2.2821e-01 -1.0217e-01\n",
      " -2.0719e-01 -1.2123e-02  3.4916e-01  8.6527e-02  6.6288e-02 -9.9828e-02\n",
      "  2.5843e-01  1.1943e-01 -1.3667e-01 -4.3962e-01  2.3704e-01  3.1296e-02\n",
      "  7.4701e-02 -2.2387e-01  7.8162e-03 -1.9016e-01  4.4444e-02  2.0191e-01\n",
      " -2.0814e-01 -2.8382e-01  1.0427e-01 -2.1098e-01  1.8865e-01  3.1659e-01\n",
      " -2.0753e+00 -7.1045e-02  5.2419e-01  5.6023e-02 -2.5295e-01 -6.2168e-02\n",
      " -1.0989e-01 -3.5755e-01 -7.9244e-02  3.7472e-01 -2.8353e-01  1.6337e-01\n",
      "  1.1165e-01 -9.8002e-02  6.0148e-02 -1.5619e-01 -1.1949e-01  2.3445e-01\n",
      "  8.1367e-02  2.4618e-01 -1.5242e-01 -3.4224e-01 -2.2394e-02  1.3684e-01]\n",
      "(300,)\n",
      "of [-7.6947e-02 -2.1211e-02  2.1271e-01 -7.2232e-01 -1.3988e-01 -1.2234e-01\n",
      " -1.7521e-01  1.2137e-01 -7.0866e-02 -1.5721e+00 -2.2464e-01  4.2690e-02\n",
      " -4.0180e-01  2.1006e-01  1.4288e-02  4.1628e-01  1.7165e-02  7.1732e-02\n",
      "  6.9246e-03  1.8107e-01 -1.5412e-01  1.4933e-01 -3.0493e-02  2.9918e-01\n",
      "  2.9479e-02 -3.6147e-02 -6.1125e-02  8.3918e-02 -1.2398e-01 -1.0077e-01\n",
      " -5.4142e-03  3.3710e-01 -2.5612e-01  4.4388e-01 -6.8922e-01  1.8020e-01\n",
      "  3.4898e-01 -5.2284e-02 -2.6226e-01 -4.7109e-01  2.1647e-01 -4.0020e-01\n",
      " -4.9986e-02  1.1376e-02  5.4994e-01 -2.2791e-01  9.5873e-02  4.7693e-01\n",
      " -5.6727e-02 -1.7895e-01  1.1756e-01  1.4662e-01  4.8948e-02  1.3587e-01\n",
      " -9.3821e-02  4.5968e-01 -3.2062e-01  2.9911e-01  2.0656e-01 -1.8503e-01\n",
      " -2.7690e-01 -2.2545e-02  7.0698e-01 -2.3815e-01  1.6437e-01 -5.5044e-01\n",
      " -1.0615e-03  1.2266e-01  1.1898e-01  2.3985e-01  2.9815e-01  1.3207e-02\n",
      "  1.6316e-01 -6.1334e-01 -3.7051e-01  1.9444e-01 -1.3621e-01 -3.0426e-01\n",
      " -3.7715e-01  6.5299e-02 -1.5995e-01 -5.6516e-01  7.4696e-02  4.0184e-01\n",
      "  1.9328e-01  4.1802e-02  2.0572e-01  2.8971e-01  3.4783e-01  3.3873e-01\n",
      " -1.0052e-01 -1.6397e-01 -1.5236e-01 -8.6815e-02  3.6522e-01  1.4969e-01\n",
      " -4.0859e-01  2.3106e-01  1.7162e-01 -6.0545e-01  8.6019e-02  3.7043e-01\n",
      "  1.7937e-01 -4.0282e-01 -6.2471e-01 -5.5919e-02  1.5092e-01  1.2554e-01\n",
      " -4.5344e-01  3.4417e-01  4.0042e-01 -4.9512e-02 -2.9969e-01 -3.1761e-01\n",
      "  3.0023e-01  9.0029e-02  3.1060e-01 -3.3077e-02 -2.1995e-01 -4.0396e-01\n",
      " -3.4443e-01 -2.1248e-01 -3.7636e-01  2.1835e-01 -1.7850e-01 -1.7261e-01\n",
      "  1.6391e-01  2.2753e-01  2.6860e-01  5.7541e-01 -1.4912e-01  2.0413e-01\n",
      "  2.2187e-01 -2.7014e-01  6.8253e-02  2.9115e-01 -6.7943e-02  1.0623e-01\n",
      " -1.6281e-01  1.9939e-01 -4.8613e-01  3.5688e-02 -1.2373e-01  1.3707e-01\n",
      "  3.3359e-01 -1.2713e-01 -3.1711e-01 -1.3962e-01 -4.2880e-02 -1.4614e-03\n",
      "  7.6883e-01 -4.1705e-01 -9.2911e-02  1.6315e-01  2.9202e-01  1.2119e-01\n",
      " -7.6683e-02  1.4131e-01 -9.3406e-02 -4.2796e-02  1.3738e-01  1.4278e-02\n",
      "  1.1918e-01 -3.4215e-01 -1.9076e-01 -1.2499e-01  2.4648e-01  4.2259e-01\n",
      "  9.1966e-02  4.5351e-01  1.4437e-01  1.8780e-01 -8.5876e-01  5.9621e-02\n",
      " -3.2242e-01  2.8627e-01  1.2427e-01  9.0984e-03 -1.8910e-01  1.6638e-01\n",
      "  9.9881e-02 -4.8553e-02 -2.6257e-02  9.9904e-02  1.2406e-01 -1.5416e-02\n",
      " -2.9707e-01 -4.0440e-01 -1.7258e-01  3.6468e-01 -1.4118e-02 -1.1889e-01\n",
      " -1.1686e-01 -1.4124e-01  2.8012e-01  6.7644e-02  1.4850e-01 -3.5702e-01\n",
      "  2.9626e-01  3.6004e-01  1.0190e+00 -6.7307e-02 -1.1588e-01 -2.1780e-01\n",
      "  7.0191e-02  2.3154e-01 -1.3849e-01  2.6441e-01  2.8742e-01  1.9410e-01\n",
      " -6.0504e-03  4.4105e-01  1.2416e-01 -2.7745e-01 -2.5729e-01  1.0992e-01\n",
      "  1.8362e-01 -3.4522e-01 -2.1861e-01 -1.8825e-01 -3.7454e-02 -2.0862e-01\n",
      " -2.5216e-01  6.0842e-02  6.8595e-02  1.0275e-01  1.0745e-01 -6.1288e-02\n",
      "  1.9725e-01 -2.7739e-01 -2.2559e-02  5.2794e-02 -2.4083e-01  9.1990e-02\n",
      "  3.0959e-01  5.4999e-02  6.3676e-02 -8.7357e-02 -3.4495e-01  2.2793e-01\n",
      " -4.2405e-01  2.4536e-01  5.5708e-01  1.9126e-01 -7.9700e-01 -2.0480e-01\n",
      "  3.2545e-01  9.2350e-02  8.4791e-02 -1.6433e-01 -6.6568e-02 -9.9249e-02\n",
      "  3.1526e-01 -4.4465e-01  8.7281e-02  3.2880e-01 -1.7809e-02 -2.3855e-01\n",
      " -1.2848e-01  4.1509e-02  4.6728e-01  4.8214e-01  1.0548e-01  6.5805e-02\n",
      "  6.7221e-02  1.3321e-01 -2.7856e-01  1.5532e-02  3.0026e-01  3.8748e-01\n",
      " -1.4401e-01 -1.6131e-01  1.7678e-01  1.6448e-01 -3.2440e-01  7.9370e-03\n",
      " -2.2836e+00  9.6945e-02  6.6131e-01  1.6857e-01 -2.8877e-02 -1.0791e-01\n",
      " -2.7445e-02 -2.5695e-01  4.6686e-02  2.3087e-01 -7.6458e-02  2.7127e-01\n",
      "  2.5185e-01  5.4947e-02 -3.6673e-01 -3.8603e-01  3.0290e-01  1.5747e-02\n",
      "  3.4036e-01  4.7841e-01  6.8617e-02  1.8351e-01 -2.9183e-01 -4.6533e-02]\n",
      "(300,)\n",
      "to [-2.5756e-01 -5.7132e-02 -6.7190e-01 -3.8082e-01 -3.6421e-01 -8.2155e-02\n",
      " -1.0955e-02 -8.2047e-02  4.6056e-01 -1.8477e+00 -1.1258e-01 -1.2955e-01\n",
      "  2.7254e-01  7.2891e-03  2.6038e-01  1.2096e-01 -2.3193e-01  3.2260e-02\n",
      " -2.9472e-01 -6.7594e-01 -3.3844e-01 -2.3297e-01  1.1020e-01  1.8816e-01\n",
      " -4.5184e-01 -3.3833e-01  1.1274e-01  4.9490e-01 -4.2132e-02  7.9961e-02\n",
      " -1.3146e-02  6.2284e-02  2.0223e-01  3.8279e-02 -1.1154e+00 -1.2140e-01\n",
      "  8.9846e-02  2.9702e-01 -5.5794e-02 -4.6021e-01 -1.3194e-01  8.7357e-02\n",
      " -2.7865e-01  1.4981e-01  2.5536e-01  1.6698e-01 -4.4520e-02  6.7588e-02\n",
      " -1.1772e-01 -1.3452e-01  2.8694e-01 -3.9844e-01 -1.2806e-01 -4.7818e-01\n",
      "  6.7802e-02  2.0353e-01 -3.0677e-01  6.0789e-01 -1.8588e-01  1.1997e-01\n",
      " -4.0508e-02 -6.5860e-02  3.0621e-01 -5.5824e-02  3.9448e-02 -4.5570e-01\n",
      "  2.1081e-01  2.5889e-01  1.4666e-01  3.0950e-01  1.4343e-01  1.0524e-01\n",
      "  1.5788e-01  1.0300e-01  3.2211e-01 -2.7939e-01 -1.7139e-01  3.2202e-01\n",
      "  1.0784e-01 -2.8209e-01  1.2611e-01 -2.3913e-01 -8.9638e-02 -3.9179e-01\n",
      " -2.6402e-01  3.6796e-01 -2.3691e-01  6.2503e-01 -2.7226e-02 -3.8851e-02\n",
      " -3.7359e-01  4.5442e-02 -1.7169e-01 -5.4477e-01 -9.1772e-02 -3.2952e-01\n",
      " -2.5522e-01  8.7106e-02  4.8685e-02 -3.1684e-01 -6.4198e-02  4.4885e-02\n",
      " -4.9587e-01  4.2900e-01  3.6198e-01 -1.4682e-01  2.0122e-01 -3.0038e-02\n",
      "  1.8736e-01  3.1626e-01  5.9023e-02 -1.3473e-01 -4.0664e-01 -5.2983e-01\n",
      "  7.2459e-02  8.2531e-02 -3.2495e-01 -6.6910e-03  4.3564e-01 -1.2976e-01\n",
      " -2.6293e-01  1.5975e-01  2.5062e-01 -6.4732e-02 -3.0689e-01  1.6084e-01\n",
      "  4.5830e-01  3.8565e-01  1.2612e-01 -8.0485e-04  1.8055e-01  2.4757e-01\n",
      "  5.5680e-01  2.1701e-01  3.3105e-01  1.1991e-01  2.7257e-03 -1.0679e-01\n",
      " -1.6922e-01  2.5277e-01  3.6024e-01 -4.7620e-01 -2.0035e-01  3.8473e-01\n",
      " -7.1653e-01 -1.3788e-01 -1.2201e-01 -1.6979e-01 -2.9624e-01 -1.0344e-02\n",
      "  1.9216e-01  6.3375e-02  3.0977e-01 -1.9759e-01  5.7419e-01  3.4018e-01\n",
      " -3.4795e-01 -8.5304e-02 -2.8243e-02 -3.9182e-01  2.3797e-01 -9.2997e-02\n",
      "  1.1981e-01 -2.3680e-01  9.8179e-02  8.3047e-02  1.2652e-01  1.6026e-01\n",
      " -1.4166e-01  1.4296e-01 -1.2868e-01  1.8181e-01 -4.2337e-01  1.8061e-01\n",
      " -5.1635e-02 -1.7987e-01 -9.7071e-02  1.3755e-03 -4.2539e-01  5.6817e-01\n",
      "  5.7432e-02  3.1577e-01  1.8918e-01  2.7639e-01 -3.9906e-01  1.8594e-01\n",
      " -5.4231e-01  6.1376e-01  3.7921e-01  1.3660e-01 -3.9842e-01  5.8557e-01\n",
      "  5.4558e-02  6.1801e-02  3.2546e-01 -1.9615e-01 -3.4329e-02 -1.3225e-02\n",
      "  6.7854e-01 -1.6672e-01  9.2439e-01  1.1952e-01  4.0351e-02  3.5368e-01\n",
      " -2.5573e-01  2.6648e-01 -2.0954e-02  1.8535e-01  6.2376e-02 -2.2976e-01\n",
      " -7.4563e-02 -3.2890e-01  2.8535e-01  4.6959e-01 -5.4324e-01  1.4124e-01\n",
      "  1.9964e-01  1.5410e-01  2.4155e-02  1.4400e-01  3.0989e-01 -1.5989e-01\n",
      " -1.1611e-01  9.1020e-02 -5.0317e-01 -3.3662e-01  5.9168e-02  4.3838e-01\n",
      " -1.4280e-01 -5.3718e-03  4.6505e-02  2.1546e-01  6.5006e-02 -3.5175e-01\n",
      " -1.7137e-01  2.0467e-01 -7.1730e-02  4.0879e-01  2.0295e-01 -1.4211e-02\n",
      " -2.1898e-01 -1.2831e-01  3.2240e-01  1.7608e-01 -6.0267e-01  3.6737e-02\n",
      "  5.4848e-01 -4.7682e-01 -5.6556e-01 -8.3633e-02  3.2302e-02 -2.5262e-01\n",
      "  3.9481e-01 -1.9623e-02  6.2547e-01 -1.1369e-01 -2.5727e-01  7.3363e-02\n",
      "  1.8437e-01  1.4587e-01  3.2708e-01 -5.2049e-01  3.7555e-02  2.3667e-02\n",
      " -6.8237e-02 -2.2916e-01  1.7755e-02 -1.8394e-01  5.5107e-01 -2.3965e-01\n",
      "  3.9187e-01 -1.7785e-02  4.3113e-01  2.7181e-01 -1.6043e-01 -3.4700e-01\n",
      " -2.4194e+00 -2.8952e-02  9.5085e-01  5.8040e-02 -2.3623e-01  1.8914e-01\n",
      "  3.1192e-01  2.3064e-01 -3.0309e-01 -1.8603e-01  7.6180e-02  3.7337e-01\n",
      " -1.4444e-01 -2.8793e-02 -1.2806e-02 -5.9707e-01  3.1734e-01 -2.5267e-01\n",
      "  5.4384e-01  6.3007e-02 -4.9795e-02 -1.6043e-01  4.6744e-02 -7.0621e-02]\n",
      "(300,)\n",
      "and [ 0.038466  -0.039792   0.082747  -0.38923   -0.21431    0.1702\n",
      " -0.025657   0.09578    0.2386    -1.6342     0.14332   -0.037958\n",
      " -0.019583   0.38494    0.097319   0.29697   -0.34523    0.11742\n",
      " -0.024189   0.16013    0.09824    0.12811   -0.17482    0.20976\n",
      " -0.22362   -0.20656    0.24428    0.066875  -0.12594   -0.015706\n",
      "  0.064986   0.4754    -0.055405   0.54286   -0.75188   -0.083218\n",
      "  0.17896    0.073084  -0.3033    -0.17416   -0.17147   -0.1192\n",
      "  0.038308  -0.2066     0.088679  -0.055993   0.361      0.38658\n",
      " -0.055434   0.097699   0.3686    -0.326      0.13023   -0.29897\n",
      " -0.24709    0.051869   0.030422   0.18586   -0.046117  -0.14765\n",
      "  0.35895    0.10094   -0.087822  -0.17514   -0.25403   -0.35855\n",
      "  0.15801   -0.027074   0.12565   -0.17509   -0.13126   -0.13916\n",
      "  0.053628  -0.049429   0.051938  -0.048684   0.071719   0.080952\n",
      " -0.20018   -0.10871   -0.26707   -0.35727    0.3712     0.016709\n",
      " -0.034959  -0.047711   0.0024827  0.10847    0.0089053 -0.14874\n",
      "  0.046014   0.42702   -0.24684    0.12193   -0.27579    0.25844\n",
      " -0.20991   -0.086667   0.14767   -0.17441    0.17054   -0.30868\n",
      " -0.08797   -0.17195   -0.11743    0.12146    0.069268   0.13311\n",
      " -0.13565   -0.24855   -0.0026393 -0.71169   -0.32594   -0.36397\n",
      "  0.053331   0.35714   -0.30035    0.041583  -0.11996   -0.02368\n",
      "  0.016728   0.15869   -0.16491   -0.2782    -0.13788    0.10178\n",
      " -0.24177    0.096347   0.2367     0.20885   -0.28867    0.10772\n",
      "  0.15562   -0.012284  -0.22161   -0.1017     0.1257    -0.29579\n",
      " -0.0089604  0.35075    0.020088   0.020389   0.0038884  0.31869\n",
      " -0.19848    0.060458   0.28148   -0.23499   -0.17035   -0.22323\n",
      "  0.57975    0.26464   -0.10124    0.081058   0.14029    0.066431\n",
      " -0.12212    0.040034   0.027548  -0.1476     0.31438   -0.23046\n",
      "  0.2645    -0.10945   -0.39033    0.1266    -0.030951   0.067389\n",
      "  0.16807    0.22373    0.13502    0.38235   -0.52807    0.54013\n",
      " -0.043062   0.093211   0.045211  -0.24291   -0.49781    0.26425\n",
      "  0.0264     0.14347    0.11763   -0.011614   0.097932  -0.26632\n",
      " -0.22143    0.25156    0.08128    0.10937   -0.12199    0.019255\n",
      " -0.33463   -0.18181    0.064724   0.22921   -0.032425  -0.27295\n",
      "  0.31983    0.16134    0.93692   -0.1214    -0.012617   0.25274\n",
      "  0.24615    0.13214    0.16092    0.20576   -0.051567  -0.3784\n",
      "  0.19761    0.16993   -0.087151   0.026922   0.38035    0.083349\n",
      "  0.24715   -0.1094     0.15459   -0.051741   0.16604   -0.21335\n",
      " -0.030744  -0.14574   -0.50462    0.34825   -0.12343    0.17733\n",
      "  0.2857    -0.30467   -0.15095    0.30346   -0.15678    0.064804\n",
      " -0.073008   0.26499    0.16312    0.11889   -0.63938    0.15598\n",
      " -0.23643    0.59644    0.38748    0.3358    -0.58647    0.12584\n",
      "  0.36144   -0.33622    0.38128   -0.10348    0.18825   -0.33686\n",
      "  0.0058178 -0.1345     0.55511   -0.056443   0.15094   -0.28438\n",
      "  0.025488   0.20392    0.052712  -0.45719    0.089267   0.095469\n",
      " -0.19022   -0.17101   -0.37599   -0.182     -0.065605  -0.061388\n",
      " -0.19467   -0.070368  -0.23977    0.39253   -0.21283    0.17221\n",
      " -1.867     -0.22609    0.53976   -0.3358    -0.48587   -0.050246\n",
      "  0.31694   -0.15536    0.12244    0.38356   -0.1389     0.41886\n",
      "  0.23664   -0.31113    0.045194  -0.20405   -0.21097   -0.11025\n",
      "  0.021766   0.44129    0.32797   -0.33427    0.011807   0.059703 ]\n",
      "(300,)\n"
     ]
    }
   ],
   "source": [
    "i = 0\n",
    "for key, value in embedding_index.items():\n",
    "    if i>5:\n",
    "        break\n",
    "    print(key, value)\n",
    "    print(value.shape)\n",
    "    i += 1"
   ]
  },
  {
   "cell_type": "code",
   "execution_count": 12,
   "metadata": {},
   "outputs": [
    {
     "data": {
      "text/plain": [
       "'there might be something here or there perhaps its not too late'"
      ]
     },
     "execution_count": 12,
     "metadata": {},
     "output_type": "execute_result"
    }
   ],
   "source": [
    "from simplifier import *\n",
    "translator = str.maketrans('', '', string.punctuation)\n",
    "# line = \"There might be something here, or there.\"\n",
    "# line = line.translate(translator)\n",
    "# line\n",
    "clean([\"There might be something, here or  there. Perhaps, it's not too late!\"])"
   ]
  },
  {
   "cell_type": "code",
   "execution_count": 13,
   "metadata": {},
   "outputs": [],
   "source": [
    "clean_txt = clean(train_ori_src)"
   ]
  },
  {
   "cell_type": "code",
   "execution_count": 14,
   "metadata": {},
   "outputs": [
    {
     "data": {
      "text/plain": [
       "[\"There is manuscript evidence that Austen continued to work on these pieces as late as the period 1809 â '' 11 , and that her niece and nephew , Anna and James Edward Austen , made further additions as late as 1814 .\\n\",\n",
       " \"In a remarkable comparative analysis , Mandaean scholar Säve-Söderberg demonstrated that Mani 's Psalms of Thomas were closely related to Mandaean texts .\\n\"]"
      ]
     },
     "execution_count": 14,
     "metadata": {},
     "output_type": "execute_result"
    }
   ],
   "source": [
    "train_ori_src[0:2]"
   ]
  },
  {
   "cell_type": "code",
   "execution_count": 15,
   "metadata": {},
   "outputs": [
    {
     "data": {
      "text/plain": [
       "'there is manuscript evidence that austen continued to work on these pieces as late as the period 1809 a 11 and that her niece and nephew anna and james edward austen made further additions as late as 1814in a remarkable comparative analysis mandaean scholar savesoderberg demonstrated that mani s psalms of thomas were closely related to mandaean textsbefore persephone was released to hermes who had'"
      ]
     },
     "execution_count": 15,
     "metadata": {},
     "output_type": "execute_result"
    }
   ],
   "source": [
    "clean_txt[0:400]"
   ]
  },
  {
   "cell_type": "code",
   "execution_count": null,
   "metadata": {},
   "outputs": [],
   "source": []
  },
  {
   "cell_type": "code",
   "execution_count": 16,
   "metadata": {},
   "outputs": [
    {
     "name": "stdout",
     "output_type": "stream",
     "text": [
      "['there', 'is', 'manuscript', 'evidence', 'that', 'austen', 'continued', 'to', 'work', 'on', 'these', 'pieces', 'as', 'late', 'as', 'the', 'period', '1809', 'a', '11', 'and', 'that', 'her', 'niece', 'and', 'nephew', 'anna', 'and', 'james', 'edward'] \n",
      "\n",
      "Total tokens :  6271479\n"
     ]
    }
   ],
   "source": [
    "token_list_src = nltk.word_tokenize(clean_txt)\n",
    "print(token_list_src[0:30],\"\\n\")\n",
    "print(\"Total tokens : \", len(token_list_src))"
   ]
  },
  {
   "cell_type": "code",
   "execution_count": 17,
   "metadata": {},
   "outputs": [
    {
     "name": "stdout",
     "output_type": "stream",
     "text": [
      "['there', 'is', 'manuscript', 'evidence', 'that', 'continued', 'to', 'work', 'on', 'these', 'pieces', 'as', 'late', 'as', 'the', 'period', 'a', 'and', 'that', 'her'] \n",
      "\n",
      "Total tokens :  5244402\n"
     ]
    }
   ],
   "source": [
    "# comparison with source tokens when entities replaced by placeholders\n",
    "token_list_with_ent_src = nltk.word_tokenize(clean(train_src))\n",
    "print(token_list_with_ent_src[0:20],\"\\n\")\n",
    "print(\"Total tokens : \", len(token_list_with_ent_src))"
   ]
  },
  {
   "cell_type": "code",
   "execution_count": 18,
   "metadata": {},
   "outputs": [
    {
     "data": {
      "text/plain": [
       "360639"
      ]
     },
     "execution_count": 18,
     "metadata": {},
     "output_type": "execute_result"
    }
   ],
   "source": [
    "#total vocabulary size in source\n",
    "len(set(token_list_src))"
   ]
  },
  {
   "cell_type": "markdown",
   "metadata": {},
   "source": [
    "### Looking at the frequencies"
   ]
  },
  {
   "cell_type": "code",
   "execution_count": 219,
   "metadata": {},
   "outputs": [
    {
     "name": "stdout",
     "output_type": "stream",
     "text": [
      "49395\n"
     ]
    },
    {
     "data": {
      "text/plain": [
       "[('the', 415025),\n",
       " ('of', 240217),\n",
       " ('in', 187899),\n",
       " ('and', 181729),\n",
       " ('a', 160024),\n",
       " ('is', 120225),\n",
       " ('to', 104181),\n",
       " ('lrb', 87952),\n",
       " ('rrb', 71454),\n",
       " ('was', 62169)]"
      ]
     },
     "execution_count": 219,
     "metadata": {},
     "output_type": "execute_result"
    }
   ],
   "source": [
    "\n",
    "token_list_src_over_threshold = build_vocabulary(tokenize(clean(train_ori_src)), threshold=5)\n",
    "vocabulary_size_source = len(token_list_src_over_threshold) + 1\n",
    "print(vocabulary_size_source)\n",
    "token_list_src_over_threshold[:10]"
   ]
  },
  {
   "cell_type": "markdown",
   "metadata": {},
   "source": [
    "### Which words/tokens from corpus are missing in GloVe; obviously lots of misspelled/not properly separated words."
   ]
  },
  {
   "cell_type": "code",
   "execution_count": 220,
   "metadata": {},
   "outputs": [
    {
     "data": {
      "text/plain": [
       "7526"
      ]
     },
     "execution_count": 220,
     "metadata": {},
     "output_type": "execute_result"
    }
   ],
   "source": [
    "not_in_GloVe = []\n",
    "for word, _ in token_list_src_over_threshold:\n",
    "    if word not in embedding_index:\n",
    "        not_in_GloVe.append(word)\n",
    "len(not_in_GloVe)"
   ]
  },
  {
   "cell_type": "markdown",
   "metadata": {},
   "source": [
    "### Using spell checker a la Norvig"
   ]
  },
  {
   "cell_type": "code",
   "execution_count": 19,
   "metadata": {},
   "outputs": [],
   "source": [
    "from spellchecker import *"
   ]
  },
  {
   "cell_type": "code",
   "execution_count": 20,
   "metadata": {},
   "outputs": [
    {
     "data": {
      "text/plain": [
       "['umbrella', 'as']"
      ]
     },
     "execution_count": 20,
     "metadata": {},
     "output_type": "execute_result"
    }
   ],
   "source": [
    "separate_words(\"umbrellaas\", embedding_index)"
   ]
  },
  {
   "cell_type": "markdown",
   "metadata": {},
   "source": [
    "#### Separating a word not in the embedding might give two words in the embedding. Run a couple of times, to see that the number of words not in GloVe decreases"
   ]
  },
  {
   "cell_type": "code",
   "execution_count": 233,
   "metadata": {},
   "outputs": [
    {
     "data": {
      "text/plain": [
       "579"
      ]
     },
     "execution_count": 233,
     "metadata": {},
     "output_type": "execute_result"
    }
   ],
   "source": [
    "for word in not_in_GloVe:\n",
    "    if len(separate_words(word, embedding_index))>1:\n",
    "        not_in_GloVe.remove(word)\n",
    "        \n",
    "len(not_in_GloVe)"
   ]
  },
  {
   "cell_type": "code",
   "execution_count": 234,
   "metadata": {},
   "outputs": [
    {
     "data": {
      "text/plain": [
       "['pasdecalais',\n",
       " 'nordpasdecalais',\n",
       " 'paysdelaloire',\n",
       " 'provencealpesc',\n",
       " 'payperview',\n",
       " 'bouchesdurh',\n",
       " 'directtovideo',\n",
       " 'rttemberg',\n",
       " 'encyclopdia',\n",
       " 'sseldorf',\n",
       " 'bouchesdurhone',\n",
       " 'commanderinchief',\n",
       " 'provencealpescote',\n",
       " 'blackandwhite',\n",
       " 'zaglossus',\n",
       " 'aurantifolia',\n",
       " 'urttemberg',\n",
       " 'seyssinquart',\n",
       " 'esatlantiques',\n",
       " 'encyclopa']"
      ]
     },
     "execution_count": 234,
     "metadata": {},
     "output_type": "execute_result"
    }
   ],
   "source": [
    "not_in_GloVe[:20]"
   ]
  },
  {
   "cell_type": "code",
   "execution_count": 237,
   "metadata": {},
   "outputs": [],
   "source": [
    "improved_token_list = improve_token_list([x[0] for x in token_list_src_over_threshold], \\\n",
    "                                         embedding_index, separate_words)"
   ]
  },
  {
   "cell_type": "code",
   "execution_count": 247,
   "metadata": {},
   "outputs": [],
   "source": [
    "improved_token_list = improve_token_list([x for x in improved_token_list], \\\n",
    "                                         embedding_index, separate_words)"
   ]
  },
  {
   "cell_type": "code",
   "execution_count": 248,
   "metadata": {},
   "outputs": [
    {
     "data": {
      "text/plain": [
       "44461"
      ]
     },
     "execution_count": 248,
     "metadata": {},
     "output_type": "execute_result"
    }
   ],
   "source": [
    "improved_token_list = list((set(improved_token_list)))\n",
    "len(improved_token_list)"
   ]
  },
  {
   "cell_type": "markdown",
   "metadata": {},
   "source": [
    "### Creating token-index-dictionary"
   ]
  },
  {
   "cell_type": "code",
   "execution_count": 249,
   "metadata": {},
   "outputs": [],
   "source": [
    "tokenizer_src = build_word2index(improved_token_list)"
   ]
  },
  {
   "cell_type": "code",
   "execution_count": 250,
   "metadata": {},
   "outputs": [
    {
     "data": {
      "text/plain": [
       "44462"
      ]
     },
     "execution_count": 250,
     "metadata": {},
     "output_type": "execute_result"
    }
   ],
   "source": [
    "len(tokenizer_src)"
   ]
  },
  {
   "cell_type": "code",
   "execution_count": 19,
   "metadata": {},
   "outputs": [],
   "source": [
    "import pickle\n",
    "with open('tokenizer_src.pkl', 'wb') as file:\n",
    "    pickle.dump(tokenizer_src, file, protocol=pickle.HIGHEST_PROTOCOL)\n",
    "\n",
    "# #to load\n",
    "# with open('tokenizer_src.pkl', 'rb') as file:\n",
    "#     tokenizer_src = pickle.load(file)\n",
    "\n"
   ]
  },
  {
   "cell_type": "markdown",
   "metadata": {},
   "source": [
    "### embedding matrix to use the GloVe embedding in the model later"
   ]
  },
  {
   "cell_type": "code",
   "execution_count": 108,
   "metadata": {},
   "outputs": [],
   "source": [
    "embedding_size = 300 # GloVe 100d\n",
    "vocabulary_size_source = len(tokenizer_src)+1\n",
    "embedding_matrix = np.zeros((vocabulary_size_source, embedding_size))\n",
    "for word, idx in tokenizer_src.items():\n",
    "    embedding_vector = embedding_index.get(word)\n",
    "    if embedding_vector is not None:\n",
    "        embedding_matrix[idx] = embedding_vector"
   ]
  },
  {
   "cell_type": "code",
   "execution_count": 111,
   "metadata": {},
   "outputs": [
    {
     "data": {
      "text/plain": [
       "(44463, 300)"
      ]
     },
     "execution_count": 111,
     "metadata": {},
     "output_type": "execute_result"
    }
   ],
   "source": [
    "embedding_matrix.shape"
   ]
  },
  {
   "cell_type": "code",
   "execution_count": null,
   "metadata": {},
   "outputs": [],
   "source": []
  },
  {
   "cell_type": "code",
   "execution_count": 21,
   "metadata": {},
   "outputs": [
    {
     "data": {
      "text/plain": [
       "'Sirius left Portsmouth on 13 May 1787 , and arrived at Port Jackson on 26 January 1788 .\\n'"
      ]
     },
     "execution_count": 21,
     "metadata": {},
     "output_type": "execute_result"
    }
   ],
   "source": [
    "test = train_ori_src[120]\n",
    "test"
   ]
  },
  {
   "cell_type": "code",
   "execution_count": 22,
   "metadata": {},
   "outputs": [
    {
     "data": {
      "text/plain": [
       "16"
      ]
     },
     "execution_count": 22,
     "metadata": {},
     "output_type": "execute_result"
    }
   ],
   "source": [
    "len(tokenizer(test))"
   ]
  },
  {
   "cell_type": "markdown",
   "metadata": {},
   "source": [
    "### Let's look at sentence lengths"
   ]
  },
  {
   "cell_type": "code",
   "execution_count": 23,
   "metadata": {},
   "outputs": [],
   "source": [
    "lengths=[]\n",
    "lengths = [len((tokenizer(x))) for x in train_ori_src]"
   ]
  },
  {
   "cell_type": "code",
   "execution_count": 24,
   "metadata": {},
   "outputs": [
    {
     "name": "stdout",
     "output_type": "stream",
     "text": [
      "min 0\n",
      "mean 22.678625650299256\n",
      "max 104\n",
      "std 11.685398987054729\n"
     ]
    }
   ],
   "source": [
    "print(\"min\", np.min(lengths))\n",
    "print(\"mean\", np.mean(lengths))\n",
    "print(\"max\", np.max(lengths))\n",
    "print(\"std\", np.std(lengths))"
   ]
  },
  {
   "cell_type": "code",
   "execution_count": 25,
   "metadata": {},
   "outputs": [
    {
     "data": {
      "image/png": "[encoded data removed]",
      "text/plain": [
       "<Figure size 432x288 with 1 Axes>"
      ]
     },
     "metadata": {
      "needs_background": "light"
     },
     "output_type": "display_data"
    }
   ],
   "source": [
    "%matplotlib inline\n",
    "import matplotlib.pyplot as plt\n",
    "plt.hist(lengths, bins=100)\n",
    "plt.show()\n",
    "plt.close()"
   ]
  },
  {
   "cell_type": "code",
   "execution_count": 26,
   "metadata": {},
   "outputs": [
    {
     "data": {
      "text/plain": [
       "26105"
      ]
     },
     "execution_count": 26,
     "metadata": {},
     "output_type": "execute_result"
    }
   ],
   "source": [
    "np.argmax(lengths)"
   ]
  },
  {
   "cell_type": "code",
   "execution_count": 27,
   "metadata": {},
   "outputs": [
    {
     "data": {
      "text/plain": [
       "607"
      ]
     },
     "execution_count": 27,
     "metadata": {},
     "output_type": "execute_result"
    }
   ],
   "source": [
    "np.argmin(lengths)"
   ]
  },
  {
   "cell_type": "code",
   "execution_count": 28,
   "metadata": {},
   "outputs": [
    {
     "data": {
      "text/plain": [
       "'DreamWorks Animation has produced some of the highest grossing animated hits of all time , such as Antz -LRB-/O1998/O-RRB- , The Prince of Egypt -LRB-/O1998/O-RRB- , Shrek -LRB-/O2001/O-RRB- , its sequels Shrek 2 -LRB-/O2004/O-RRB- , Shrek the Third -LRB-/O2007/O-RRB- and Shrek Forever After -LRB-/O2010/O-RRB- ; Shark Tale -LRB-/O2004/O-RRB- , Madagascar -LRB-/O2005/O-RRB- , Over the Hedge -LRB-/O2006/O-RRB- , Flushed Away -LRB-/O2006/O-RRB- , Bee Movie -LRB-/O2007/O-RRB- , Kung Fu Panda -LRB-/O2008/O-RRB- and How to Train Your Dragon -LRB-/O2010/O-RRB- .\\n'"
      ]
     },
     "execution_count": 28,
     "metadata": {},
     "output_type": "execute_result"
    }
   ],
   "source": [
    "train_ori_src[26105]"
   ]
  },
  {
   "cell_type": "code",
   "execution_count": 29,
   "metadata": {},
   "outputs": [
    {
     "data": {
      "text/plain": [
       "\"! ''\\n\""
      ]
     },
     "execution_count": 29,
     "metadata": {},
     "output_type": "execute_result"
    }
   ],
   "source": [
    "train_ori_src[607]"
   ]
  },
  {
   "cell_type": "code",
   "execution_count": null,
   "metadata": {},
   "outputs": [],
   "source": []
  },
  {
   "cell_type": "code",
   "execution_count": 30,
   "metadata": {},
   "outputs": [
    {
     "data": {
      "text/plain": [
       "104"
      ]
     },
     "execution_count": 30,
     "metadata": {},
     "output_type": "execute_result"
    }
   ],
   "source": [
    "sentence_length = max(lengths)\n",
    "sentence_length"
   ]
  },
  {
   "cell_type": "code",
   "execution_count": 31,
   "metadata": {},
   "outputs": [],
   "source": [
    "train_x = np.array([encode(tokenizer(line), \\\n",
    "                            tokenizer_src, sentence_length, pad=True) for line in \\\n",
    "                    train_ori_src]).reshape(-1, sentence_length)"
   ]
  },
  {
   "cell_type": "code",
   "execution_count": 32,
   "metadata": {},
   "outputs": [],
   "source": [
    "valid_x = np.array([encode(tokenizer(line), \\\n",
    "                            tokenizer_src, sentence_length, pad=True) for line in \\\n",
    "                    valid_ori_src]).reshape(-1, sentence_length)"
   ]
  },
  {
   "cell_type": "code",
   "execution_count": 33,
   "metadata": {},
   "outputs": [
    {
     "data": {
      "text/plain": [
       "(296402, 104)"
      ]
     },
     "execution_count": 33,
     "metadata": {},
     "output_type": "execute_result"
    }
   ],
   "source": [
    "train_x.shape"
   ]
  },
  {
   "cell_type": "code",
   "execution_count": 34,
   "metadata": {},
   "outputs": [
    {
     "data": {
      "text/plain": [
       "(992, 104)"
      ]
     },
     "execution_count": 34,
     "metadata": {},
     "output_type": "execute_result"
    }
   ],
   "source": [
    "valid_x.shape"
   ]
  },
  {
   "cell_type": "code",
   "execution_count": 35,
   "metadata": {},
   "outputs": [
    {
     "data": {
      "text/plain": [
       "'jumper'"
      ]
     },
     "execution_count": 35,
     "metadata": {},
     "output_type": "execute_result"
    }
   ],
   "source": [
    "get_word(3760, tokenizer_src)"
   ]
  },
  {
   "cell_type": "code",
   "execution_count": null,
   "metadata": {},
   "outputs": [],
   "source": []
  },
  {
   "cell_type": "code",
   "execution_count": 36,
   "metadata": {},
   "outputs": [
    {
     "name": "stdout",
     "output_type": "stream",
     "text": [
      "['Plays and comic puppet theater loosely based on this legend were popular throughout Germany in the 16th century , often reducing Faust and Mephistopheles to figures of vulgar fun .\\n']\n",
      "[['plays', 'and', 'comic', 'puppet', 'theater', 'loosely', 'based', 'on', 'this', 'legend', 'were', 'popular', 'throughout', 'germany', 'in', 'the', '16th', 'century', 'often', 'reducing', 'faust', 'and', 'mephistopheles', 'to', 'figures', 'of', 'vulgar', 'fun']]\n",
      "[[19836 34158 12961  5118  1760 38990 12622 14349 41564 42102  9777 34899\n",
      "  35495 31042 41123 20862 44462 31161 20562 44376 18287 34158  5434 18657\n",
      "   5447 15440 43334 38851     0     0     0     0     0     0     0     0\n",
      "      0     0     0     0     0     0     0     0     0     0     0     0\n",
      "      0     0     0     0     0     0     0     0     0     0     0     0\n",
      "      0     0     0     0     0     0     0     0     0     0     0     0\n",
      "      0     0     0     0     0     0     0     0     0     0     0     0\n",
      "      0     0     0     0     0     0     0     0     0     0     0     0\n",
      "      0     0     0     0     0     0     0     0]]\n"
     ]
    }
   ],
   "source": [
    "print(train_ori_src[12:13])\n",
    "print([tokenizer(line) for line in train_ori_src[12:13]])\n",
    "print(train_x[12:13])"
   ]
  },
  {
   "cell_type": "code",
   "execution_count": 37,
   "metadata": {},
   "outputs": [],
   "source": [
    "lengths_dst = [len((tokenizer(x))) for x in train_ori_dst]"
   ]
  },
  {
   "cell_type": "code",
   "execution_count": 38,
   "metadata": {},
   "outputs": [
    {
     "name": "stdout",
     "output_type": "stream",
     "text": [
      "min 0\n",
      "mean 16.679013636885042\n",
      "max 80\n",
      "std 10.492046320896975\n"
     ]
    }
   ],
   "source": [
    "print(\"min\", np.min(lengths_dst))\n",
    "print(\"mean\", np.mean(lengths_dst))\n",
    "print(\"max\", np.max(lengths_dst))\n",
    "print(\"std\", np.std(lengths_dst))"
   ]
  },
  {
   "cell_type": "code",
   "execution_count": 39,
   "metadata": {},
   "outputs": [
    {
     "data": {
      "image/png": "[encoded data removed]",
      "text/plain": [
       "<Figure size 432x288 with 1 Axes>"
      ]
     },
     "metadata": {
      "needs_background": "light"
     },
     "output_type": "display_data"
    }
   ],
   "source": [
    "%matplotlib inline\n",
    "import matplotlib.pyplot as plt\n",
    "plt.hist(lengths_dst, bins=100)\n",
    "plt.show()\n",
    "plt.close()"
   ]
  },
  {
   "cell_type": "code",
   "execution_count": 40,
   "metadata": {},
   "outputs": [
    {
     "data": {
      "text/plain": [
       "80"
      ]
     },
     "execution_count": 40,
     "metadata": {},
     "output_type": "execute_result"
    }
   ],
   "source": [
    "sentence_length_dst = max(lengths_dst)\n",
    "sentence_length_dst"
   ]
  },
  {
   "cell_type": "markdown",
   "metadata": {},
   "source": [
    "### Look at output vocabulary"
   ]
  },
  {
   "cell_type": "code",
   "execution_count": 261,
   "metadata": {},
   "outputs": [
    {
     "name": "stdout",
     "output_type": "stream",
     "text": [
      "59331\n"
     ]
    },
    {
     "data": {
      "text/plain": [
       "[('the', 301255),\n",
       " ('of', 171100),\n",
       " ('in', 141875),\n",
       " ('a', 120124),\n",
       " ('and', 115201),\n",
       " ('is', 111754),\n",
       " ('to', 70890),\n",
       " ('lrb', 60090),\n",
       " ('was', 55131),\n",
       " ('rrb', 46459)]"
      ]
     },
     "execution_count": 261,
     "metadata": {},
     "output_type": "execute_result"
    }
   ],
   "source": [
    "token_list_dst_over_threshold = build_vocabulary(tokenize(clean(train_ori_dst)), threshold=3)\n",
    "vocabulary_size_dst = len(token_list_dst_over_threshold) + 1\n",
    "print(vocabulary_size_dst)\n",
    "token_list_dst_over_threshold[:10]"
   ]
  },
  {
   "cell_type": "code",
   "execution_count": 262,
   "metadata": {},
   "outputs": [
    {
     "name": "stdout",
     "output_type": "stream",
     "text": [
      "51596\n"
     ]
    }
   ],
   "source": [
    "improved_token_list_dst = improve_token_list([x[0] for x in token_list_dst_over_threshold], \\\n",
    "                                         embedding_index, separate_words)\n",
    "improved_token_list_dst = list((set(improved_token_list_dst)))\n",
    "vocabulary_size_dst = len(improved_token_list_dst) + 1\n",
    "print(vocabulary_size_dst)"
   ]
  },
  {
   "cell_type": "code",
   "execution_count": 281,
   "metadata": {},
   "outputs": [
    {
     "data": {
      "text/plain": [
       "(54605, 49265)"
      ]
     },
     "execution_count": 281,
     "metadata": {},
     "output_type": "execute_result"
    }
   ],
   "source": [
    "improved_token_list_dst = improve_token_list([x for x in improved_token_list_dst], \\\n",
    "                                         embedding_index, separate_words)\n",
    "len(improved_token_list_dst), len(set(improved_token_list_dst))"
   ]
  },
  {
   "cell_type": "code",
   "execution_count": 282,
   "metadata": {},
   "outputs": [
    {
     "data": {
      "text/plain": [
       "841"
      ]
     },
     "execution_count": 282,
     "metadata": {},
     "output_type": "execute_result"
    }
   ],
   "source": [
    "not_in_GloVe = []\n",
    "for word in improved_token_list_dst:\n",
    "    if word not in embedding_index:\n",
    "        not_in_GloVe.append(word)\n",
    "len(not_in_GloVe)"
   ]
  },
  {
   "cell_type": "code",
   "execution_count": 292,
   "metadata": {},
   "outputs": [
    {
     "data": {
      "text/plain": [
       "49269"
      ]
     },
     "execution_count": 292,
     "metadata": {},
     "output_type": "execute_result"
    }
   ],
   "source": [
    "tokenizer_dst = build_word2index(improved_token_list_dst, add_toc=True)\n",
    "vocabulary_size_dst = len(tokenizer_dst)+1\n",
    "vocabulary_size_dst"
   ]
  },
  {
   "cell_type": "code",
   "execution_count": 41,
   "metadata": {},
   "outputs": [],
   "source": [
    "import pickle\n",
    "with open('tokenizer_dst.pkl', 'wb') as file:\n",
    "    pickle.dump(tokenizer_dst, file, protocol=pickle.HIGHEST_PROTOCOL)\n",
    "\n",
    "# #to load\n",
    "# with open('tokenizer_dst.pkl', 'rb') as file:\n",
    "#     tokenizer_dst = pickle.load(file)\n",
    "\n"
   ]
  },
  {
   "cell_type": "code",
   "execution_count": 42,
   "metadata": {},
   "outputs": [],
   "source": [
    "train_y = np.array([encode(tokenizer(line, add_toc=True), \\\n",
    "                            tokenizer_dst, sentence_length_dst, pad=True) for line in \\\n",
    "                    train_ori_dst]).reshape(-1, sentence_length_dst)"
   ]
  },
  {
   "cell_type": "code",
   "execution_count": 43,
   "metadata": {},
   "outputs": [],
   "source": [
    "valid_y = np.array([encode(tokenizer(line, add_toc=True), \\\n",
    "                            tokenizer_dst, sentence_length_dst, pad=True) for line in \\\n",
    "                    valid_ori_dst]).reshape(-1, sentence_length_dst)"
   ]
  },
  {
   "cell_type": "code",
   "execution_count": 44,
   "metadata": {},
   "outputs": [
    {
     "data": {
      "text/plain": [
       "(296402, 80)"
      ]
     },
     "execution_count": 44,
     "metadata": {},
     "output_type": "execute_result"
    }
   ],
   "source": [
    "train_y.shape"
   ]
  },
  {
   "cell_type": "code",
   "execution_count": 45,
   "metadata": {},
   "outputs": [
    {
     "data": {
      "text/plain": [
       "(992, 80)"
      ]
     },
     "execution_count": 45,
     "metadata": {},
     "output_type": "execute_result"
    }
   ],
   "source": [
    "valid_y.shape"
   ]
  },
  {
   "cell_type": "code",
   "execution_count": 46,
   "metadata": {},
   "outputs": [
    {
     "data": {
      "text/plain": [
       "'There is some proof that Austen continued to work on these pieces later in life . Her nephew and niece , James Edward and Anna Austen , may have made further additions to her work in around 1814 .\\n'"
      ]
     },
     "execution_count": 46,
     "metadata": {},
     "output_type": "execute_result"
    }
   ],
   "source": [
    "train_ori_dst[0]"
   ]
  },
  {
   "cell_type": "code",
   "execution_count": 47,
   "metadata": {},
   "outputs": [
    {
     "data": {
      "text/plain": [
       "array([[49267, 35946, 32151,  8323, 45620, 13983,  4606, 12549, 20717,\n",
       "        35842, 15926, 21393,  5319, 32786, 45585, 37530, 22371, 44678,\n",
       "        37800, 44892, 18101,  6517, 37800, 14101,  4606, 32490, 32628,\n",
       "        25127, 21467, 32288, 20717, 22371, 35842, 45585, 34168, 35404,\n",
       "        49268,     0,     0,     0,     0,     0,     0,     0,     0,\n",
       "            0,     0,     0,     0,     0,     0,     0,     0,     0,\n",
       "            0,     0,     0,     0,     0,     0,     0,     0,     0,\n",
       "            0,     0,     0,     0,     0,     0,     0,     0,     0,\n",
       "            0,     0,     0,     0,     0,     0,     0,     0],\n",
       "       [49267, 29596, 23884, 15188, 49266, 43412, 13983, 28833, 11141,\n",
       "        24160, 17145,  8381, 10825, 39013, 44996, 20717, 29596,  5154,\n",
       "        49268,     0,     0,     0,     0,     0,     0,     0,     0,\n",
       "            0,     0,     0,     0,     0,     0,     0,     0,     0,\n",
       "            0,     0,     0,     0,     0,     0,     0,     0,     0,\n",
       "            0,     0,     0,     0,     0,     0,     0,     0,     0,\n",
       "            0,     0,     0,     0,     0,     0,     0,     0,     0,\n",
       "            0,     0,     0,     0,     0,     0,     0,     0,     0,\n",
       "            0,     0,     0,     0,     0,     0,     0,     0],\n",
       "       [49267,  7119,  1240, 20749, 20717, 23105, 33107, 20717, 23282,\n",
       "        22371, 33970, 48740, 34438, 33970, 20717,  6619, 23105,  9128,\n",
       "        31112, 35233,  4577, 46079, 43209, 36886,  1409, 46298, 20717,\n",
       "        44567, 22371, 45585, 23105, 33107, 25652, 48740, 39222, 35233,\n",
       "         4267, 46060, 34438, 20717, 11776, 25549, 49268,     0,     0,\n",
       "            0,     0,     0,     0,     0,     0,     0,     0,     0,\n",
       "            0,     0,     0,     0,     0,     0,     0,     0,     0,\n",
       "            0,     0,     0,     0,     0,     0,     0,     0,     0,\n",
       "            0,     0,     0,     0,     0,     0,     0,     0]],\n",
       "      dtype=int32)"
      ]
     },
     "execution_count": 47,
     "metadata": {},
     "output_type": "execute_result"
    }
   ],
   "source": [
    "train_y[0:3]"
   ]
  },
  {
   "cell_type": "code",
   "execution_count": 112,
   "metadata": {},
   "outputs": [
    {
     "data": {
      "text/plain": [
       "(49269, 300)"
      ]
     },
     "execution_count": 112,
     "metadata": {},
     "output_type": "execute_result"
    }
   ],
   "source": [
    "embedding_size = 300 # GloVe 100d\n",
    "vocabulary_size_dst = len(tokenizer_dst)+1\n",
    "embedding_dec_matrix = np.zeros((vocabulary_size_dst, embedding_size))\n",
    "for word, idx in tokenizer_dst.items():\n",
    "    embedding_vector = embedding_index.get(word)\n",
    "    if embedding_vector is not None:\n",
    "        embedding_dec_matrix[idx] = embedding_vector\n",
    "embedding_dec_matrix.shape"
   ]
  },
  {
   "cell_type": "code",
   "execution_count": 51,
   "metadata": {},
   "outputs": [],
   "source": [
    "from tensorflow.keras.callbacks import Callback\n",
    "class NeptuneMonitor(Callback):\n",
    "    def on_epoch_end(self, epoch, logs={}):\n",
    "        my_metric = logs['loss']\n",
    "        neptune.send_metric('Sparse Categorical Cross Entropy', epoch, my_metric)"
   ]
  },
  {
   "cell_type": "code",
   "execution_count": 484,
   "metadata": {},
   "outputs": [],
   "source": [
    "from model import *\n",
    "from simplifier import *"
   ]
  },
  {
   "cell_type": "code",
   "execution_count": 113,
   "metadata": {},
   "outputs": [],
   "source": [
    "model, encoder_model, decoder_model = build_ed_model(vocabulary_size_source, vocabulary_size_dst, sentence_length, \\\n",
    "                       sentence_length_dst, 300, use_emb=embedding_matrix, unfreeze_emb=False, \\\n",
    "                                                     use_dec_emb=embedding_dec_matrix, unfreeze_dec_emb=False)"
   ]
  },
  {
   "cell_type": "code",
   "execution_count": 114,
   "metadata": {},
   "outputs": [
    {
     "name": "stdout",
     "output_type": "stream",
     "text": [
      "Model: \"model_3\"\n",
      "__________________________________________________________________________________________________\n",
      "Layer (type)                    Output Shape         Param #     Connected to                     \n",
      "==================================================================================================\n",
      "input_5 (InputLayer)            [(None, None)]       0                                            \n",
      "__________________________________________________________________________________________________\n",
      "input_6 (InputLayer)            [(None, None)]       0                                            \n",
      "__________________________________________________________________________________________________\n",
      "embedding_2 (Embedding)         (None, None, 300)    13338900    input_5[0][0]                    \n",
      "__________________________________________________________________________________________________\n",
      "embedding_3 (Embedding)         (None, None, 300)    14780700    input_6[0][0]                    \n",
      "__________________________________________________________________________________________________\n",
      "lstm_2 (LSTM)                   [(None, 300), (None, 721200      embedding_2[0][0]                \n",
      "__________________________________________________________________________________________________\n",
      "lstm_3 (LSTM)                   [(None, None, 300),  721200      embedding_3[0][0]                \n",
      "                                                                 lstm_2[0][1]                     \n",
      "                                                                 lstm_2[0][2]                     \n",
      "__________________________________________________________________________________________________\n",
      "dense_1 (Dense)                 (None, None, 49269)  14829969    lstm_3[0][0]                     \n",
      "==================================================================================================\n",
      "Total params: 44,391,969\n",
      "Trainable params: 16,272,369\n",
      "Non-trainable params: 28,119,600\n",
      "__________________________________________________________________________________________________\n"
     ]
    }
   ],
   "source": [
    "model.summary()\n"
   ]
  },
  {
   "cell_type": "code",
   "execution_count": 115,
   "metadata": {},
   "outputs": [
    {
     "data": {
      "image/png": "[encoded data removed]",
      "text/plain": [
       "<IPython.core.display.Image object>"
      ]
     },
     "execution_count": 115,
     "metadata": {},
     "output_type": "execute_result"
    }
   ],
   "source": [
    "from tensorflow.keras.utils import plot_model\n",
    "plot_model(model, show_shapes=True)"
   ]
  },
  {
   "cell_type": "code",
   "execution_count": 135,
   "metadata": {},
   "outputs": [],
   "source": [
    "rms = optimizers.RMSprop(lr=0.0003)\n",
    "nadm =optimizers.Nadam(learning_rate=0.0005, beta_1=0.99, beta_2=0.99999)\n",
    "admx = optimizers.Adamax(learning_rate=0.0006, beta_1=0.999, beta_2=0.999999)\n",
    "model.compile(\n",
    "    #optimizer=rms,\n",
    "    optimizer=\"adam\",\n",
    "    #loss=\"categorical_crossentropy\",\n",
    "    loss=\"categorical_crossentropy\",\n",
    "    metrics=[\"accuracy\"]\n",
    ")\n"
   ]
  },
  {
   "cell_type": "code",
   "execution_count": 136,
   "metadata": {},
   "outputs": [
    {
     "data": {
      "text/plain": [
       "79"
      ]
     },
     "execution_count": 136,
     "metadata": {},
     "output_type": "execute_result"
    }
   ],
   "source": [
    "import gc\n",
    "gc.collect()"
   ]
  },
  {
   "cell_type": "code",
   "execution_count": null,
   "metadata": {},
   "outputs": [
    {
     "name": "stdout",
     "output_type": "stream",
     "text": [
      "Epoch 1/250\n",
      "4/5 [=======================>......] - ETA: 4s - loss: 2.6678 - acc: 0.1638Epoch 1/250\n",
      "16/5 [================================================================================================] - 19s 1s/step - loss: 2.0299 - acc: 0.0490\n",
      "5/5 [==============================] - 41s 8s/step - loss: 2.5660 - acc: 0.1437 - val_loss: 2.0678 - val_acc: 0.0490\n",
      "Epoch 2/250\n",
      "4/5 [=======================>......] - ETA: 3s - loss: 2.2123 - acc: 0.0500Epoch 1/250\n",
      "16/5 [================================================================================================] - 19s 1s/step - loss: 1.9812 - acc: 0.0535\n",
      "5/5 [==============================] - 37s 7s/step - loss: 2.1053 - acc: 0.0519 - val_loss: 1.7728 - val_acc: 0.0535\n",
      "Epoch 3/250\n",
      "4/5 [=======================>......] - ETA: 3s - loss: 1.6715 - acc: 0.0485Epoch 1/250\n",
      "16/5 [================================================================================================] - 19s 1s/step - loss: 1.6767 - acc: 0.0588\n",
      "5/5 [==============================] - 37s 7s/step - loss: 1.6058 - acc: 0.0500 - val_loss: 1.6587 - val_acc: 0.0588\n",
      "Epoch 4/250\n",
      "4/5 [=======================>......] - ETA: 3s - loss: 1.4776 - acc: 0.0754Epoch 1/250\n",
      "16/5 [================================================================================================] - 19s 1s/step - loss: 1.4866 - acc: 0.1181\n",
      "5/5 [==============================] - 37s 7s/step - loss: 1.4311 - acc: 0.0823 - val_loss: 1.6764 - val_acc: 0.1181\n",
      "Epoch 5/250\n",
      "4/5 [=======================>......] - ETA: 3s - loss: 1.4342 - acc: 0.0985Epoch 1/250\n",
      "16/5 [================================================================================================] - 19s 1s/step - loss: 1.7563 - acc: 0.1156\n",
      "5/5 [==============================] - 37s 7s/step - loss: 1.3863 - acc: 0.1013 - val_loss: 1.7550 - val_acc: 0.1156\n",
      "Epoch 6/250\n",
      "4/5 [=======================>......] - ETA: 3s - loss: 1.3988 - acc: 0.0985Epoch 1/250\n",
      "16/5 [================================================================================================] - 19s 1s/step - loss: 1.7389 - acc: 0.1162\n",
      "5/5 [==============================] - 37s 7s/step - loss: 1.3512 - acc: 0.1013 - val_loss: 1.7846 - val_acc: 0.1162\n",
      "Epoch 7/250\n",
      "4/5 [=======================>......] - ETA: 3s - loss: 1.3854 - acc: 0.0985Epoch 1/250\n",
      "16/5 [================================================================================================] - 18s 1s/step - loss: 2.0952 - acc: 0.1141\n",
      "5/5 [==============================] - 37s 7s/step - loss: 1.3383 - acc: 0.1013 - val_loss: 1.8636 - val_acc: 0.1141\n",
      "Epoch 8/250\n",
      "4/5 [=======================>......] - ETA: 3s - loss: 1.3848 - acc: 0.0985Epoch 1/250\n",
      "16/5 [================================================================================================] - 18s 1s/step - loss: 1.8625 - acc: 0.1158\n",
      "5/5 [==============================] - 37s 7s/step - loss: 1.3354 - acc: 0.1013 - val_loss: 1.8520 - val_acc: 0.1158\n",
      "Epoch 9/250\n",
      "4/5 [=======================>......] - ETA: 3s - loss: 1.3810 - acc: 0.0985Epoch 1/250\n",
      "16/5 [================================================================================================] - 18s 1s/step - loss: 1.6265 - acc: 0.1181\n",
      "5/5 [==============================] - 37s 7s/step - loss: 1.3301 - acc: 0.1013 - val_loss: 1.8272 - val_acc: 0.1181\n",
      "Epoch 10/250\n",
      "4/5 [=======================>......] - ETA: 3s - loss: 1.3771 - acc: 0.0985Epoch 1/250\n",
      "16/5 [================================================================================================] - 18s 1s/step - loss: 1.8712 - acc: 0.1156\n",
      "5/5 [==============================] - 37s 7s/step - loss: 1.3259 - acc: 0.1013 - val_loss: 1.8718 - val_acc: 0.1156\n",
      "Epoch 11/250\n",
      "4/5 [=======================>......] - ETA: 3s - loss: 1.3748 - acc: 0.0985Epoch 1/250\n",
      "16/5 [================================================================================================] - 19s 1s/step - loss: 1.8190 - acc: 0.1162\n",
      "5/5 [==============================] - 37s 7s/step - loss: 1.3237 - acc: 0.1013 - val_loss: 1.8689 - val_acc: 0.1162\n",
      "Epoch 12/250\n",
      "4/5 [=======================>......] - ETA: 3s - loss: 1.3696 - acc: 0.0985Epoch 1/250\n",
      "16/5 [================================================================================================] - 18s 1s/step - loss: 2.1628 - acc: 0.1141\n",
      "5/5 [==============================] - 37s 7s/step - loss: 1.3196 - acc: 0.1013 - val_loss: 1.9201 - val_acc: 0.1141\n",
      "Epoch 13/250\n",
      "4/5 [=======================>......] - ETA: 3s - loss: 1.3647 - acc: 0.0985Epoch 1/250\n",
      "16/5 [================================================================================================] - 18s 1s/step - loss: 1.9039 - acc: 0.1158\n",
      "5/5 [==============================] - 37s 7s/step - loss: 1.3156 - acc: 0.1013 - val_loss: 1.8931 - val_acc: 0.1158\n",
      "Epoch 14/250\n",
      "4/5 [=======================>......] - ETA: 3s - loss: 1.3607 - acc: 0.0985Epoch 1/250\n",
      "16/5 [================================================================================================] - 19s 1s/step - loss: 1.6600 - acc: 0.1181\n",
      "5/5 [==============================] - 37s 7s/step - loss: 1.3119 - acc: 0.1013 - val_loss: 1.8630 - val_acc: 0.1181\n",
      "Epoch 15/250\n",
      "4/5 [=======================>......] - ETA: 3s - loss: 1.3567 - acc: 0.0985Epoch 1/250\n",
      "16/5 [================================================================================================] - 18s 1s/step - loss: 1.9010 - acc: 0.1156\n",
      "5/5 [==============================] - 37s 7s/step - loss: 1.3081 - acc: 0.1013 - val_loss: 1.9022 - val_acc: 0.1156\n",
      "Epoch 16/250\n",
      "4/5 [=======================>......] - ETA: 3s - loss: 1.3538 - acc: 0.0985Epoch 1/250\n",
      "16/5 [================================================================================================] - 19s 1s/step - loss: 1.8437 - acc: 0.1162\n",
      "5/5 [==============================] - 37s 7s/step - loss: 1.3050 - acc: 0.1013 - val_loss: 1.8938 - val_acc: 0.1162\n",
      "Epoch 17/250\n",
      "4/5 [=======================>......] - ETA: 3s - loss: 1.3513 - acc: 0.0992Epoch 1/250\n",
      "16/5 [================================================================================================] - 18s 1s/step - loss: 2.1835 - acc: 0.1141\n",
      "5/5 [==============================] - 37s 7s/step - loss: 1.3026 - acc: 0.1019 - val_loss: 1.9392 - val_acc: 0.1141\n",
      "Epoch 18/250\n",
      "4/5 [=======================>......] - ETA: 3s - loss: 1.3487 - acc: 0.0977Epoch 1/250\n",
      "16/5 [================================================================================================] - 18s 1s/step - loss: 1.9191 - acc: 0.1153\n",
      "5/5 [==============================] - 37s 7s/step - loss: 1.2998 - acc: 0.1006 - val_loss: 1.9079 - val_acc: 0.1153\n",
      "Epoch 19/250\n",
      "4/5 [=======================>......] - ETA: 3s - loss: 1.3457 - acc: 0.1031Epoch 1/250\n",
      "16/5 [================================================================================================] - 19s 1s/step - loss: 1.6698 - acc: 0.1171\n",
      "5/5 [==============================] - 37s 7s/step - loss: 1.2968 - acc: 0.1051 - val_loss: 1.8747 - val_acc: 0.1171\n",
      "Epoch 20/250\n",
      "4/5 [=======================>......] - ETA: 3s - loss: 1.3431 - acc: 0.1077Epoch 1/250\n",
      "16/5 [================================================================================================] - 18s 1s/step - loss: 1.9127 - acc: 0.1161\n",
      "5/5 [==============================] - 37s 7s/step - loss: 1.2941 - acc: 0.1089 - val_loss: 1.9137 - val_acc: 0.1161\n",
      "Epoch 21/250\n",
      "4/5 [=======================>......] - ETA: 3s - loss: 1.3404 - acc: 0.1077Epoch 1/250\n",
      "16/5 [================================================================================================] - 19s 1s/step - loss: 1.8553 - acc: 0.1174\n",
      "5/5 [==============================] - 37s 7s/step - loss: 1.2915 - acc: 0.1108 - val_loss: 1.9047 - val_acc: 0.1174\n",
      "Epoch 22/250\n",
      "4/5 [=======================>......] - ETA: 3s - loss: 1.3372 - acc: 0.1100Epoch 1/250\n",
      "16/5 [================================================================================================] - 18s 1s/step - loss: 2.1932 - acc: 0.1144\n",
      "5/5 [==============================] - 37s 7s/step - loss: 1.2885 - acc: 0.1127 - val_loss: 1.9491 - val_acc: 0.1144\n",
      "Epoch 23/250\n",
      "4/5 [=======================>......] - ETA: 3s - loss: 1.3347 - acc: 0.1100Epoch 1/250\n",
      "16/5 [================================================================================================] - 18s 1s/step - loss: 1.9280 - acc: 0.1182\n",
      "5/5 [==============================] - 37s 7s/step - loss: 1.2862 - acc: 0.1127 - val_loss: 1.9164 - val_acc: 0.1182\n",
      "Epoch 24/250\n",
      "4/5 [=======================>......] - ETA: 3s - loss: 1.3321 - acc: 0.1115Epoch 1/250\n",
      "16/5 [================================================================================================] - 19s 1s/step - loss: 1.6768 - acc: 0.1181\n",
      "5/5 [==============================] - 37s 7s/step - loss: 1.2836 - acc: 0.1139 - val_loss: 1.8826 - val_acc: 0.1181\n",
      "Epoch 25/250\n",
      "4/5 [=======================>......] - ETA: 3s - loss: 1.3294 - acc: 0.1123Epoch 1/250\n",
      "16/5 [================================================================================================] - 18s 1s/step - loss: 1.9204 - acc: 0.1181\n",
      "5/5 [==============================] - 37s 7s/step - loss: 1.2809 - acc: 0.1146 - val_loss: 1.9208 - val_acc: 0.1181\n",
      "Epoch 26/250\n",
      "4/5 [=======================>......] - ETA: 3s - loss: 1.3269 - acc: 0.1115Epoch 1/250\n",
      "16/5 [================================================================================================] - 18s 1s/step - loss: 1.8615 - acc: 0.1171\n",
      "5/5 [==============================] - 37s 7s/step - loss: 1.2785 - acc: 0.1139 - val_loss: 1.9104 - val_acc: 0.1171\n",
      "Epoch 27/250\n",
      "4/5 [=======================>......] - ETA: 3s - loss: 1.3241 - acc: 0.1146Epoch 1/250\n",
      "16/5 [================================================================================================] - 18s 1s/step - loss: 2.1983 - acc: 0.1179\n",
      "5/5 [==============================] - 37s 7s/step - loss: 1.2758 - acc: 0.1165 - val_loss: 1.9547 - val_acc: 0.1179\n",
      "Epoch 28/250\n",
      "4/5 [=======================>......] - ETA: 3s - loss: 1.3219 - acc: 0.1138Epoch 1/250\n",
      "16/5 [================================================================================================] - 18s 1s/step - loss: 1.9340 - acc: 0.1160\n",
      "5/5 [==============================] - 37s 7s/step - loss: 1.2737 - acc: 0.1165 - val_loss: 1.9220 - val_acc: 0.1160\n",
      "Epoch 29/250\n",
      "4/5 [=======================>......] - ETA: 3s - loss: 1.3196 - acc: 0.1138Epoch 1/250\n",
      "16/5 [================================================================================================] - 19s 1s/step - loss: 1.6803 - acc: 0.1194\n",
      "5/5 [==============================] - 37s 7s/step - loss: 1.2714 - acc: 0.1158 - val_loss: 1.8866 - val_acc: 0.1194\n",
      "Epoch 30/250\n",
      "4/5 [=======================>......] - ETA: 3s - loss: 1.3175 - acc: 0.1154Epoch 1/250\n",
      "16/5 [================================================================================================] - 18s 1s/step - loss: 1.9229 - acc: 0.1203\n",
      "5/5 [==============================] - 37s 7s/step - loss: 1.2693 - acc: 0.1171 - val_loss: 1.9234 - val_acc: 0.1203\n",
      "Epoch 31/250\n",
      "4/5 [=======================>......] - ETA: 3s - loss: 1.3155 - acc: 0.1162Epoch 1/250\n",
      "16/5 [================================================================================================] - 18s 1s/step - loss: 1.8648 - acc: 0.1199\n",
      "5/5 [==============================] - 37s 7s/step - loss: 1.2672 - acc: 0.1184 - val_loss: 1.9133 - val_acc: 0.1199\n",
      "Epoch 32/250\n",
      "4/5 [=======================>......] - ETA: 3s - loss: 1.3127 - acc: 0.1169Epoch 1/250\n",
      "16/5 [================================================================================================] - 18s 1s/step - loss: 2.2003 - acc: 0.1157\n",
      "5/5 [==============================] - 37s 7s/step - loss: 1.2647 - acc: 0.1196 - val_loss: 1.9572 - val_acc: 0.1157\n",
      "Epoch 33/250\n",
      "4/5 [=======================>......] - ETA: 3s - loss: 1.3106 - acc: 0.1169Epoch 1/250\n",
      "16/5 [================================================================================================] - 18s 1s/step - loss: 1.9347 - acc: 0.1187\n",
      "5/5 [==============================] - 37s 7s/step - loss: 1.2626 - acc: 0.1196 - val_loss: 1.9233 - val_acc: 0.1187\n",
      "Epoch 34/250\n",
      "4/5 [=======================>......] - ETA: 3s - loss: 1.3089 - acc: 0.1169Epoch 1/250\n",
      "16/5 [================================================================================================] - 19s 1s/step - loss: 1.6815 - acc: 0.1201\n",
      "5/5 [==============================] - 37s 7s/step - loss: 1.2610 - acc: 0.1196 - val_loss: 1.8880 - val_acc: 0.1201\n",
      "Epoch 35/250\n",
      "4/5 [=======================>......] - ETA: 3s - loss: 1.3066 - acc: 0.1162Epoch 1/250\n",
      "16/5 [================================================================================================] - 18s 1s/step - loss: 1.9256 - acc: 0.1127\n",
      "5/5 [==============================] - 37s 7s/step - loss: 1.2586 - acc: 0.1196 - val_loss: 1.9258 - val_acc: 0.1127\n",
      "Epoch 36/250\n",
      "4/5 [=======================>......] - ETA: 3s - loss: 1.3045 - acc: 0.1177Epoch 1/250\n",
      "16/5 [================================================================================================] - 18s 1s/step - loss: 1.8683 - acc: 0.1124\n",
      "5/5 [==============================] - 37s 7s/step - loss: 1.2565 - acc: 0.1209 - val_loss: 1.9160 - val_acc: 0.1124\n",
      "Epoch 37/250\n",
      "4/5 [=======================>......] - ETA: 3s - loss: 1.3019 - acc: 0.1169Epoch 1/250\n",
      "16/5 [================================================================================================] - 19s 1s/step - loss: 2.2022 - acc: 0.1119\n",
      "5/5 [==============================] - 37s 7s/step - loss: 1.2539 - acc: 0.1203 - val_loss: 1.9595 - val_acc: 0.1119\n",
      "Epoch 38/250\n",
      "4/5 [=======================>......] - ETA: 3s - loss: 1.2998 - acc: 0.1169Epoch 1/250\n",
      "16/5 [================================================================================================] - 18s 1s/step - loss: 1.9372 - acc: 0.1142\n",
      "5/5 [==============================] - 37s 7s/step - loss: 1.2519 - acc: 0.1203 - val_loss: 1.9255 - val_acc: 0.1142\n",
      "Epoch 39/250\n",
      "4/5 [=======================>......] - ETA: 3s - loss: 1.2973 - acc: 0.1169Epoch 1/250\n",
      "16/5 [================================================================================================] - 19s 1s/step - loss: 1.6830 - acc: 0.1162\n",
      "5/5 [==============================] - 37s 7s/step - loss: 1.2495 - acc: 0.1196 - val_loss: 1.8894 - val_acc: 0.1162\n",
      "Epoch 40/250\n",
      "4/5 [=======================>......] - ETA: 3s - loss: 1.2957 - acc: 0.1131Epoch 1/250\n",
      "16/5 [================================================================================================] - 19s 1s/step - loss: 1.9255 - acc: 0.1140\n",
      "5/5 [==============================] - 37s 7s/step - loss: 1.2477 - acc: 0.1165 - val_loss: 1.9260 - val_acc: 0.1140\n",
      "Epoch 41/250\n",
      "4/5 [=======================>......] - ETA: 3s - loss: 1.2932 - acc: 0.1146Epoch 1/250\n",
      "16/5 [================================================================================================] - 18s 1s/step - loss: 1.8687 - acc: 0.1124\n",
      "5/5 [==============================] - 37s 7s/step - loss: 1.2452 - acc: 0.1171 - val_loss: 1.9163 - val_acc: 0.1124\n",
      "Epoch 42/250\n",
      "4/5 [=======================>......] - ETA: 3s - loss: 1.2906 - acc: 0.1154Epoch 1/250\n",
      "16/5 [================================================================================================] - 19s 1s/step - loss: 2.2029 - acc: 0.1108\n",
      "5/5 [==============================] - 37s 7s/step - loss: 1.2426 - acc: 0.1177 - val_loss: 1.9598 - val_acc: 0.1108\n",
      "Epoch 43/250\n",
      "4/5 [=======================>......] - ETA: 3s - loss: 1.2886 - acc: 0.1154Epoch 1/250\n",
      "16/5 [================================================================================================] - 18s 1s/step - loss: 1.9390 - acc: 0.1067\n",
      "5/5 [==============================] - 36s 7s/step - loss: 1.2410 - acc: 0.1190 - val_loss: 1.9273 - val_acc: 0.1067\n",
      "Epoch 44/250\n",
      "4/5 [=======================>......] - ETA: 3s - loss: 1.2875 - acc: 0.1162Epoch 1/250\n",
      "16/5 [================================================================================================] - 18s 1s/step - loss: 1.6848 - acc: 0.1079\n",
      "5/5 [==============================] - 37s 7s/step - loss: 1.2394 - acc: 0.1184 - val_loss: 1.8919 - val_acc: 0.1079\n",
      "Epoch 45/250\n",
      "4/5 [=======================>......] - ETA: 3s - loss: 1.2846 - acc: 0.1169Epoch 1/250\n",
      "16/5 [================================================================================================] - 18s 1s/step - loss: 1.9293 - acc: 0.1039\n",
      "5/5 [==============================] - 37s 7s/step - loss: 1.2368 - acc: 0.1196 - val_loss: 1.9291 - val_acc: 0.1039\n",
      "Epoch 46/250\n",
      "4/5 [=======================>......] - ETA: 3s - loss: 1.2831 - acc: 0.1169Epoch 1/250\n",
      "16/5 [================================================================================================] - 18s 1s/step - loss: 1.8701 - acc: 0.1110\n",
      "5/5 [==============================] - 37s 7s/step - loss: 1.2353 - acc: 0.1196 - val_loss: 1.9176 - val_acc: 0.1110\n",
      "Epoch 47/250\n",
      "4/5 [=======================>......] - ETA: 3s - loss: 1.2817 - acc: 0.1177Epoch 1/250\n",
      "16/5 [================================================================================================] - 19s 1s/step - loss: 2.2033 - acc: 0.1095\n",
      "5/5 [==============================] - 37s 7s/step - loss: 1.2340 - acc: 0.1209 - val_loss: 1.9605 - val_acc: 0.1095\n",
      "Epoch 48/250\n",
      "4/5 [=======================>......] - ETA: 3s - loss: 1.2821 - acc: 0.1177Epoch 1/250\n",
      "16/5 [================================================================================================] - 18s 1s/step - loss: 1.9375 - acc: 0.1121\n",
      "5/5 [==============================] - 37s 7s/step - loss: 1.2336 - acc: 0.1203 - val_loss: 1.9267 - val_acc: 0.1121\n",
      "Epoch 49/250\n",
      "4/5 [=======================>......] - ETA: 3s - loss: 1.2793 - acc: 0.1177Epoch 1/250\n",
      "16/5 [================================================================================================] - 19s 1s/step - loss: 1.6852 - acc: 0.1118\n",
      "5/5 [==============================] - 38s 8s/step - loss: 1.2311 - acc: 0.1209 - val_loss: 1.8924 - val_acc: 0.1118\n",
      "Epoch 50/250\n",
      "4/5 [=======================>......] - ETA: 3s - loss: 1.2747 - acc: 0.1169Epoch 1/250\n",
      "16/5 [================================================================================================] - 19s 1s/step - loss: 1.9305 - acc: 0.1048\n",
      "5/5 [==============================] - 37s 7s/step - loss: 1.2269 - acc: 0.1209 - val_loss: 1.9306 - val_acc: 0.1048\n",
      "Epoch 51/250\n",
      "4/5 [=======================>......] - ETA: 3s - loss: 1.2730 - acc: 0.1185Epoch 1/250\n",
      "16/5 [================================================================================================] - 19s 1s/step - loss: 1.8739 - acc: 0.1053\n",
      "5/5 [==============================] - 37s 7s/step - loss: 1.2251 - acc: 0.1222 - val_loss: 1.9204 - val_acc: 0.1053\n",
      "Epoch 52/250\n",
      "4/5 [=======================>......] - ETA: 3s - loss: 1.2707 - acc: 0.1223Epoch 1/250\n",
      "16/5 [================================================================================================] - 21s 1s/step - loss: 2.2049 - acc: 0.1108\n",
      "5/5 [==============================] - 40s 8s/step - loss: 1.2229 - acc: 0.1241 - val_loss: 1.9616 - val_acc: 0.1108\n",
      "Epoch 53/250\n",
      "4/5 [=======================>......] - ETA: 4s - loss: 1.2687 - acc: 0.1200Epoch 1/250\n",
      "16/5 [================================================================================================] - 21s 1s/step - loss: 1.9402 - acc: 0.1051\n",
      "5/5 [==============================] - 41s 8s/step - loss: 1.2209 - acc: 0.1234 - val_loss: 1.9292 - val_acc: 0.1051\n",
      "Epoch 54/250\n",
      "4/5 [=======================>......] - ETA: 4s - loss: 1.2673 - acc: 0.1200Epoch 1/250\n",
      "16/5 [================================================================================================] - 20s 1s/step - loss: 1.6863 - acc: 0.1095\n",
      "5/5 [==============================] - 41s 8s/step - loss: 1.2192 - acc: 0.1222 - val_loss: 1.8937 - val_acc: 0.1095\n",
      "Epoch 55/250\n",
      "4/5 [=======================>......] - ETA: 4s - loss: 1.2648 - acc: 0.1192Epoch 1/250\n",
      "16/5 [================================================================================================] - 19s 1s/step - loss: 1.9317 - acc: 0.1041\n",
      "5/5 [==============================] - 39s 8s/step - loss: 1.2169 - acc: 0.1222 - val_loss: 1.9317 - val_acc: 0.1041\n",
      "Epoch 56/250\n",
      "4/5 [=======================>......] - ETA: 4s - loss: 1.2629 - acc: 0.1215Epoch 1/250\n",
      "16/5 [================================================================================================] - 20s 1s/step - loss: 1.8761 - acc: 0.1006\n",
      "5/5 [==============================] - 40s 8s/step - loss: 1.2149 - acc: 0.1241 - val_loss: 1.9221 - val_acc: 0.1006\n",
      "Epoch 57/250\n",
      "4/5 [=======================>......] - ETA: 3s - loss: 1.2608 - acc: 0.1223Epoch 1/250\n",
      "16/5 [================================================================================================] - 20s 1s/step - loss: 2.2075 - acc: 0.1021\n",
      "5/5 [==============================] - 40s 8s/step - loss: 1.2128 - acc: 0.1241 - val_loss: 1.9650 - val_acc: 0.1021\n",
      "Epoch 58/250\n",
      "4/5 [=======================>......] - ETA: 3s - loss: 1.2588 - acc: 0.1246Epoch 1/250\n",
      "16/5 [================================================================================================] - 19s 1s/step - loss: 1.9409 - acc: 0.1035\n",
      "5/5 [==============================] - 39s 8s/step - loss: 1.2108 - acc: 0.1259 - val_loss: 1.9303 - val_acc: 0.1035\n",
      "Epoch 59/250\n",
      "4/5 [=======================>......] - ETA: 3s - loss: 1.2572 - acc: 0.1254Epoch 1/250\n",
      "16/5 [================================================================================================] - 20s 1s/step - loss: 1.6870 - acc: 0.1070\n",
      "5/5 [==============================] - 38s 8s/step - loss: 1.2091 - acc: 0.1266 - val_loss: 1.8941 - val_acc: 0.1070\n",
      "Epoch 60/250\n",
      "4/5 [=======================>......] - ETA: 4s - loss: 1.2560 - acc: 0.1246Epoch 1/250\n",
      "16/5 [================================================================================================] - 19s 1s/step - loss: 1.9316 - acc: 0.1043\n",
      "5/5 [==============================] - 39s 8s/step - loss: 1.2076 - acc: 0.1266 - val_loss: 1.9318 - val_acc: 0.1043\n",
      "Epoch 61/250\n",
      "4/5 [=======================>......] - ETA: 3s - loss: 1.2530 - acc: 0.1231Epoch 1/250\n",
      "16/5 [================================================================================================] - 19s 1s/step - loss: 1.8770 - acc: 0.1008\n",
      "5/5 [==============================] - 37s 7s/step - loss: 1.2052 - acc: 0.1266 - val_loss: 1.9229 - val_acc: 0.1008\n",
      "Epoch 62/250\n",
      "4/5 [=======================>......] - ETA: 3s - loss: 1.2511 - acc: 0.1208Epoch 1/250\n",
      "16/5 [================================================================================================] - 20s 1s/step - loss: 2.2089 - acc: 0.1005\n",
      "5/5 [==============================] - 39s 8s/step - loss: 1.2034 - acc: 0.1241 - val_loss: 1.9667 - val_acc: 0.1005\n",
      "Epoch 63/250\n",
      "4/5 [=======================>......] - ETA: 3s - loss: 1.2506 - acc: 0.1238Epoch 1/250\n",
      "16/5 [================================================================================================] - 19s 1s/step - loss: 1.9443 - acc: 0.1002\n",
      "5/5 [==============================] - 37s 7s/step - loss: 1.2025 - acc: 0.1253 - val_loss: 1.9332 - val_acc: 0.1002\n",
      "Epoch 64/250\n",
      "4/5 [=======================>......] - ETA: 3s - loss: 1.2478 - acc: 0.1285Epoch 1/250\n",
      "16/5 [================================================================================================] - 19s 1s/step - loss: 1.6882 - acc: 0.1072\n",
      "5/5 [==============================] - 37s 7s/step - loss: 1.1999 - acc: 0.1291 - val_loss: 1.8958 - val_acc: 0.1072\n",
      "Epoch 65/250\n",
      "4/5 [=======================>......] - ETA: 3s - loss: 1.2456 - acc: 0.1269Epoch 1/250\n",
      "16/5 [================================================================================================] - 19s 1s/step - loss: 1.9336 - acc: 0.1041\n",
      "5/5 [==============================] - 37s 7s/step - loss: 1.1974 - acc: 0.1285 - val_loss: 1.9335 - val_acc: 0.1041\n",
      "Epoch 66/250\n",
      "4/5 [=======================>......] - ETA: 3s - loss: 1.2432 - acc: 0.1238Epoch 1/250\n",
      "16/5 [================================================================================================] - 19s 1s/step - loss: 1.8797 - acc: 0.0985\n",
      "5/5 [==============================] - 37s 7s/step - loss: 1.1951 - acc: 0.1272 - val_loss: 1.9254 - val_acc: 0.0985\n",
      "Epoch 67/250\n",
      "4/5 [=======================>......] - ETA: 3s - loss: 1.2409 - acc: 0.1254Epoch 1/250\n",
      "16/5 [================================================================================================] - 19s 1s/step - loss: 2.2105 - acc: 0.1005\n",
      "5/5 [==============================] - 37s 7s/step - loss: 1.1929 - acc: 0.1278 - val_loss: 1.9682 - val_acc: 0.1005\n",
      "Epoch 68/250\n",
      "4/5 [=======================>......] - ETA: 3s - loss: 1.2388 - acc: 0.1277Epoch 1/250\n",
      "16/5 [================================================================================================] - 19s 1s/step - loss: 1.9439 - acc: 0.0997\n",
      "5/5 [==============================] - 37s 7s/step - loss: 1.1908 - acc: 0.1291 - val_loss: 1.9333 - val_acc: 0.0997\n",
      "Epoch 69/250\n",
      "4/5 [=======================>......] - ETA: 3s - loss: 1.2365 - acc: 0.1277Epoch 1/250\n",
      "16/5 [================================================================================================] - 19s 1s/step - loss: 1.6894 - acc: 0.1012\n",
      "5/5 [==============================] - 37s 7s/step - loss: 1.1885 - acc: 0.1297 - val_loss: 1.8974 - val_acc: 0.1012\n",
      "Epoch 70/250\n",
      "4/5 [=======================>......] - ETA: 3s - loss: 1.2352 - acc: 0.1262Epoch 1/250\n",
      "16/5 [================================================================================================] - 19s 1s/step - loss: 1.9358 - acc: 0.1009\n",
      "5/5 [==============================] - 37s 7s/step - loss: 1.1872 - acc: 0.1285 - val_loss: 1.9358 - val_acc: 0.1009\n",
      "Epoch 71/250\n",
      "4/5 [=======================>......] - ETA: 3s - loss: 1.2336 - acc: 0.1254Epoch 1/250\n",
      "16/5 [================================================================================================] - 19s 1s/step - loss: 1.8818 - acc: 0.0978\n",
      "5/5 [==============================] - 37s 7s/step - loss: 1.1862 - acc: 0.1291 - val_loss: 1.9275 - val_acc: 0.0978\n",
      "Epoch 72/250\n",
      "4/5 [=======================>......] - ETA: 3s - loss: 1.2327 - acc: 0.1277Epoch 1/250\n",
      "16/5 [================================================================================================] - 19s 1s/step - loss: 2.2122 - acc: 0.0994\n",
      "5/5 [==============================] - 37s 7s/step - loss: 1.1845 - acc: 0.1291 - val_loss: 1.9699 - val_acc: 0.0994\n",
      "Epoch 73/250\n",
      "4/5 [=======================>......] - ETA: 3s - loss: 1.2303 - acc: 0.1300Epoch 1/250\n",
      "16/5 [================================================================================================] - 19s 1s/step - loss: 1.9455 - acc: 0.1004\n",
      "5/5 [==============================] - 37s 7s/step - loss: 1.1825 - acc: 0.1316 - val_loss: 1.9351 - val_acc: 0.1004\n",
      "Epoch 74/250\n",
      "4/5 [=======================>......] - ETA: 3s - loss: 1.2286 - acc: 0.1315Epoch 1/250\n",
      "16/5 [================================================================================================] - 19s 1s/step - loss: 1.6918 - acc: 0.1033\n",
      "5/5 [==============================] - 37s 7s/step - loss: 1.1802 - acc: 0.1329 - val_loss: 1.8994 - val_acc: 0.1033\n",
      "Epoch 75/250\n",
      "4/5 [=======================>......] - ETA: 3s - loss: 1.2269 - acc: 0.1269Epoch 1/250\n",
      "16/5 [================================================================================================] - 19s 1s/step - loss: 1.9390 - acc: 0.0991\n",
      "5/5 [==============================] - 37s 7s/step - loss: 1.1789 - acc: 0.1310 - val_loss: 1.9384 - val_acc: 0.0991\n",
      "Epoch 76/250\n",
      "4/5 [=======================>......] - ETA: 3s - loss: 1.2231 - acc: 0.1277Epoch 1/250\n",
      "16/5 [================================================================================================] - 19s 1s/step - loss: 1.8824 - acc: 0.0972\n",
      "5/5 [==============================] - 37s 7s/step - loss: 1.1750 - acc: 0.1310 - val_loss: 1.9281 - val_acc: 0.0972\n",
      "Epoch 77/250\n",
      "4/5 [=======================>......] - ETA: 3s - loss: 1.2209 - acc: 0.1300Epoch 1/250\n",
      "16/5 [================================================================================================] - 19s 1s/step - loss: 2.2133 - acc: 0.0992\n",
      "5/5 [==============================] - 37s 7s/step - loss: 1.1729 - acc: 0.1323 - val_loss: 1.9711 - val_acc: 0.0992\n",
      "Epoch 78/250\n",
      "4/5 [=======================>......] - ETA: 3s - loss: 1.2183 - acc: 0.1308Epoch 1/250\n",
      "16/5 [================================================================================================] - 19s 1s/step - loss: 1.9480 - acc: 0.0993\n",
      "5/5 [==============================] - 37s 7s/step - loss: 1.1702 - acc: 0.1316 - val_loss: 1.9373 - val_acc: 0.0993\n",
      "Epoch 79/250\n",
      "4/5 [=======================>......] - ETA: 3s - loss: 1.2157 - acc: 0.1331Epoch 1/250\n",
      "16/5 [================================================================================================] - 19s 1s/step - loss: 1.6938 - acc: 0.1005\n",
      "5/5 [==============================] - 37s 7s/step - loss: 1.1682 - acc: 0.1361 - val_loss: 1.9018 - val_acc: 0.1005\n",
      "Epoch 80/250\n",
      "4/5 [=======================>......] - ETA: 3s - loss: 1.2146 - acc: 0.1331Epoch 1/250\n",
      "16/5 [================================================================================================] - 19s 1s/step - loss: 1.9393 - acc: 0.0993\n",
      "5/5 [==============================] - 37s 7s/step - loss: 1.1664 - acc: 0.1354 - val_loss: 1.9394 - val_acc: 0.0993\n",
      "Epoch 81/250\n",
      "4/5 [=======================>......] - ETA: 3s - loss: 1.2118 - acc: 0.1315Epoch 1/250\n",
      "16/5 [================================================================================================] - 19s 1s/step - loss: 1.8849 - acc: 0.0972\n",
      "5/5 [==============================] - 37s 7s/step - loss: 1.1638 - acc: 0.1342 - val_loss: 1.9304 - val_acc: 0.0972\n",
      "Epoch 82/250\n",
      "4/5 [=======================>......] - ETA: 3s - loss: 1.2088 - acc: 0.1315Epoch 1/250\n",
      "16/5 [================================================================================================] - 19s 1s/step - loss: 2.2161 - acc: 0.0983\n",
      "5/5 [==============================] - 37s 7s/step - loss: 1.1607 - acc: 0.1342 - val_loss: 1.9735 - val_acc: 0.0983\n",
      "Epoch 83/250\n",
      "4/5 [=======================>......] - ETA: 3s - loss: 1.2066 - acc: 0.1354Epoch 1/250\n",
      "16/5 [================================================================================================] - 19s 1s/step - loss: 1.9496 - acc: 0.0981\n",
      "5/5 [==============================] - 37s 7s/step - loss: 1.1586 - acc: 0.1367 - val_loss: 1.9392 - val_acc: 0.0981\n",
      "Epoch 84/250\n",
      "4/5 [=======================>......] - ETA: 3s - loss: 1.2034 - acc: 0.1346Epoch 1/250\n",
      "16/5 [================================================================================================] - 19s 1s/step - loss: 1.6951 - acc: 0.1019\n",
      "5/5 [==============================] - 37s 7s/step - loss: 1.1554 - acc: 0.1380 - val_loss: 1.9033 - val_acc: 0.1019\n",
      "Epoch 85/250\n",
      "4/5 [=======================>......] - ETA: 3s - loss: 1.2015 - acc: 0.1338Epoch 1/250\n",
      "16/5 [================================================================================================] - 19s 1s/step - loss: 1.9420 - acc: 0.1027\n",
      "5/5 [==============================] - 37s 7s/step - loss: 1.1533 - acc: 0.1386 - val_loss: 1.9418 - val_acc: 0.1027\n",
      "Epoch 86/250\n",
      "4/5 [=======================>......] - ETA: 3s - loss: 1.1988 - acc: 0.1338Epoch 1/250\n",
      "16/5 [================================================================================================] - 19s 1s/step - loss: 1.8868 - acc: 0.0978\n",
      "5/5 [==============================] - 38s 8s/step - loss: 1.1509 - acc: 0.1386 - val_loss: 1.9320 - val_acc: 0.0978\n",
      "Epoch 87/250\n",
      "4/5 [=======================>......] - ETA: 3s - loss: 1.1966 - acc: 0.1331Epoch 1/250\n",
      "16/5 [================================================================================================] - 19s 1s/step - loss: 2.2177 - acc: 0.0976\n",
      "5/5 [==============================] - 37s 7s/step - loss: 1.1487 - acc: 0.1361 - val_loss: 1.9751 - val_acc: 0.0976\n",
      "Epoch 88/250\n",
      "4/5 [=======================>......] - ETA: 3s - loss: 1.1945 - acc: 0.1354Epoch 1/250\n",
      "16/5 [================================================================================================] - 19s 1s/step - loss: 1.9517 - acc: 0.0968\n",
      "5/5 [==============================] - 37s 7s/step - loss: 1.1467 - acc: 0.1380 - val_loss: 1.9415 - val_acc: 0.0968\n",
      "Epoch 89/250\n",
      "4/5 [=======================>......] - ETA: 3s - loss: 1.1927 - acc: 0.1377Epoch 1/250\n",
      "16/5 [================================================================================================] - 19s 1s/step - loss: 1.6973 - acc: 0.1008\n",
      "5/5 [==============================] - 37s 7s/step - loss: 1.1447 - acc: 0.1405 - val_loss: 1.9058 - val_acc: 0.1008\n",
      "Epoch 90/250\n",
      "4/5 [=======================>......] - ETA: 3s - loss: 1.1898 - acc: 0.1377Epoch 1/250\n",
      "16/5 [================================================================================================] - 19s 1s/step - loss: 1.9424 - acc: 0.0982\n",
      "5/5 [==============================] - 37s 7s/step - loss: 1.1420 - acc: 0.1405 - val_loss: 1.9424 - val_acc: 0.0982\n",
      "Epoch 91/250\n",
      "4/5 [=======================>......] - ETA: 3s - loss: 1.1874 - acc: 0.1392Epoch 1/250\n",
      "16/5 [================================================================================================] - 19s 1s/step - loss: 1.8882 - acc: 0.0967\n",
      "5/5 [==============================] - 37s 7s/step - loss: 1.1394 - acc: 0.1430 - val_loss: 1.9335 - val_acc: 0.0967\n",
      "Epoch 92/250\n",
      "4/5 [=======================>......] - ETA: 3s - loss: 1.1841 - acc: 0.1362Epoch 1/250\n",
      "16/5 [================================================================================================] - 19s 1s/step - loss: 2.2198 - acc: 0.0983\n",
      "5/5 [==============================] - 37s 7s/step - loss: 1.1364 - acc: 0.1411 - val_loss: 1.9773 - val_acc: 0.0983\n",
      "Epoch 93/250\n",
      "4/5 [=======================>......] - ETA: 3s - loss: 1.1822 - acc: 0.1369Epoch 1/250\n",
      "16/5 [================================================================================================] - 19s 1s/step - loss: 1.9563 - acc: 0.0934\n",
      "5/5 [==============================] - 37s 7s/step - loss: 1.1342 - acc: 0.1411 - val_loss: 1.9453 - val_acc: 0.0934\n",
      "Epoch 94/250\n",
      "4/5 [=======================>......] - ETA: 3s - loss: 1.1795 - acc: 0.1400Epoch 1/250\n",
      "16/5 [================================================================================================] - 19s 1s/step - loss: 1.6993 - acc: 0.0971\n",
      "5/5 [==============================] - 37s 7s/step - loss: 1.1316 - acc: 0.1418 - val_loss: 1.9078 - val_acc: 0.0971\n",
      "Epoch 95/250\n",
      "4/5 [=======================>......] - ETA: 3s - loss: 1.1763 - acc: 0.1408Epoch 1/250\n",
      "16/5 [================================================================================================] - 19s 1s/step - loss: 1.9436 - acc: 0.0964\n",
      "5/5 [==============================] - 37s 7s/step - loss: 1.1285 - acc: 0.1437 - val_loss: 1.9437 - val_acc: 0.0964\n",
      "Epoch 96/250\n",
      "4/5 [=======================>......] - ETA: 3s - loss: 1.1744 - acc: 0.1392Epoch 1/250\n",
      "16/5 [================================================================================================] - 19s 1s/step - loss: 1.8899 - acc: 0.0940\n",
      "5/5 [==============================] - 37s 7s/step - loss: 1.1264 - acc: 0.1424 - val_loss: 1.9350 - val_acc: 0.0940\n",
      "Epoch 97/250\n",
      "4/5 [=======================>......] - ETA: 3s - loss: 1.1716 - acc: 0.1369Epoch 1/250\n",
      "16/5 [================================================================================================] - 19s 1s/step - loss: 2.2222 - acc: 0.0967\n",
      "5/5 [==============================] - 37s 7s/step - loss: 1.1242 - acc: 0.1430 - val_loss: 1.9797 - val_acc: 0.0967\n",
      "Epoch 98/250\n",
      "4/5 [=======================>......] - ETA: 3s - loss: 1.1703 - acc: 0.1369Epoch 1/250\n",
      "16/5 [================================================================================================] - 19s 1s/step - loss: 1.9577 - acc: 0.0941\n",
      "5/5 [==============================] - 37s 7s/step - loss: 1.1220 - acc: 0.1424 - val_loss: 1.9467 - val_acc: 0.0941\n",
      "Epoch 99/250\n",
      "4/5 [=======================>......] - ETA: 3s - loss: 1.1669 - acc: 0.1415Epoch 1/250\n",
      "16/5 [================================================================================================] - 19s 1s/step - loss: 1.7003 - acc: 0.0971\n",
      "5/5 [==============================] - 37s 7s/step - loss: 1.1197 - acc: 0.1437 - val_loss: 1.9090 - val_acc: 0.0971\n",
      "Epoch 100/250\n",
      "4/5 [=======================>......] - ETA: 3s - loss: 1.1645 - acc: 0.1446Epoch 1/250\n",
      "16/5 [================================================================================================] - 19s 1s/step - loss: 1.9453 - acc: 0.1005\n",
      "5/5 [==============================] - 37s 7s/step - loss: 1.1164 - acc: 0.1481 - val_loss: 1.9456 - val_acc: 0.1005\n",
      "Epoch 101/250\n",
      "4/5 [=======================>......] - ETA: 3s - loss: 1.1615 - acc: 0.1385Epoch 1/250\n",
      "16/5 [================================================================================================] - 19s 1s/step - loss: 1.8927 - acc: 0.0949\n",
      "5/5 [==============================] - 37s 7s/step - loss: 1.1137 - acc: 0.1437 - val_loss: 1.9376 - val_acc: 0.0949\n",
      "Epoch 102/250\n",
      "4/5 [=======================>......] - ETA: 3s - loss: 1.1582 - acc: 0.1423Epoch 1/250\n",
      "16/5 [================================================================================================] - 19s 1s/step - loss: 2.2249 - acc: 0.0941\n",
      "5/5 [==============================] - 37s 7s/step - loss: 1.1105 - acc: 0.1475 - val_loss: 1.9819 - val_acc: 0.0941\n",
      "Epoch 103/250\n",
      "4/5 [=======================>......] - ETA: 3s - loss: 1.1564 - acc: 0.1438Epoch 1/250\n",
      "16/5 [================================================================================================] - 19s 1s/step - loss: 1.9566 - acc: 0.0968\n",
      "5/5 [==============================] - 37s 7s/step - loss: 1.1089 - acc: 0.1468 - val_loss: 1.9461 - val_acc: 0.0968\n",
      "Epoch 104/250\n",
      "4/5 [=======================>......] - ETA: 3s - loss: 1.1524 - acc: 0.1454Epoch 1/250\n",
      "16/5 [================================================================================================] - 19s 1s/step - loss: 1.7017 - acc: 0.0985\n",
      "5/5 [==============================] - 37s 7s/step - loss: 1.1049 - acc: 0.1500 - val_loss: 1.9105 - val_acc: 0.0985\n",
      "Epoch 105/250\n",
      "4/5 [=======================>......] - ETA: 3s - loss: 1.1497 - acc: 0.1469Epoch 1/250\n",
      "16/5 [================================================================================================] - 19s 1s/step - loss: 1.9472 - acc: 0.0960\n",
      "5/5 [==============================] - 37s 7s/step - loss: 1.1019 - acc: 0.1506 - val_loss: 1.9478 - val_acc: 0.0960\n",
      "Epoch 106/250\n",
      "4/5 [=======================>......] - ETA: 3s - loss: 1.1480 - acc: 0.1454Epoch 1/250\n",
      "16/5 [================================================================================================] - 19s 1s/step - loss: 1.8935 - acc: 0.0947\n",
      "5/5 [==============================] - 37s 7s/step - loss: 1.1002 - acc: 0.1519 - val_loss: 1.9384 - val_acc: 0.0947\n",
      "Epoch 107/250\n",
      "4/5 [=======================>......] - ETA: 3s - loss: 1.1444 - acc: 0.1477Epoch 1/250\n",
      "16/5 [================================================================================================] - 19s 1s/step - loss: 2.2263 - acc: 0.0959\n",
      "5/5 [==============================] - 37s 7s/step - loss: 1.0972 - acc: 0.1513 - val_loss: 1.9827 - val_acc: 0.0959\n",
      "Epoch 108/250\n",
      "4/5 [=======================>......] - ETA: 3s - loss: 1.1438 - acc: 0.1462Epoch 1/250\n",
      "16/5 [================================================================================================] - 19s 1s/step - loss: 1.9597 - acc: 0.0945\n",
      "5/5 [==============================] - 37s 7s/step - loss: 1.0960 - acc: 0.1494 - val_loss: 1.9489 - val_acc: 0.0945\n",
      "Epoch 109/250\n",
      "4/5 [=======================>......] - ETA: 3s - loss: 1.1416 - acc: 0.1446Epoch 1/250\n",
      "16/5 [================================================================================================] - 19s 1s/step - loss: 1.7019 - acc: 0.0975\n",
      "5/5 [==============================] - 37s 7s/step - loss: 1.0940 - acc: 0.1487 - val_loss: 1.9119 - val_acc: 0.0975\n",
      "Epoch 110/250\n",
      "4/5 [=======================>......] - ETA: 3s - loss: 1.1372 - acc: 0.1492Epoch 1/250\n",
      "16/5 [================================================================================================] - 19s 1s/step - loss: 1.9489 - acc: 0.0960\n",
      "5/5 [==============================] - 37s 7s/step - loss: 1.0894 - acc: 0.1544 - val_loss: 1.9498 - val_acc: 0.0960\n",
      "Epoch 111/250\n",
      "4/5 [=======================>......] - ETA: 3s - loss: 1.1328 - acc: 0.1485Epoch 1/250\n",
      "16/5 [================================================================================================] - 19s 1s/step - loss: 1.8956 - acc: 0.0947\n",
      "5/5 [==============================] - 37s 7s/step - loss: 1.0855 - acc: 0.1519 - val_loss: 1.9405 - val_acc: 0.0947\n",
      "Epoch 112/250\n",
      "4/5 [=======================>......] - ETA: 3s - loss: 1.1304 - acc: 0.1492Epoch 1/250\n",
      "16/5 [================================================================================================] - 19s 1s/step - loss: 2.2296 - acc: 0.0967\n",
      "5/5 [==============================] - 37s 7s/step - loss: 1.0829 - acc: 0.1544 - val_loss: 1.9850 - val_acc: 0.0967\n",
      "Epoch 113/250\n",
      "4/5 [=======================>......] - ETA: 3s - loss: 1.1266 - acc: 0.1485Epoch 1/250\n",
      "16/5 [================================================================================================] - 19s 1s/step - loss: 1.9610 - acc: 0.0947\n",
      "5/5 [==============================] - 37s 7s/step - loss: 1.0791 - acc: 0.1532 - val_loss: 1.9502 - val_acc: 0.0947\n",
      "Epoch 114/250\n",
      "4/5 [=======================>......] - ETA: 3s - loss: 1.1223 - acc: 0.1492Epoch 1/250\n",
      "16/5 [================================================================================================] - 19s 1s/step - loss: 1.7054 - acc: 0.0961\n",
      "5/5 [==============================] - 37s 7s/step - loss: 1.0752 - acc: 0.1544 - val_loss: 1.9143 - val_acc: 0.0961\n",
      "Epoch 115/250\n",
      "4/5 [=======================>......] - ETA: 3s - loss: 1.1195 - acc: 0.1508Epoch 1/250\n",
      "16/5 [================================================================================================] - 19s 1s/step - loss: 1.9501 - acc: 0.0966\n",
      "5/5 [==============================] - 37s 7s/step - loss: 1.0722 - acc: 0.1570 - val_loss: 1.9512 - val_acc: 0.0966\n",
      "Epoch 116/250\n",
      "4/5 [=======================>......] - ETA: 3s - loss: 1.1156 - acc: 0.1538Epoch 1/250\n",
      "16/5 [================================================================================================] - 19s 1s/step - loss: 1.8963 - acc: 0.0933\n",
      "5/5 [==============================] - 37s 7s/step - loss: 1.0687 - acc: 0.1563 - val_loss: 1.9414 - val_acc: 0.0933\n",
      "Epoch 117/250\n",
      "4/5 [=======================>......] - ETA: 3s - loss: 1.1134 - acc: 0.1546Epoch 1/250\n",
      "16/5 [================================================================================================] - 19s 1s/step - loss: 2.2287 - acc: 0.0983\n",
      "5/5 [==============================] - 37s 7s/step - loss: 1.0660 - acc: 0.1589 - val_loss: 1.9828 - val_acc: 0.0983\n",
      "Epoch 118/250\n",
      "4/5 [=======================>......] - ETA: 3s - loss: 1.1105 - acc: 0.1554Epoch 1/250\n",
      "16/5 [================================================================================================] - 19s 1s/step - loss: 1.9591 - acc: 0.0961\n",
      "5/5 [==============================] - 37s 7s/step - loss: 1.0634 - acc: 0.1595 - val_loss: 1.9487 - val_acc: 0.0961\n",
      "Epoch 119/250\n",
      "4/5 [=======================>......] - ETA: 3s - loss: 1.1070 - acc: 0.1531Epoch 1/250\n",
      "16/5 [================================================================================================] - 19s 1s/step - loss: 1.7054 - acc: 0.0968\n",
      "5/5 [==============================] - 37s 7s/step - loss: 1.0593 - acc: 0.1595 - val_loss: 1.9155 - val_acc: 0.0968\n",
      "Epoch 120/250\n",
      "4/5 [=======================>......] - ETA: 3s - loss: 1.1029 - acc: 0.1538Epoch 1/250\n",
      "16/5 [================================================================================================] - 19s 1s/step - loss: 1.9528 - acc: 0.0930\n",
      "5/5 [==============================] - 37s 7s/step - loss: 1.0554 - acc: 0.1601 - val_loss: 1.9537 - val_acc: 0.0930\n",
      "Epoch 121/250\n",
      "4/5 [=======================>......] - ETA: 3s - loss: 1.1003 - acc: 0.1554Epoch 1/250\n",
      "16/5 [================================================================================================] - 19s 1s/step - loss: 1.8983 - acc: 0.0956\n",
      "5/5 [==============================] - 37s 7s/step - loss: 1.0535 - acc: 0.1601 - val_loss: 1.9428 - val_acc: 0.0956\n",
      "Epoch 122/250\n",
      "4/5 [=======================>......] - ETA: 3s - loss: 1.0954 - acc: 0.1562Epoch 1/250\n",
      "16/5 [================================================================================================] - 19s 1s/step - loss: 2.2302 - acc: 0.0967\n",
      "5/5 [==============================] - 37s 7s/step - loss: 1.0484 - acc: 0.1601 - val_loss: 1.9846 - val_acc: 0.0967\n",
      "Epoch 123/250\n",
      "4/5 [=======================>......] - ETA: 3s - loss: 1.0925 - acc: 0.1569Epoch 1/250\n",
      "16/5 [================================================================================================] - 19s 1s/step - loss: 1.9636 - acc: 0.0952\n",
      "5/5 [==============================] - 37s 7s/step - loss: 1.0454 - acc: 0.1620 - val_loss: 1.9533 - val_acc: 0.0952\n",
      "Epoch 124/250\n",
      "4/5 [=======================>......] - ETA: 3s - loss: 1.0886 - acc: 0.1569Epoch 1/250\n",
      "16/5 [================================================================================================] - 19s 1s/step - loss: 1.7086 - acc: 0.0989\n",
      "5/5 [==============================] - 37s 7s/step - loss: 1.0416 - acc: 0.1633 - val_loss: 1.9185 - val_acc: 0.0989\n",
      "Epoch 125/250\n",
      "4/5 [=======================>......] - ETA: 3s - loss: 1.0862 - acc: 0.1600Epoch 1/250\n",
      "16/5 [================================================================================================] - 19s 1s/step - loss: 1.9522 - acc: 0.1000\n",
      "5/5 [==============================] - 37s 7s/step - loss: 1.0392 - acc: 0.1639 - val_loss: 1.9533 - val_acc: 0.1000\n",
      "Epoch 126/250\n",
      "4/5 [=======================>......] - ETA: 3s - loss: 1.0824 - acc: 0.1623Epoch 1/250\n",
      "16/5 [================================================================================================] - 19s 1s/step - loss: 1.8985 - acc: 0.0942\n",
      "5/5 [==============================] - 37s 7s/step - loss: 1.0355 - acc: 0.1658 - val_loss: 1.9431 - val_acc: 0.0942\n",
      "Epoch 127/250\n",
      "4/5 [=======================>......] - ETA: 3s - loss: 1.0805 - acc: 0.1600Epoch 1/250\n",
      "16/5 [================================================================================================] - 19s 1s/step - loss: 2.2349 - acc: 0.0965\n",
      "5/5 [==============================] - 37s 7s/step - loss: 1.0331 - acc: 0.1665 - val_loss: 1.9880 - val_acc: 0.0965\n",
      "Epoch 128/250\n",
      "4/5 [=======================>......] - ETA: 3s - loss: 1.0754 - acc: 0.1631Epoch 1/250\n",
      "16/5 [================================================================================================] - 19s 1s/step - loss: 1.9646 - acc: 0.0961\n",
      "5/5 [==============================] - 37s 7s/step - loss: 1.0286 - acc: 0.1696 - val_loss: 1.9540 - val_acc: 0.0961\n",
      "Epoch 129/250\n",
      "4/5 [=======================>......] - ETA: 3s - loss: 1.0717 - acc: 0.1654Epoch 1/250\n",
      "16/5 [================================================================================================] - 19s 1s/step - loss: 1.7064 - acc: 0.0961\n",
      "5/5 [==============================] - 37s 7s/step - loss: 1.0247 - acc: 0.1696 - val_loss: 1.9169 - val_acc: 0.0961\n",
      "Epoch 130/250\n",
      "4/5 [=======================>......] - ETA: 3s - loss: 1.0662 - acc: 0.1654Epoch 1/250\n",
      "16/5 [================================================================================================] - 19s 1s/step - loss: 1.9524 - acc: 0.0964\n",
      "5/5 [==============================] - 37s 7s/step - loss: 1.0191 - acc: 0.1715 - val_loss: 1.9531 - val_acc: 0.0964\n",
      "Epoch 131/250\n",
      "4/5 [=======================>......] - ETA: 3s - loss: 1.0627 - acc: 0.1638Epoch 1/250\n",
      "16/5 [================================================================================================] - 19s 1s/step - loss: 1.9020 - acc: 0.0942\n",
      "5/5 [==============================] - 37s 7s/step - loss: 1.0162 - acc: 0.1696 - val_loss: 1.9461 - val_acc: 0.0942\n",
      "Epoch 132/250\n",
      "4/5 [=======================>......] - ETA: 3s - loss: 1.0594 - acc: 0.1685Epoch 1/250\n",
      "16/5 [================================================================================================] - 19s 1s/step - loss: 2.2368 - acc: 0.0963\n",
      "5/5 [==============================] - 37s 7s/step - loss: 1.0121 - acc: 0.1747 - val_loss: 1.9898 - val_acc: 0.0963\n",
      "Epoch 133/250\n",
      "4/5 [=======================>......] - ETA: 3s - loss: 1.0543 - acc: 0.1746Epoch 1/250\n",
      "16/5 [================================================================================================] - 19s 1s/step - loss: 1.9605 - acc: 0.0934\n",
      "5/5 [==============================] - 37s 7s/step - loss: 1.0074 - acc: 0.1785 - val_loss: 1.9520 - val_acc: 0.0934\n",
      "Epoch 134/250\n",
      "4/5 [=======================>......] - ETA: 3s - loss: 1.0498 - acc: 0.1754Epoch 1/250\n",
      "16/5 [================================================================================================] - 19s 1s/step - loss: 1.7071 - acc: 0.0971\n",
      "5/5 [==============================] - 37s 7s/step - loss: 1.0028 - acc: 0.1823 - val_loss: 1.9177 - val_acc: 0.0971\n",
      "Epoch 135/250\n",
      "4/5 [=======================>......] - ETA: 3s - loss: 1.0454 - acc: 0.1723Epoch 1/250\n",
      "16/5 [================================================================================================] - 19s 1s/step - loss: 1.9567 - acc: 0.0946\n",
      "5/5 [==============================] - 39s 8s/step - loss: 0.9984 - acc: 0.1791 - val_loss: 1.9574 - val_acc: 0.0946\n",
      "Epoch 136/250\n",
      "4/5 [=======================>......] - ETA: 3s - loss: 1.0414 - acc: 0.1777Epoch 1/250\n",
      "16/5 [================================================================================================] - 18s 1s/step - loss: 1.9011 - acc: 0.0976\n",
      "5/5 [==============================] - 36s 7s/step - loss: 0.9945 - acc: 0.1848 - val_loss: 1.9453 - val_acc: 0.0976\n",
      "Epoch 137/250\n",
      "4/5 [=======================>......] - ETA: 3s - loss: 1.0365 - acc: 0.1769Epoch 1/250\n",
      "16/5 [================================================================================================] - 18s 1s/step - loss: 2.2364 - acc: 0.0972\n",
      "5/5 [==============================] - 36s 7s/step - loss: 0.9896 - acc: 0.1816 - val_loss: 1.9884 - val_acc: 0.0972\n",
      "Epoch 138/250\n",
      "4/5 [=======================>......] - ETA: 3s - loss: 1.0344 - acc: 0.1785Epoch 1/250\n",
      "16/5 [================================================================================================] - 18s 1s/step - loss: 1.9623 - acc: 0.0931\n",
      "5/5 [==============================] - 36s 7s/step - loss: 0.9872 - acc: 0.1848 - val_loss: 1.9543 - val_acc: 0.0931\n",
      "Epoch 139/250\n",
      "4/5 [=======================>......] - ETA: 3s - loss: 1.0302 - acc: 0.1792Epoch 1/250\n",
      "16/5 [================================================================================================] - 18s 1s/step - loss: 1.7085 - acc: 0.0964\n",
      "5/5 [==============================] - 35s 7s/step - loss: 0.9832 - acc: 0.1867 - val_loss: 1.9195 - val_acc: 0.0964\n",
      "Epoch 140/250\n",
      "4/5 [=======================>......] - ETA: 3s - loss: 1.0255 - acc: 0.1823Epoch 1/250\n",
      "16/5 [================================================================================================] - 18s 1s/step - loss: 1.9567 - acc: 0.0980\n",
      "5/5 [==============================] - 35s 7s/step - loss: 0.9785 - acc: 0.1886 - val_loss: 1.9583 - val_acc: 0.0980\n",
      "Epoch 141/250\n",
      "4/5 [=======================>......] - ETA: 3s - loss: 1.0216 - acc: 0.1823Epoch 1/250\n",
      "16/5 [================================================================================================] - 18s 1s/step - loss: 1.9026 - acc: 0.0960\n",
      "5/5 [==============================] - 35s 7s/step - loss: 0.9743 - acc: 0.1905 - val_loss: 1.9465 - val_acc: 0.0960\n",
      "Epoch 142/250\n",
      "4/5 [=======================>......] - ETA: 3s - loss: 1.0166 - acc: 0.1877Epoch 1/250\n",
      "16/5 [================================================================================================] - 18s 1s/step - loss: 2.2387 - acc: 0.0952\n",
      "5/5 [==============================] - 36s 7s/step - loss: 0.9696 - acc: 0.1930 - val_loss: 1.9897 - val_acc: 0.0952\n",
      "Epoch 143/250\n",
      "4/5 [=======================>......] - ETA: 3s - loss: 1.0130 - acc: 0.1885Epoch 1/250\n",
      "16/5 [================================================================================================] - 18s 1s/step - loss: 1.9664 - acc: 0.0945\n",
      "5/5 [==============================] - 35s 7s/step - loss: 0.9656 - acc: 0.1962 - val_loss: 1.9571 - val_acc: 0.0945\n",
      "Epoch 144/250\n",
      "4/5 [=======================>......] - ETA: 3s - loss: 1.0075 - acc: 0.1931Epoch 1/250\n",
      "16/5 [================================================================================================] - 18s 1s/step - loss: 1.7095 - acc: 0.1024\n",
      "5/5 [==============================] - 36s 7s/step - loss: 0.9607 - acc: 0.2006 - val_loss: 1.9205 - val_acc: 0.1024\n",
      "Epoch 145/250\n",
      "4/5 [=======================>......] - ETA: 3s - loss: 1.0038 - acc: 0.1915Epoch 1/250\n",
      "16/5 [================================================================================================] - 18s 1s/step - loss: 1.9583 - acc: 0.0969\n",
      "5/5 [==============================] - 36s 7s/step - loss: 0.9568 - acc: 0.1987 - val_loss: 1.9593 - val_acc: 0.0969\n",
      "Epoch 146/250\n",
      "4/5 [=======================>......] - ETA: 3s - loss: 1.0001 - acc: 0.1938Epoch 1/250\n",
      "16/5 [================================================================================================] - 18s 1s/step - loss: 1.9036 - acc: 0.0967\n",
      "5/5 [==============================] - 35s 7s/step - loss: 0.9528 - acc: 0.2006 - val_loss: 1.9492 - val_acc: 0.0967\n",
      "Epoch 147/250\n",
      "4/5 [=======================>......] - ETA: 3s - loss: 0.9949 - acc: 0.1992Epoch 1/250\n",
      "16/5 [================================================================================================] - 18s 1s/step - loss: 2.2402 - acc: 0.0976\n",
      "5/5 [==============================] - 35s 7s/step - loss: 0.9481 - acc: 0.2032 - val_loss: 1.9911 - val_acc: 0.0976\n",
      "Epoch 148/250\n",
      "4/5 [=======================>......] - ETA: 3s - loss: 0.9905 - acc: 0.2015Epoch 1/250\n",
      "16/5 [================================================================================================] - 18s 1s/step - loss: 1.9695 - acc: 0.0990\n",
      "5/5 [==============================] - 36s 7s/step - loss: 0.9436 - acc: 0.2095 - val_loss: 1.9591 - val_acc: 0.0990\n",
      "Epoch 149/250\n",
      "4/5 [=======================>......] - ETA: 3s - loss: 0.9872 - acc: 0.1977Epoch 1/250\n",
      "16/5 [================================================================================================] - 18s 1s/step - loss: 1.7137 - acc: 0.0998\n",
      "5/5 [==============================] - 35s 7s/step - loss: 0.9399 - acc: 0.2057 - val_loss: 1.9257 - val_acc: 0.0998\n",
      "Epoch 150/250\n",
      "4/5 [=======================>......] - ETA: 3s - loss: 0.9821 - acc: 0.2031Epoch 1/250\n",
      "16/5 [================================================================================================] - 18s 1s/step - loss: 1.9587 - acc: 0.0962\n",
      "5/5 [==============================] - 35s 7s/step - loss: 0.9353 - acc: 0.2089 - val_loss: 1.9597 - val_acc: 0.0962\n",
      "Epoch 151/250\n",
      "4/5 [=======================>......] - ETA: 3s - loss: 0.9780 - acc: 0.2015Epoch 1/250\n",
      "16/5 [================================================================================================] - 18s 1s/step - loss: 1.9022 - acc: 0.0953\n",
      "5/5 [==============================] - 36s 7s/step - loss: 0.9312 - acc: 0.2089 - val_loss: 1.9476 - val_acc: 0.0953\n",
      "Epoch 152/250\n",
      "4/5 [=======================>......] - ETA: 3s - loss: 0.9754 - acc: 0.2023Epoch 1/250\n",
      "16/5 [================================================================================================] - 18s 1s/step - loss: 2.2459 - acc: 0.0992\n",
      "5/5 [==============================] - 35s 7s/step - loss: 0.9283 - acc: 0.2101 - val_loss: 1.9978 - val_acc: 0.0992\n",
      "Epoch 153/250\n",
      "4/5 [=======================>......] - ETA: 3s - loss: 0.9692 - acc: 0.2062Epoch 1/250\n",
      "16/5 [================================================================================================] - 18s 1s/step - loss: 1.9709 - acc: 0.1020\n",
      "5/5 [==============================] - 35s 7s/step - loss: 0.9221 - acc: 0.2146 - val_loss: 1.9617 - val_acc: 0.1020\n",
      "Epoch 154/250\n",
      "4/5 [=======================>......] - ETA: 3s - loss: 0.9638 - acc: 0.2077Epoch 1/250\n",
      "16/5 [================================================================================================] - 18s 1s/step - loss: 1.7103 - acc: 0.0959\n",
      "5/5 [==============================] - 35s 7s/step - loss: 0.9165 - acc: 0.2158 - val_loss: 1.9225 - val_acc: 0.0959\n",
      "Epoch 155/250\n",
      "4/5 [=======================>......] - ETA: 3s - loss: 0.9589 - acc: 0.2092Epoch 1/250\n",
      "16/5 [================================================================================================] - 18s 1s/step - loss: 1.9640 - acc: 0.0991\n",
      "5/5 [==============================] - 35s 7s/step - loss: 0.9118 - acc: 0.2171 - val_loss: 1.9638 - val_acc: 0.0991\n",
      "Epoch 156/250\n",
      "4/5 [=======================>......] - ETA: 3s - loss: 0.9541 - acc: 0.2062Epoch 1/250\n",
      "16/5 [================================================================================================] - 18s 1s/step - loss: 1.9074 - acc: 0.0988\n",
      "5/5 [==============================] - 36s 7s/step - loss: 0.9073 - acc: 0.2133 - val_loss: 1.9529 - val_acc: 0.0988\n",
      "Epoch 157/250\n",
      "4/5 [=======================>......] - ETA: 3s - loss: 0.9500 - acc: 0.2108Epoch 1/250\n",
      "16/5 [================================================================================================] - 18s 1s/step - loss: 2.2460 - acc: 0.0994\n",
      "5/5 [==============================] - 36s 7s/step - loss: 0.9027 - acc: 0.2203 - val_loss: 1.9974 - val_acc: 0.0994\n",
      "Epoch 158/250\n",
      "4/5 [=======================>......] - ETA: 3s - loss: 0.9450 - acc: 0.2085Epoch 1/250\n",
      "16/5 [================================================================================================] - 18s 1s/step - loss: 1.9727 - acc: 0.0990\n",
      "5/5 [==============================] - 36s 7s/step - loss: 0.8976 - acc: 0.2165 - val_loss: 1.9633 - val_acc: 0.0990\n",
      "Epoch 159/250\n",
      "4/5 [=======================>......] - ETA: 3s - loss: 0.9415 - acc: 0.2162Epoch 1/250\n",
      "16/5 [================================================================================================] - 18s 1s/step - loss: 1.7111 - acc: 0.0991\n",
      "5/5 [==============================] - 36s 7s/step - loss: 0.8945 - acc: 0.2215 - val_loss: 1.9235 - val_acc: 0.0991\n",
      "Epoch 160/250\n",
      "4/5 [=======================>......] - ETA: 3s - loss: 0.9374 - acc: 0.2131Epoch 1/250\n",
      "16/5 [================================================================================================] - 18s 1s/step - loss: 1.9636 - acc: 0.0944\n",
      "5/5 [==============================] - 35s 7s/step - loss: 0.8906 - acc: 0.2215 - val_loss: 1.9631 - val_acc: 0.0944\n",
      "Epoch 161/250\n",
      "4/5 [=======================>......] - ETA: 3s - loss: 0.9343 - acc: 0.2162Epoch 1/250\n",
      "16/5 [================================================================================================] - 18s 1s/step - loss: 1.9096 - acc: 0.0953\n",
      "5/5 [==============================] - 36s 7s/step - loss: 0.8872 - acc: 0.2222 - val_loss: 1.9551 - val_acc: 0.0953\n",
      "Epoch 162/250\n",
      "4/5 [=======================>......] - ETA: 3s - loss: 0.9287 - acc: 0.2215Epoch 1/250\n",
      "16/5 [================================================================================================] - 18s 1s/step - loss: 2.2487 - acc: 0.1023\n",
      "5/5 [==============================] - 36s 7s/step - loss: 0.8816 - acc: 0.2310 - val_loss: 1.9994 - val_acc: 0.1023\n",
      "Epoch 163/250\n",
      "4/5 [=======================>......] - ETA: 3s - loss: 0.9252 - acc: 0.2223Epoch 1/250\n",
      "16/5 [================================================================================================] - 18s 1s/step - loss: 1.9716 - acc: 0.0941\n",
      "5/5 [==============================] - 36s 7s/step - loss: 0.8775 - acc: 0.2329 - val_loss: 1.9630 - val_acc: 0.0941\n",
      "Epoch 164/250\n",
      "4/5 [=======================>......] - ETA: 3s - loss: 0.9183 - acc: 0.2246Epoch 1/250\n",
      "16/5 [================================================================================================] - 18s 1s/step - loss: 1.7151 - acc: 0.0991\n",
      "5/5 [==============================] - 35s 7s/step - loss: 0.8715 - acc: 0.2373 - val_loss: 1.9270 - val_acc: 0.0991\n",
      "Epoch 165/250\n",
      "4/5 [=======================>......] - ETA: 3s - loss: 0.9144 - acc: 0.2238Epoch 1/250\n",
      "16/5 [================================================================================================] - 18s 1s/step - loss: 1.9661 - acc: 0.0964\n",
      "5/5 [==============================] - 36s 7s/step - loss: 0.8674 - acc: 0.2348 - val_loss: 1.9665 - val_acc: 0.0964\n",
      "Epoch 166/250\n",
      "4/5 [=======================>......] - ETA: 3s - loss: 0.9090 - acc: 0.2292Epoch 1/250\n",
      "16/5 [================================================================================================] - 18s 1s/step - loss: 1.9118 - acc: 0.0983\n",
      "5/5 [==============================] - 36s 7s/step - loss: 0.8617 - acc: 0.2437 - val_loss: 1.9565 - val_acc: 0.0983\n",
      "Epoch 167/250\n",
      "4/5 [=======================>......] - ETA: 3s - loss: 0.9040 - acc: 0.2362Epoch 1/250\n",
      "16/5 [================================================================================================] - 18s 1s/step - loss: 2.2503 - acc: 0.0974\n",
      "5/5 [==============================] - 36s 7s/step - loss: 0.8573 - acc: 0.2468 - val_loss: 2.0005 - val_acc: 0.0974\n",
      "Epoch 168/250\n",
      "4/5 [=======================>......] - ETA: 3s - loss: 0.9009 - acc: 0.2377Epoch 1/250\n",
      "16/5 [================================================================================================] - 18s 1s/step - loss: 1.9708 - acc: 0.1033\n",
      "5/5 [==============================] - 36s 7s/step - loss: 0.8537 - acc: 0.2506 - val_loss: 1.9631 - val_acc: 0.1033\n",
      "Epoch 169/250\n",
      "4/5 [=======================>......] - ETA: 3s - loss: 0.8968 - acc: 0.2415Epoch 1/250\n",
      "16/5 [================================================================================================] - 18s 1s/step - loss: 1.7159 - acc: 0.1072\n",
      "5/5 [==============================] - 35s 7s/step - loss: 0.8497 - acc: 0.2544 - val_loss: 1.9302 - val_acc: 0.1072\n",
      "Epoch 170/250\n",
      "4/5 [=======================>......] - ETA: 3s - loss: 0.8931 - acc: 0.2438Epoch 1/250\n",
      "16/5 [================================================================================================] - 18s 1s/step - loss: 1.9679 - acc: 0.0971\n",
      "5/5 [==============================] - 35s 7s/step - loss: 0.8460 - acc: 0.2582 - val_loss: 1.9687 - val_acc: 0.0971\n",
      "Epoch 171/250\n",
      "4/5 [=======================>......] - ETA: 3s - loss: 0.8876 - acc: 0.2462Epoch 1/250\n",
      "16/5 [================================================================================================] - 18s 1s/step - loss: 1.9135 - acc: 0.0999\n",
      "5/5 [==============================] - 36s 7s/step - loss: 0.8404 - acc: 0.2595 - val_loss: 1.9577 - val_acc: 0.0999\n",
      "Epoch 172/250\n",
      "4/5 [=======================>......] - ETA: 3s - loss: 0.8833 - acc: 0.2546Epoch 1/250\n",
      "16/5 [================================================================================================] - 18s 1s/step - loss: 2.2543 - acc: 0.1048\n",
      "5/5 [==============================] - 36s 7s/step - loss: 0.8365 - acc: 0.2652 - val_loss: 2.0013 - val_acc: 0.1048\n",
      "Epoch 173/250\n",
      "4/5 [=======================>......] - ETA: 3s - loss: 0.8788 - acc: 0.2500Epoch 1/250\n",
      "16/5 [================================================================================================] - 18s 1s/step - loss: 1.9760 - acc: 0.1026\n",
      "5/5 [==============================] - 36s 7s/step - loss: 0.8322 - acc: 0.2665 - val_loss: 1.9682 - val_acc: 0.1026\n",
      "Epoch 174/250\n",
      "4/5 [=======================>......] - ETA: 3s - loss: 0.8746 - acc: 0.2531Epoch 1/250\n",
      "16/5 [================================================================================================] - 18s 1s/step - loss: 1.7184 - acc: 0.1045\n",
      "5/5 [==============================] - 35s 7s/step - loss: 0.8273 - acc: 0.2658 - val_loss: 1.9319 - val_acc: 0.1045\n",
      "Epoch 175/250\n",
      "4/5 [=======================>......] - ETA: 3s - loss: 0.8691 - acc: 0.2631Epoch 1/250\n",
      "16/5 [================================================================================================] - 18s 1s/step - loss: 1.9694 - acc: 0.1048\n",
      "5/5 [==============================] - 35s 7s/step - loss: 0.8225 - acc: 0.2747 - val_loss: 1.9697 - val_acc: 0.1048\n",
      "Epoch 176/250\n",
      "4/5 [=======================>......] - ETA: 3s - loss: 0.8656 - acc: 0.2546Epoch 1/250\n",
      "16/5 [================================================================================================] - 18s 1s/step - loss: 1.9129 - acc: 0.1015\n",
      "5/5 [==============================] - 36s 7s/step - loss: 0.8187 - acc: 0.2709 - val_loss: 1.9580 - val_acc: 0.1015\n",
      "Epoch 177/250\n",
      "4/5 [=======================>......] - ETA: 3s - loss: 0.8622 - acc: 0.2585Epoch 1/250\n",
      "16/5 [================================================================================================] - 18s 1s/step - loss: 2.2570 - acc: 0.1008\n",
      "5/5 [==============================] - 35s 7s/step - loss: 0.8153 - acc: 0.2722 - val_loss: 2.0063 - val_acc: 0.1008\n",
      "Epoch 178/250\n",
      "4/5 [=======================>......] - ETA: 3s - loss: 0.8574 - acc: 0.2623Epoch 1/250\n",
      "16/5 [================================================================================================] - 18s 1s/step - loss: 1.9778 - acc: 0.1006\n",
      "5/5 [==============================] - 36s 7s/step - loss: 0.8106 - acc: 0.2791 - val_loss: 1.9709 - val_acc: 0.1006\n",
      "Epoch 179/250\n",
      "4/5 [=======================>......] - ETA: 3s - loss: 0.8532 - acc: 0.2700Epoch 1/250\n",
      "16/5 [================================================================================================] - 18s 1s/step - loss: 1.7191 - acc: 0.1038\n",
      "5/5 [==============================] - 36s 7s/step - loss: 0.8065 - acc: 0.2861 - val_loss: 1.9330 - val_acc: 0.1038\n",
      "Epoch 180/250\n",
      "4/5 [=======================>......] - ETA: 3s - loss: 0.8492 - acc: 0.2623Epoch 1/250\n",
      "16/5 [================================================================================================] - 18s 1s/step - loss: 1.9708 - acc: 0.1045\n",
      "5/5 [==============================] - 35s 7s/step - loss: 0.8022 - acc: 0.2791 - val_loss: 1.9704 - val_acc: 0.1045\n",
      "Epoch 181/250\n",
      "4/5 [=======================>......] - ETA: 3s - loss: 0.8460 - acc: 0.2685Epoch 1/250\n",
      "16/5 [================================================================================================] - 18s 1s/step - loss: 1.9184 - acc: 0.0992\n",
      "5/5 [==============================] - 36s 7s/step - loss: 0.7992 - acc: 0.2848 - val_loss: 1.9633 - val_acc: 0.0992\n",
      "Epoch 182/250\n",
      "4/5 [=======================>......] - ETA: 3s - loss: 0.8403 - acc: 0.2700Epoch 1/250\n",
      "16/5 [================================================================================================] - 18s 1s/step - loss: 2.2577 - acc: 0.0994\n",
      "5/5 [==============================] - 36s 7s/step - loss: 0.7935 - acc: 0.2880 - val_loss: 2.0071 - val_acc: 0.0994\n",
      "Epoch 183/250\n",
      "4/5 [=======================>......] - ETA: 3s - loss: 0.8367 - acc: 0.2738Epoch 1/250\n",
      "16/5 [================================================================================================] - 18s 1s/step - loss: 1.9747 - acc: 0.1033\n",
      "5/5 [==============================] - 35s 7s/step - loss: 0.7899 - acc: 0.2892 - val_loss: 1.9684 - val_acc: 0.1033\n",
      "Epoch 184/250\n",
      "4/5 [=======================>......] - ETA: 3s - loss: 0.8321 - acc: 0.2792Epoch 1/250\n",
      "16/5 [================================================================================================] - 18s 1s/step - loss: 1.7191 - acc: 0.1045\n",
      "5/5 [==============================] - 35s 7s/step - loss: 0.7856 - acc: 0.2943 - val_loss: 1.9340 - val_acc: 0.1045\n",
      "Epoch 185/250\n",
      "4/5 [=======================>......] - ETA: 3s - loss: 0.8303 - acc: 0.2854Epoch 1/250\n",
      "16/5 [================================================================================================] - 18s 1s/step - loss: 1.9759 - acc: 0.0987\n",
      "5/5 [==============================] - 36s 7s/step - loss: 0.7837 - acc: 0.3025 - val_loss: 1.9756 - val_acc: 0.0987\n",
      "Epoch 186/250\n",
      "4/5 [=======================>......] - ETA: 3s - loss: 0.8245 - acc: 0.2815Epoch 1/250\n",
      "16/5 [================================================================================================] - 18s 1s/step - loss: 1.9200 - acc: 0.0972\n",
      "5/5 [==============================] - 35s 7s/step - loss: 0.7782 - acc: 0.2975 - val_loss: 1.9645 - val_acc: 0.0972\n",
      "Epoch 187/250\n",
      "4/5 [=======================>......] - ETA: 3s - loss: 0.8214 - acc: 0.2831Epoch 1/250\n",
      "16/5 [================================================================================================] - 18s 1s/step - loss: 2.2588 - acc: 0.1034\n",
      "5/5 [==============================] - 35s 7s/step - loss: 0.7747 - acc: 0.3000 - val_loss: 2.0063 - val_acc: 0.1034\n",
      "Epoch 188/250\n",
      "4/5 [=======================>......] - ETA: 3s - loss: 0.8152 - acc: 0.2985Epoch 1/250\n",
      "16/5 [================================================================================================] - 18s 1s/step - loss: 1.9779 - acc: 0.1054\n",
      "5/5 [==============================] - 35s 7s/step - loss: 0.7686 - acc: 0.3171 - val_loss: 1.9727 - val_acc: 0.1054\n",
      "Epoch 189/250\n",
      "4/5 [=======================>......] - ETA: 3s - loss: 0.8107 - acc: 0.2969Epoch 1/250\n",
      "16/5 [================================================================================================] - 18s 1s/step - loss: 1.7227 - acc: 0.1061\n",
      "5/5 [==============================] - 36s 7s/step - loss: 0.7643 - acc: 0.3139 - val_loss: 1.9375 - val_acc: 0.1061\n",
      "Epoch 190/250\n",
      "4/5 [=======================>......] - ETA: 3s - loss: 0.8059 - acc: 0.2977Epoch 1/250\n",
      "16/5 [================================================================================================] - 18s 1s/step - loss: 1.9767 - acc: 0.1018\n",
      "5/5 [==============================] - 35s 7s/step - loss: 0.7595 - acc: 0.3165 - val_loss: 1.9771 - val_acc: 0.1018\n",
      "Epoch 191/250\n",
      "4/5 [=======================>......] - ETA: 3s - loss: 0.8019 - acc: 0.3015Epoch 1/250\n",
      "16/5 [================================================================================================] - 18s 1s/step - loss: 1.9219 - acc: 0.0983\n",
      "5/5 [==============================] - 36s 7s/step - loss: 0.7557 - acc: 0.3196 - val_loss: 1.9657 - val_acc: 0.0983\n",
      "Epoch 192/250\n",
      "4/5 [=======================>......] - ETA: 3s - loss: 0.7979 - acc: 0.3062Epoch 1/250\n",
      "16/5 [================================================================================================] - 18s 1s/step - loss: 2.2634 - acc: 0.0970\n",
      "5/5 [==============================] - 35s 7s/step - loss: 0.7517 - acc: 0.3253 - val_loss: 2.0098 - val_acc: 0.0970\n",
      "Epoch 193/250\n",
      "4/5 [=======================>......] - ETA: 3s - loss: 0.7942 - acc: 0.3100Epoch 1/250\n",
      "16/5 [================================================================================================] - 18s 1s/step - loss: 1.9829 - acc: 0.1051\n",
      "5/5 [==============================] - 35s 7s/step - loss: 0.7484 - acc: 0.3272 - val_loss: 1.9768 - val_acc: 0.1051\n",
      "Epoch 194/250\n",
      "4/5 [=======================>......] - ETA: 3s - loss: 0.7907 - acc: 0.3108Epoch 1/250\n",
      "16/5 [================================================================================================] - 18s 1s/step - loss: 1.7272 - acc: 0.0998\n",
      "5/5 [==============================] - 36s 7s/step - loss: 0.7447 - acc: 0.3297 - val_loss: 1.9411 - val_acc: 0.0998\n",
      "Epoch 195/250\n",
      "4/5 [=======================>......] - ETA: 3s - loss: 0.7862 - acc: 0.3146Epoch 1/250\n",
      "16/5 [================================================================================================] - 18s 1s/step - loss: 1.9788 - acc: 0.1000\n",
      "5/5 [==============================] - 36s 7s/step - loss: 0.7402 - acc: 0.3329 - val_loss: 1.9781 - val_acc: 0.1000\n",
      "Epoch 196/250\n",
      "4/5 [=======================>......] - ETA: 3s - loss: 0.7808 - acc: 0.3192Epoch 1/250\n",
      "16/5 [================================================================================================] - 18s 1s/step - loss: 1.9259 - acc: 0.1006\n",
      "5/5 [==============================] - 35s 7s/step - loss: 0.7350 - acc: 0.3405 - val_loss: 1.9702 - val_acc: 0.1006\n",
      "Epoch 197/250\n",
      "4/5 [=======================>......] - ETA: 3s - loss: 0.7768 - acc: 0.3200Epoch 1/250\n",
      "16/5 [================================================================================================] - 18s 1s/step - loss: 2.2669 - acc: 0.0983\n",
      "5/5 [==============================] - 35s 7s/step - loss: 0.7314 - acc: 0.3380 - val_loss: 2.0147 - val_acc: 0.0983\n",
      "Epoch 198/250\n",
      "4/5 [=======================>......] - ETA: 3s - loss: 0.7734 - acc: 0.3246Epoch 1/250\n",
      "16/5 [================================================================================================] - 18s 1s/step - loss: 1.9851 - acc: 0.1008\n",
      "5/5 [==============================] - 35s 7s/step - loss: 0.7276 - acc: 0.3424 - val_loss: 1.9796 - val_acc: 0.1008\n",
      "Epoch 199/250\n",
      "4/5 [=======================>......] - ETA: 3s - loss: 0.7688 - acc: 0.3231Epoch 1/250\n",
      "16/5 [================================================================================================] - 18s 1s/step - loss: 1.7270 - acc: 0.1012\n",
      "5/5 [==============================] - 35s 7s/step - loss: 0.7237 - acc: 0.3430 - val_loss: 1.9425 - val_acc: 0.1012\n",
      "Epoch 200/250\n",
      "4/5 [=======================>......] - ETA: 3s - loss: 0.7654 - acc: 0.3362Epoch 1/250\n",
      "16/5 [================================================================================================] - 18s 1s/step - loss: 1.9807 - acc: 0.1066\n",
      "5/5 [==============================] - 36s 7s/step - loss: 0.7198 - acc: 0.3538 - val_loss: 1.9801 - val_acc: 0.1066\n",
      "Epoch 201/250\n",
      "4/5 [=======================>......] - ETA: 3s - loss: 0.7608 - acc: 0.3323Epoch 1/250\n",
      "16/5 [================================================================================================] - 18s 1s/step - loss: 1.9303 - acc: 0.0988\n",
      "5/5 [==============================] - 35s 7s/step - loss: 0.7160 - acc: 0.3494 - val_loss: 1.9731 - val_acc: 0.0988\n",
      "Epoch 202/250\n",
      "4/5 [=======================>......] - ETA: 3s - loss: 0.7583 - acc: 0.3323Epoch 1/250\n",
      "16/5 [================================================================================================] - 18s 1s/step - loss: 2.2717 - acc: 0.0981\n",
      "5/5 [==============================] - 36s 7s/step - loss: 0.7132 - acc: 0.3487 - val_loss: 2.0192 - val_acc: 0.0981\n",
      "Epoch 203/250\n",
      "4/5 [=======================>......] - ETA: 3s - loss: 0.7543 - acc: 0.3438Epoch 1/250\n",
      "16/5 [================================================================================================] - 18s 1s/step - loss: 1.9864 - acc: 0.1026\n",
      "5/5 [==============================] - 36s 7s/step - loss: 0.7092 - acc: 0.3627 - val_loss: 1.9811 - val_acc: 0.1026\n",
      "Epoch 204/250\n",
      "4/5 [=======================>......] - ETA: 3s - loss: 0.7499 - acc: 0.3446Epoch 1/250\n",
      "16/5 [================================================================================================] - 18s 1s/step - loss: 1.7267 - acc: 0.1072\n",
      "5/5 [==============================] - 35s 7s/step - loss: 0.7051 - acc: 0.3627 - val_loss: 1.9428 - val_acc: 0.1072\n",
      "Epoch 205/250\n",
      "4/5 [=======================>......] - ETA: 3s - loss: 0.7472 - acc: 0.3392Epoch 1/250\n",
      "16/5 [================================================================================================] - 18s 1s/step - loss: 1.9865 - acc: 0.1009\n",
      "5/5 [==============================] - 35s 7s/step - loss: 0.7024 - acc: 0.3563 - val_loss: 1.9860 - val_acc: 0.1009\n",
      "Epoch 206/250\n",
      "4/5 [=======================>......] - ETA: 3s - loss: 0.7421 - acc: 0.3469Epoch 1/250\n",
      "16/5 [================================================================================================] - 18s 1s/step - loss: 1.9343 - acc: 0.0958\n",
      "5/5 [==============================] - 35s 7s/step - loss: 0.6973 - acc: 0.3652 - val_loss: 1.9781 - val_acc: 0.0958\n",
      "Epoch 207/250\n",
      "4/5 [=======================>......] - ETA: 3s - loss: 0.7390 - acc: 0.3492Epoch 1/250\n",
      "16/5 [================================================================================================] - 18s 1s/step - loss: 2.2726 - acc: 0.1010\n",
      "5/5 [==============================] - 35s 7s/step - loss: 0.6948 - acc: 0.3671 - val_loss: 2.0196 - val_acc: 0.1010\n",
      "Epoch 208/250\n",
      "4/5 [=======================>......] - ETA: 3s - loss: 0.7356 - acc: 0.3485Epoch 1/250\n",
      "16/5 [================================================================================================] - 18s 1s/step - loss: 1.9857 - acc: 0.1024\n",
      "5/5 [==============================] - 35s 7s/step - loss: 0.6913 - acc: 0.3684 - val_loss: 1.9812 - val_acc: 0.1024\n",
      "Epoch 209/250\n",
      "4/5 [=======================>......] - ETA: 3s - loss: 0.7333 - acc: 0.3492Epoch 1/250\n",
      "16/5 [================================================================================================] - 18s 1s/step - loss: 1.7338 - acc: 0.1042\n",
      "5/5 [==============================] - 35s 7s/step - loss: 0.6891 - acc: 0.3696 - val_loss: 1.9501 - val_acc: 0.1042\n",
      "Epoch 210/250\n",
      "4/5 [=======================>......] - ETA: 3s - loss: 0.7284 - acc: 0.3592Epoch 1/250\n",
      "16/5 [================================================================================================] - 18s 1s/step - loss: 1.9899 - acc: 0.1002\n",
      "5/5 [==============================] - 35s 7s/step - loss: 0.6840 - acc: 0.3778 - val_loss: 1.9891 - val_acc: 0.1002\n",
      "Epoch 211/250\n",
      "4/5 [=======================>......] - ETA: 3s - loss: 0.7243 - acc: 0.3692Epoch 1/250\n",
      "16/5 [================================================================================================] - 18s 1s/step - loss: 1.9313 - acc: 0.1026\n",
      "5/5 [==============================] - 36s 7s/step - loss: 0.6804 - acc: 0.3848 - val_loss: 1.9752 - val_acc: 0.1026\n",
      "Epoch 212/250\n",
      "4/5 [=======================>......] - ETA: 3s - loss: 0.7218 - acc: 0.3623Epoch 1/250\n",
      "16/5 [================================================================================================] - 18s 1s/step - loss: 2.2750 - acc: 0.1072\n",
      "5/5 [==============================] - 36s 7s/step - loss: 0.6775 - acc: 0.3816 - val_loss: 2.0214 - val_acc: 0.1072\n",
      "Epoch 213/250\n",
      "4/5 [=======================>......] - ETA: 3s - loss: 0.7179 - acc: 0.3677Epoch 1/250\n",
      "16/5 [================================================================================================] - 18s 1s/step - loss: 1.9959 - acc: 0.1006\n",
      "5/5 [==============================] - 35s 7s/step - loss: 0.6746 - acc: 0.3854 - val_loss: 1.9895 - val_acc: 0.1006\n",
      "Epoch 214/250\n",
      "4/5 [=======================>......] - ETA: 3s - loss: 0.7155 - acc: 0.3731Epoch 1/250\n",
      "16/5 [================================================================================================] - 18s 1s/step - loss: 1.7364 - acc: 0.1024\n",
      "5/5 [==============================] - 36s 7s/step - loss: 0.6713 - acc: 0.3892 - val_loss: 1.9526 - val_acc: 0.1024\n",
      "Epoch 215/250\n",
      "4/5 [=======================>......] - ETA: 3s - loss: 0.7095 - acc: 0.3785Epoch 1/250\n",
      "16/5 [================================================================================================] - 18s 1s/step - loss: 1.9903 - acc: 0.1045\n",
      "5/5 [==============================] - 36s 7s/step - loss: 0.6662 - acc: 0.3975 - val_loss: 1.9885 - val_acc: 0.1045\n",
      "Epoch 216/250\n",
      "4/5 [=======================>......] - ETA: 3s - loss: 0.7070 - acc: 0.3754Epoch 1/250\n",
      "16/5 [================================================================================================] - 18s 1s/step - loss: 1.9362 - acc: 0.1047\n",
      "5/5 [==============================] - 36s 7s/step - loss: 0.6633 - acc: 0.3949 - val_loss: 1.9797 - val_acc: 0.1047\n",
      "Epoch 217/250\n",
      "4/5 [=======================>......] - ETA: 3s - loss: 0.7024 - acc: 0.3831Epoch 1/250\n",
      "16/5 [================================================================================================] - 18s 1s/step - loss: 2.2809 - acc: 0.1012\n",
      "5/5 [==============================] - 35s 7s/step - loss: 0.6592 - acc: 0.4019 - val_loss: 2.0271 - val_acc: 0.1012\n",
      "Epoch 218/250\n",
      "4/5 [=======================>......] - ETA: 3s - loss: 0.6992 - acc: 0.3862Epoch 1/250\n",
      "16/5 [================================================================================================] - 18s 1s/step - loss: 1.9963 - acc: 0.1031\n",
      "5/5 [==============================] - 36s 7s/step - loss: 0.6560 - acc: 0.4057 - val_loss: 1.9913 - val_acc: 0.1031\n",
      "Epoch 219/250\n",
      "4/5 [=======================>......] - ETA: 3s - loss: 0.6948 - acc: 0.3908Epoch 1/250\n",
      "16/5 [================================================================================================] - 18s 1s/step - loss: 1.7336 - acc: 0.1084\n",
      "5/5 [==============================] - 35s 7s/step - loss: 0.6519 - acc: 0.4095 - val_loss: 1.9522 - val_acc: 0.1084\n",
      "Epoch 220/250\n",
      "4/5 [=======================>......] - ETA: 3s - loss: 0.6927 - acc: 0.3862Epoch 1/250\n",
      "16/5 [================================================================================================] - 18s 1s/step - loss: 1.9950 - acc: 0.0996\n",
      "5/5 [==============================] - 36s 7s/step - loss: 0.6496 - acc: 0.4070 - val_loss: 1.9935 - val_acc: 0.0996\n",
      "Epoch 221/250\n",
      "4/5 [=======================>......] - ETA: 3s - loss: 0.6884 - acc: 0.3908Epoch 1/250\n",
      "16/5 [================================================================================================] - 18s 1s/step - loss: 1.9416 - acc: 0.1010\n",
      "5/5 [==============================] - 35s 7s/step - loss: 0.6456 - acc: 0.4089 - val_loss: 1.9851 - val_acc: 0.1010\n",
      "Epoch 222/250\n",
      "4/5 [=======================>......] - ETA: 3s - loss: 0.6858 - acc: 0.3900Epoch 1/250\n",
      "16/5 [================================================================================================] - 18s 1s/step - loss: 2.2837 - acc: 0.1025\n",
      "5/5 [==============================] - 36s 7s/step - loss: 0.6427 - acc: 0.4101 - val_loss: 2.0290 - val_acc: 0.1025\n",
      "Epoch 223/250\n",
      "4/5 [=======================>......] - ETA: 3s - loss: 0.6814 - acc: 0.3969Epoch 1/250\n",
      "16/5 [================================================================================================] - 18s 1s/step - loss: 1.9942 - acc: 0.1058\n",
      "5/5 [==============================] - 36s 7s/step - loss: 0.6386 - acc: 0.4158 - val_loss: 1.9897 - val_acc: 0.1058\n",
      "Epoch 224/250\n",
      "4/5 [=======================>......] - ETA: 3s - loss: 0.6787 - acc: 0.4031Epoch 1/250\n",
      "16/5 [================================================================================================] - 18s 1s/step - loss: 1.7419 - acc: 0.1033\n",
      "5/5 [==============================] - 35s 7s/step - loss: 0.6361 - acc: 0.4215 - val_loss: 1.9583 - val_acc: 0.1033\n",
      "Epoch 225/250\n",
      "4/5 [=======================>......] - ETA: 3s - loss: 0.6752 - acc: 0.4038Epoch 1/250\n",
      "16/5 [================================================================================================] - 18s 1s/step - loss: 1.9991 - acc: 0.1000\n",
      "5/5 [==============================] - 36s 7s/step - loss: 0.6324 - acc: 0.4266 - val_loss: 1.9974 - val_acc: 0.1000\n",
      "Epoch 226/250\n",
      "4/5 [=======================>......] - ETA: 3s - loss: 0.6722 - acc: 0.4023Epoch 1/250\n",
      "16/5 [================================================================================================] - 18s 1s/step - loss: 1.9409 - acc: 0.1044\n",
      "5/5 [==============================] - 36s 7s/step - loss: 0.6297 - acc: 0.4215 - val_loss: 1.9844 - val_acc: 0.1044\n",
      "Epoch 227/250\n",
      "4/5 [=======================>......] - ETA: 3s - loss: 0.6683 - acc: 0.4023Epoch 1/250\n",
      "16/5 [================================================================================================] - 18s 1s/step - loss: 2.2842 - acc: 0.1032\n",
      "5/5 [==============================] - 35s 7s/step - loss: 0.6257 - acc: 0.4228 - val_loss: 2.0290 - val_acc: 0.1032\n",
      "Epoch 228/250\n",
      "4/5 [=======================>......] - ETA: 3s - loss: 0.6649 - acc: 0.4138Epoch 1/250\n",
      "16/5 [================================================================================================] - 18s 1s/step - loss: 1.9993 - acc: 0.0997\n",
      "5/5 [==============================] - 36s 7s/step - loss: 0.6230 - acc: 0.4329 - val_loss: 1.9950 - val_acc: 0.0997\n",
      "Epoch 229/250\n",
      "4/5 [=======================>......] - ETA: 3s - loss: 0.6630 - acc: 0.4108Epoch 1/250\n",
      "16/5 [================================================================================================] - 18s 1s/step - loss: 1.7388 - acc: 0.1042\n",
      "5/5 [==============================] - 36s 7s/step - loss: 0.6206 - acc: 0.4304 - val_loss: 1.9578 - val_acc: 0.1042\n",
      "Epoch 230/250\n",
      "4/5 [=======================>......] - ETA: 3s - loss: 0.6588 - acc: 0.4138Epoch 1/250\n",
      "16/5 [================================================================================================] - 18s 1s/step - loss: 1.9998 - acc: 0.1039\n",
      "5/5 [==============================] - 36s 7s/step - loss: 0.6167 - acc: 0.4361 - val_loss: 1.9985 - val_acc: 0.1039\n",
      "Epoch 231/250\n",
      "4/5 [=======================>......] - ETA: 3s - loss: 0.6560 - acc: 0.4085Epoch 1/250\n",
      "16/5 [================================================================================================] - 18s 1s/step - loss: 1.9467 - acc: 0.1022\n",
      "5/5 [==============================] - 35s 7s/step - loss: 0.6140 - acc: 0.4291 - val_loss: 1.9900 - val_acc: 0.1022\n",
      "Epoch 232/250\n",
      "4/5 [=======================>......] - ETA: 3s - loss: 0.6531 - acc: 0.4177Epoch 1/250\n",
      "16/5 [================================================================================================] - 18s 1s/step - loss: 2.2876 - acc: 0.1030\n",
      "5/5 [==============================] - 35s 7s/step - loss: 0.6117 - acc: 0.4367 - val_loss: 2.0326 - val_acc: 0.1030\n",
      "Epoch 233/250\n",
      "4/5 [=======================>......] - ETA: 3s - loss: 0.6502 - acc: 0.4231Epoch 1/250\n",
      "16/5 [================================================================================================] - 18s 1s/step - loss: 2.0062 - acc: 0.0988\n",
      "5/5 [==============================] - 36s 7s/step - loss: 0.6086 - acc: 0.4437 - val_loss: 2.0002 - val_acc: 0.0988\n",
      "Epoch 234/250\n",
      "4/5 [=======================>......] - ETA: 3s - loss: 0.6458 - acc: 0.4208Epoch 1/250\n",
      "16/5 [================================================================================================] - 18s 1s/step - loss: 1.7459 - acc: 0.1033\n",
      "5/5 [==============================] - 36s 7s/step - loss: 0.6044 - acc: 0.4411 - val_loss: 1.9647 - val_acc: 0.1033\n",
      "Epoch 235/250\n",
      "4/5 [=======================>......] - ETA: 3s - loss: 0.6423 - acc: 0.4292Epoch 1/250\n",
      "16/5 [================================================================================================] - 18s 1s/step - loss: 2.0041 - acc: 0.1027\n",
      "5/5 [==============================] - 36s 7s/step - loss: 0.6010 - acc: 0.4487 - val_loss: 2.0021 - val_acc: 0.1027\n",
      "Epoch 236/250\n",
      "4/5 [=======================>......] - ETA: 3s - loss: 0.6395 - acc: 0.4346Epoch 1/250\n",
      "16/5 [================================================================================================] - 18s 1s/step - loss: 1.9493 - acc: 0.1006\n",
      "5/5 [==============================] - 36s 7s/step - loss: 0.5984 - acc: 0.4538 - val_loss: 1.9927 - val_acc: 0.1006\n",
      "Epoch 237/250\n",
      "4/5 [=======================>......] - ETA: 3s - loss: 0.6367 - acc: 0.4246Epoch 1/250\n",
      "16/5 [================================================================================================] - 18s 1s/step - loss: 2.2957 - acc: 0.0956\n",
      "5/5 [==============================] - 36s 7s/step - loss: 0.5960 - acc: 0.4462 - val_loss: 2.0403 - val_acc: 0.0956\n",
      "Epoch 238/250\n",
      "4/5 [=======================>......] - ETA: 3s - loss: 0.6340 - acc: 0.4369Epoch 1/250\n",
      "16/5 [================================================================================================] - 18s 1s/step - loss: 2.0093 - acc: 0.0999\n",
      "5/5 [==============================] - 36s 7s/step - loss: 0.5927 - acc: 0.4608 - val_loss: 2.0041 - val_acc: 0.0999\n",
      "Epoch 239/250\n",
      "4/5 [=======================>......] - ETA: 3s - loss: 0.6301 - acc: 0.4385Epoch 1/250\n",
      "16/5 [================================================================================================] - 18s 1s/step - loss: 1.7455 - acc: 0.1042\n",
      "5/5 [==============================] - 36s 7s/step - loss: 0.5898 - acc: 0.4576 - val_loss: 1.9647 - val_acc: 0.1042\n",
      "Epoch 240/250\n",
      "4/5 [=======================>......] - ETA: 3s - loss: 0.6294 - acc: 0.4385Epoch 1/250\n",
      "16/5 [================================================================================================] - 19s 1s/step - loss: 2.0094 - acc: 0.1012\n",
      "5/5 [==============================] - 37s 7s/step - loss: 0.5886 - acc: 0.4614 - val_loss: 2.0060 - val_acc: 0.1012\n",
      "Epoch 241/250\n",
      "4/5 [=======================>......] - ETA: 3s - loss: 0.6252 - acc: 0.4408Epoch 1/250\n",
      "16/5 [================================================================================================] - 21s 1s/step - loss: 1.9524 - acc: 0.0974\n",
      "5/5 [==============================] - 40s 8s/step - loss: 0.5850 - acc: 0.4608 - val_loss: 1.9959 - val_acc: 0.0974\n",
      "Epoch 242/250\n"
     ]
    }
   ],
   "source": [
    "batch_size = 16\n",
    "n_samples = 80 #train_x.shape[0]\n",
    "history = model.fit_generator(\n",
    "    generator_ed(train_x, train_y, batch_size, vocabulary_size_source, vocabulary_size_dst, \\\n",
    "                 samples=n_samples, shf=False, onehot_dst=True, onehot_src=False),\n",
    "    epochs=250,\n",
    "    #batch_size=50,\n",
    "    #validation_split=0.2,\n",
    "    #steps_per_epoch = train_x.shape[0]/batch_size,\n",
    "    steps_per_epoch=n_samples/batch_size,\n",
    "    validation_data=generator_ed(valid_x, valid_y, batch_size, vocabulary_size_source, \\\n",
    "         vocabulary_size_dst, samples=n_samples, shf=True, onehot_dst=True, onehot_src=False),\n",
    "    validation_steps=batch_size,\n",
    "  #  callbacks=[neptune_monitor]\n",
    "    \n",
    "\n",
    ")"
   ]
  },
  {
   "cell_type": "code",
   "execution_count": 421,
   "metadata": {},
   "outputs": [],
   "source": [
    "with open('trainHistory_320_200-250ep', 'wb') as file_pi:\n",
    "        pickle.dump(history.history, file_pi)"
   ]
  },
  {
   "cell_type": "code",
   "execution_count": null,
   "metadata": {},
   "outputs": [],
   "source": [
    "from pathlib import Path\n",
    "\n",
    "\n",
    "models_path = 'models'\n",
    "model_name = 'model_ed_adam_3Gemb_80_250ep'\n",
    "Path(models_path).mkdir(parents=True, exist_ok=True)\n",
    "model_file_path = os.path.join(models_path, model_name+'.h5')\n",
    "model_hist_path = os.path.join(models_path, 'trainHistory_'+model_name)\n",
    "\n",
    "with open(model_hist_path, 'wb') as file_pi:\n",
    "        pickle.dump(history.history, file_pi)\n",
    "\n",
    "model.save(model_file_path)\n",
    "\n",
    "print('Model and history saved under {} and {} respectively'.format(model_file_path, \\\n",
    "                                                                    model_hist_path))\n",
    "\n",
    "\n",
    "#from tensorflow.keras.models import load_model\n",
    "#model = load_model('model_ed_3200_150ep.h5')"
   ]
  },
  {
   "cell_type": "code",
   "execution_count": 367,
   "metadata": {},
   "outputs": [
    {
     "data": {
      "text/plain": [
       "array([32151, 17145, 32151, 32151, 17145, 27960, 27960, 17145, 23105,\n",
       "       17145, 23105, 17145, 17145, 17145, 23105, 37800, 17145, 17145,\n",
       "       37800, 23105, 37800, 17145, 17145, 23105, 23105, 17145, 17145,\n",
       "       23105, 17145, 17145, 17145, 23105, 49268, 49268,     0,     0,\n",
       "           0,     0,     0,     0,     0,     0,     0,     0,     0,\n",
       "           0,     0,     0,     0,     0,     0,     0,     0,     0,\n",
       "           0,     0,     0,     0,     0,     0,     0,     0,     0,\n",
       "           0,     0,     0,     0,     0,     0,     0,     0,     0,\n",
       "           0,     0,     0,     0,     0,     0,     0])"
      ]
     },
     "execution_count": 367,
     "metadata": {},
     "output_type": "execute_result"
    }
   ],
   "source": [
    "np.argmax(model.predict([train_x[0:1], train_y[0:1,1:]]), axis=2)[0]"
   ]
  },
  {
   "cell_type": "code",
   "execution_count": 445,
   "metadata": {},
   "outputs": [
    {
     "name": "stdout",
     "output_type": "stream",
     "text": [
      "['is', 'is', 'the', 'the', 'on', 'the', 'heating', 'the', 'of', 'the', 'towns', 'hospitals', 'prisons', 'and', 'refineries', 'paper', 'mills', 'wastewater', 'treatment', 'and', 'thermal', 'and', 'and', 'recovery', 'and', 'and', 'and', 'to', 'to', '<UNK>', 'of', 'of', '<END>', None, None, None, None, None, None, None, None, None, None, None, None, None, None, None, None, None, None, None, None, None, None, None, None, None, None, None, None, None, None, None, None, None, None, None, None, None, None, None, None, None, None, None, None, None, None]\n"
     ]
    }
   ],
   "source": [
    "print([get_word(x, tokenizer_dst) for x in np.argmax(model.predict([train_x[3:4], train_y[3:4,:-1]]), axis=2)[0]])"
   ]
  },
  {
   "cell_type": "code",
   "execution_count": 446,
   "metadata": {},
   "outputs": [
    {
     "data": {
      "text/plain": [
       "['Cogeneration plants are commonly found in district heating systems of big towns , hospitals , prisons , oil refineries , paper mills , wastewater treatment plants , thermal enhanced oil recovery wells and industrial plants with large heating needs .\\n']"
      ]
     },
     "execution_count": 446,
     "metadata": {},
     "output_type": "execute_result"
    }
   ],
   "source": [
    "train_ori_dst[3:4]"
   ]
  },
  {
   "cell_type": "code",
   "execution_count": 56,
   "metadata": {},
   "outputs": [
    {
     "data": {
      "text/plain": [
       "' <UNK> is the the of of of of of of of of of of of of of of of of of of of of of of'"
      ]
     },
     "execution_count": 56,
     "metadata": {},
     "output_type": "execute_result"
    }
   ],
   "source": [
    "import pdb\n",
    "indx = 312\n",
    "sequence = train_x[indx:indx+1]\n",
    "token_dict = tokenizer_dst\n",
    "token_dict_reverse = dict((index, word) for word, index in token_dict.items())\n",
    "token_dict_reverse[0] = '<pad>'\n",
    "length_out = 50     \n",
    "enc = encoder_model\n",
    "dec = decoder_model\n",
    "states_value = enc.predict(sequence)\n",
    "\n",
    "# Generate empty target sequence of length 1.\n",
    "decoded_sequence = np.zeros((1,1))\n",
    "\n",
    "# Populate the first character of target sequence with the start character.\n",
    "decoded_sequence[0, 0] = token_dict['<START>']\n",
    "\n",
    "# Sampling loop for a batch of sequences\n",
    "# (to simplify, here we assume a batch of size 1).\n",
    "stop_condition = False\n",
    "decoded_sentence = ''\n",
    "\n",
    "output_len = 0\n",
    "\n",
    "while not stop_condition:\n",
    "    \n",
    "    \n",
    "    #print(decoded_sequence)\n",
    "    #print(states_value[1].shape)\n",
    "    #output_tokens, h, c = decoder_model.predict([decoded_sequence] + states_value)\n",
    "    output_tokens, hh, cc = dec.predict([decoded_sequence[0]] + states_value)\n",
    "    #pdb.set_trace()\n",
    "    #print(output_tokens.shape)\n",
    "    # Sample a token\n",
    "    sampled_token_index = np.argmax(output_tokens[0, -1, :])\n",
    "#     sampled_token_index = np.argmax(output_tokens, axis=2)[0][0]\n",
    "#     print(sampled_token_index)\n",
    "    \n",
    "    sampled_word = token_dict_reverse[sampled_token_index]\n",
    "#     output_array.append((sampled_token_index, sampled_word))\n",
    "    \n",
    "    output_len += 1\n",
    "    # Exit condition: either hit max length or find stop token.\n",
    "    if (sampled_word == '<END>' or output_len > length_out):\n",
    "        stop_condition = True\n",
    "    else:\n",
    "        decoded_sentence += ' '+sampled_word\n",
    "        \n",
    "    # Update the target sequence (of length 1).\n",
    "    decoded_sequence = np.zeros((1,1))\n",
    "    decoded_sequence[0, 0] = sampled_token_index\n",
    "\n",
    "    # Update states\n",
    "    states_value = [hh, cc]\n",
    "decoded_sentence\n"
   ]
  },
  {
   "cell_type": "code",
   "execution_count": 416,
   "metadata": {},
   "outputs": [
    {
     "data": {
      "text/plain": [
       "array([[49267, 23105,  7128, 25162, 26400, 47750,  9351,  3502, 17145,\n",
       "        34778, 35180, 46646, 23105,  7128, 25162, 35617, 49268,     0,\n",
       "            0,     0,     0,     0,     0,     0,     0,     0,     0,\n",
       "            0,     0,     0,     0,     0,     0,     0,     0,     0,\n",
       "            0,     0,     0,     0,     0,     0,     0,     0,     0,\n",
       "            0,     0,     0,     0,     0,     0,     0,     0,     0,\n",
       "            0,     0,     0,     0,     0,     0,     0,     0,     0,\n",
       "            0,     0,     0,     0,     0,     0,     0,     0,     0,\n",
       "            0,     0,     0,     0,     0,     0,     0,     0]],\n",
       "      dtype=int32)"
      ]
     },
     "execution_count": 416,
     "metadata": {},
     "output_type": "execute_result"
    }
   ],
   "source": [
    "train_y[indx:indx+1]"
   ]
  },
  {
   "cell_type": "code",
   "execution_count": 376,
   "metadata": {},
   "outputs": [
    {
     "data": {
      "text/plain": [
       "['The Balearic Islands are an autonomous community of Spain , formed by the Balearic Islands province .\\n']"
      ]
     },
     "execution_count": 376,
     "metadata": {},
     "output_type": "execute_result"
    }
   ],
   "source": [
    "train_ori_dst[indx:indx+1]"
   ]
  },
  {
   "cell_type": "code",
   "execution_count": null,
   "metadata": {},
   "outputs": [],
   "source": []
  },
  {
   "cell_type": "code",
   "execution_count": 91,
   "metadata": {},
   "outputs": [
    {
     "data": {
      "text/plain": [
       "array([[12214, 19938,  9052, 12214,  8560, 17237, 17051, 16711, 24271,\n",
       "        26058,  9052, 12214, 12619, 19938,  9052, 12214,  4127,     0,\n",
       "            0,     0,     0,     0,     0,     0,     0,     0,     0,\n",
       "            0,     0,     0,     0,     0,     0,     0,     0,     0,\n",
       "            0,     0,     0,     0,     0,     0,     0,     0,     0,\n",
       "            0,     0,     0,     0,     0]], dtype=int32)"
      ]
     },
     "execution_count": 91,
     "metadata": {},
     "output_type": "execute_result"
    }
   ],
   "source": [
    "train_x[19:20]"
   ]
  },
  {
   "cell_type": "code",
   "execution_count": 443,
   "metadata": {},
   "outputs": [],
   "source": [
    "from model import *"
   ]
  },
  {
   "cell_type": "code",
   "execution_count": 61,
   "metadata": {},
   "outputs": [
    {
     "data": {
      "text/plain": [
       "' <UNK> <pad> level'"
      ]
     },
     "execution_count": 61,
     "metadata": {},
     "output_type": "execute_result"
    }
   ],
   "source": [
    "indx=0\n",
    "decode_sequence(train_x[indx:indx+1], enc, dec, token_dict)"
   ]
  },
  {
   "cell_type": "code",
   "execution_count": 62,
   "metadata": {},
   "outputs": [
    {
     "data": {
      "text/plain": [
       "['There is some proof that Austen continued to work on these pieces later in life . Her nephew and niece , James Edward and Anna Austen , may have made further additions to her work in around 1814 .\\n']"
      ]
     },
     "execution_count": 62,
     "metadata": {},
     "output_type": "execute_result"
    }
   ],
   "source": [
    "train_ori_dst[indx:indx+1]"
   ]
  },
  {
   "cell_type": "code",
   "execution_count": 75,
   "metadata": {},
   "outputs": [
    {
     "data": {
      "text/plain": [
       "150"
      ]
     },
     "execution_count": 75,
     "metadata": {},
     "output_type": "execute_result"
    }
   ],
   "source": [
    "# with open('trainHistory_320_200-250ep', 'rb') as file:\n",
    "#     history3 = pickle.load(file)\n",
    "# history2['loss'] += history3['loss']\n",
    "# history2['val_loss'] += history3['val_loss']\n",
    "len(history2['loss'])"
   ]
  },
  {
   "cell_type": "code",
   "execution_count": 102,
   "metadata": {},
   "outputs": [
    {
     "data": {
      "image/png": "[encoded data removed]",
      "text/plain": [
       "<Figure size 432x288 with 1 Axes>"
      ]
     },
     "metadata": {
      "needs_background": "light"
     },
     "output_type": "display_data"
    },
    {
     "data": {
      "image/png": "[encoded data removed]",
      "text/plain": [
       "<Figure size 432x288 with 1 Axes>"
      ]
     },
     "metadata": {
      "needs_background": "light"
     },
     "output_type": "display_data"
    }
   ],
   "source": [
    "import matplotlib.pyplot as plt\n",
    "#fig = plt.figure()\n",
    "plt.plot(model.history.history[\"loss\"][100:], label=\"loss\")\n",
    "plt.plot(model.history.history[\"val_loss\"][100:], label=\"validation loss\")\n",
    "plt.title('Training on 320 samples with 100d GloVe embedding on enc and dec, tr epochs: 100-250')\n",
    "plt.legend()\n",
    "plt.savefig('training_comparison.png', bbox_inches='tight')\n",
    "plt.show()\n",
    "plt.close()\n",
    "\n",
    "plt.plot(history2[\"loss\"], label=\"loss\")\n",
    "plt.plot(history2[\"val_loss\"], label=\"validation loss\")\n",
    "plt.title('Training on 320 samples without GloVe embedding on enc and dec, tr epochs: 100-250')\n",
    "plt.legend()\n",
    "plt.savefig('training_comparison2.png', bbox_inches='tight')\n",
    "plt.show()\n",
    "plt.close()\n",
    "\n",
    "# fig = plt.gcf()\n",
    "# plt.show()\n",
    "# plt.draw()\n",
    "# fig.savefig('training_comparison.png')"
   ]
  },
  {
   "cell_type": "code",
   "execution_count": 167,
   "metadata": {},
   "outputs": [
    {
     "data": {
      "text/plain": [
       "0.0"
      ]
     },
     "execution_count": 167,
     "metadata": {},
     "output_type": "execute_result"
    }
   ],
   "source": [
    "from model import *\n",
    "indx = 21\n",
    "# hyp = decode_sequence(train_x[indx:indx+1], enc, dec, token_dict)\n",
    "# ref = tokenize(clean(train_ori_dst[indx:indx+1]))\n",
    "hyp = tokenize(\"oil is good\")\n",
    "ref = [\"oil is good many\"]\n",
    "\n",
    "bleu_score(ref, hyp)"
   ]
  },
  {
   "cell_type": "code",
   "execution_count": 177,
   "metadata": {},
   "outputs": [
    {
     "data": {
      "text/plain": [
       "0.6027417027417027"
      ]
     },
     "execution_count": 177,
     "metadata": {},
     "output_type": "execute_result"
    }
   ],
   "source": [
    "ssent = \"About 95 species are currently accepted .\"\n",
    "csent = \"About 95 species are known .\"\n",
    "rsent = \"About 95 species are currently known .\"\n",
    "\n",
    "from SARI import *\n",
    "SARIsent(ssent, csent, [rsent])"
   ]
  },
  {
   "cell_type": "code",
   "execution_count": 178,
   "metadata": {},
   "outputs": [
    {
     "name": "stderr",
     "output_type": "stream",
     "text": [
      "[autoreload of nltk.internals failed: Traceback (most recent call last):\n",
      "  File \"/home/filipp/anaconda3/envs/simple-simplifier/lib/python3.6/site-packages/IPython/extensions/autoreload.py\", line 245, in check\n",
      "    superreload(m, reload, self.old_objects)\n",
      "  File \"/home/filipp/anaconda3/envs/simple-simplifier/lib/python3.6/site-packages/IPython/extensions/autoreload.py\", line 410, in superreload\n",
      "    update_generic(old_obj, new_obj)\n",
      "  File \"/home/filipp/anaconda3/envs/simple-simplifier/lib/python3.6/site-packages/IPython/extensions/autoreload.py\", line 347, in update_generic\n",
      "    update(a, b)\n",
      "  File \"/home/filipp/anaconda3/envs/simple-simplifier/lib/python3.6/site-packages/IPython/extensions/autoreload.py\", line 317, in update_class\n",
      "    update_instances(old, new)\n",
      "  File \"/home/filipp/anaconda3/envs/simple-simplifier/lib/python3.6/site-packages/IPython/extensions/autoreload.py\", line 280, in update_instances\n",
      "    ref.__class__ = new\n",
      "  File \"/home/filipp/anaconda3/envs/simple-simplifier/lib/python3.6/site-packages/nltk/internals.py\", line 981, in __setattr__\n",
      "    return setattr(self._etree, attr, value)\n",
      "TypeError: __class__ assignment only supported for heap types or ModuleType subclasses\n",
      "]\n",
      "[autoreload of nltk.lazyimport failed: Traceback (most recent call last):\n",
      "  File \"/home/filipp/anaconda3/envs/simple-simplifier/lib/python3.6/site-packages/IPython/extensions/autoreload.py\", line 245, in check\n",
      "    superreload(m, reload, self.old_objects)\n",
      "  File \"/home/filipp/anaconda3/envs/simple-simplifier/lib/python3.6/site-packages/IPython/extensions/autoreload.py\", line 410, in superreload\n",
      "    update_generic(old_obj, new_obj)\n",
      "  File \"/home/filipp/anaconda3/envs/simple-simplifier/lib/python3.6/site-packages/IPython/extensions/autoreload.py\", line 347, in update_generic\n",
      "    update(a, b)\n",
      "  File \"/home/filipp/anaconda3/envs/simple-simplifier/lib/python3.6/site-packages/IPython/extensions/autoreload.py\", line 317, in update_class\n",
      "    update_instances(old, new)\n",
      "  File \"/home/filipp/anaconda3/envs/simple-simplifier/lib/python3.6/site-packages/IPython/extensions/autoreload.py\", line 280, in update_instances\n",
      "    ref.__class__ = new\n",
      "  File \"/home/filipp/anaconda3/envs/simple-simplifier/lib/python3.6/site-packages/nltk/lazyimport.py\", line 142, in __setattr__\n",
      "    setattr(module, name, value)\n",
      "TypeError: __class__ assignment only supported for heap types or ModuleType subclasses\n",
      "]\n",
      "[autoreload of nltk.downloader failed: Traceback (most recent call last):\n",
      "  File \"/home/filipp/anaconda3/envs/simple-simplifier/lib/python3.6/site-packages/IPython/extensions/autoreload.py\", line 245, in check\n",
      "    superreload(m, reload, self.old_objects)\n",
      "  File \"/home/filipp/anaconda3/envs/simple-simplifier/lib/python3.6/site-packages/IPython/extensions/autoreload.py\", line 394, in superreload\n",
      "    module = reload(module)\n",
      "  File \"/home/filipp/anaconda3/envs/simple-simplifier/lib/python3.6/imp.py\", line 315, in reload\n",
      "    return importlib.reload(module)\n",
      "  File \"/home/filipp/anaconda3/envs/simple-simplifier/lib/python3.6/importlib/__init__.py\", line 166, in reload\n",
      "    _bootstrap._exec(spec, module)\n",
      "  File \"<frozen importlib._bootstrap>\", line 618, in _exec\n",
      "  File \"<frozen importlib._bootstrap_external>\", line 678, in exec_module\n",
      "  File \"<frozen importlib._bootstrap>\", line 219, in _call_with_frames_removed\n",
      "  File \"/home/filipp/anaconda3/envs/simple-simplifier/lib/python3.6/site-packages/nltk/downloader.py\", line 2513, in <module>\n",
      "    _downloader = Downloader()\n",
      "  File \"/home/filipp/anaconda3/envs/simple-simplifier/lib/python3.6/site-packages/nltk/downloader.py\", line 521, in __init__\n",
      "    self._download_dir = self.default_download_dir()\n",
      "  File \"/home/filipp/anaconda3/envs/simple-simplifier/lib/python3.6/site-packages/nltk/downloader.py\", line 1082, in default_download_dir\n",
      "    if os.path.exists(nltkdir) and nltk.internals.is_writable(nltkdir):\n",
      "AttributeError: module 'nltk' has no attribute 'internals'\n",
      "]\n"
     ]
    },
    {
     "ename": "NameError",
     "evalue": "name 'easse' is not defined",
     "output_type": "error",
     "traceback": [
      "\u001b[0;31m---------------------------------------------------------------------------\u001b[0m",
      "\u001b[0;31mNameError\u001b[0m                                 Traceback (most recent call last)",
      "\u001b[0;32m<ipython-input-178-b7265c5376e6>\u001b[0m in \u001b[0;36m<module>\u001b[0;34m\u001b[0m\n\u001b[0;32m----> 1\u001b[0;31m \u001b[0measse\u001b[0m\u001b[0;34m\u001b[0m\u001b[0;34m\u001b[0m\u001b[0m\n\u001b[0m",
      "\u001b[0;31mNameError\u001b[0m: name 'easse' is not defined"
     ]
    }
   ],
   "source": [
    "easse"
   ]
  },
  {
   "cell_type": "code",
   "execution_count": 179,
   "metadata": {},
   "outputs": [
    {
     "ename": "AttributeError",
     "evalue": "module 'nltk.translate' has no attribute 'bleu_score'",
     "output_type": "error",
     "traceback": [
      "\u001b[0;31m---------------------------------------------------------------------------\u001b[0m",
      "\u001b[0;31mAttributeError\u001b[0m                            Traceback (most recent call last)",
      "\u001b[0;32m<ipython-input-179-a496e7b6bb4e>\u001b[0m in \u001b[0;36m<module>\u001b[0;34m\u001b[0m\n\u001b[1;32m      1\u001b[0m \u001b[0mindx\u001b[0m \u001b[0;34m=\u001b[0m \u001b[0;36m19\u001b[0m\u001b[0;34m\u001b[0m\u001b[0;34m\u001b[0m\u001b[0m\n\u001b[1;32m      2\u001b[0m bleu_score(decode_sequence(train_x[indx:indx+1], enc, dec, token_dict), \\\n\u001b[0;32m----> 3\u001b[0;31m            tokenize(clean(train_ori_dst[indx:indx+1])))\n\u001b[0m",
      "\u001b[0;32m~/Project/model.py\u001b[0m in \u001b[0;36mbleu_score\u001b[0;34m(ref, hyp)\u001b[0m\n\u001b[1;32m    123\u001b[0m \u001b[0;34m\u001b[0m\u001b[0m\n\u001b[1;32m    124\u001b[0m     \u001b[0mref\u001b[0m \u001b[0;34m=\u001b[0m \u001b[0msimplifier\u001b[0m\u001b[0;34m.\u001b[0m\u001b[0mtokenize\u001b[0m\u001b[0;34m(\u001b[0m\u001b[0mref\u001b[0m\u001b[0;34m[\u001b[0m\u001b[0;36m0\u001b[0m\u001b[0;34m]\u001b[0m\u001b[0;34m)\u001b[0m\u001b[0;34m\u001b[0m\u001b[0;34m\u001b[0m\u001b[0m\n\u001b[0;32m--> 125\u001b[0;31m     \u001b[0mBLEUscore\u001b[0m \u001b[0;34m=\u001b[0m \u001b[0mnltk\u001b[0m\u001b[0;34m.\u001b[0m\u001b[0mtranslate\u001b[0m\u001b[0;34m.\u001b[0m\u001b[0mbleu_score\u001b[0m\u001b[0;34m.\u001b[0m\u001b[0msentence_bleu\u001b[0m\u001b[0;34m(\u001b[0m\u001b[0;34m[\u001b[0m\u001b[0mref\u001b[0m\u001b[0;34m]\u001b[0m\u001b[0;34m,\u001b[0m \u001b[0mhyp\u001b[0m\u001b[0;34m,\u001b[0m \u001b[0mweights\u001b[0m\u001b[0;34m=\u001b[0m\u001b[0;34m(\u001b[0m\u001b[0;36m1\u001b[0m\u001b[0;34m,\u001b[0m \u001b[0;36m1\u001b[0m\u001b[0;34m,\u001b[0m \u001b[0;36m1\u001b[0m\u001b[0;34m,\u001b[0m \u001b[0;36m1\u001b[0m\u001b[0;34m)\u001b[0m\u001b[0;34m)\u001b[0m\u001b[0;34m\u001b[0m\u001b[0;34m\u001b[0m\u001b[0m\n\u001b[0m\u001b[1;32m    126\u001b[0m     \u001b[0;32mreturn\u001b[0m \u001b[0mnp\u001b[0m\u001b[0;34m.\u001b[0m\u001b[0mround\u001b[0m\u001b[0;34m(\u001b[0m\u001b[0mBLEUscore\u001b[0m\u001b[0;34m*\u001b[0m\u001b[0;36m100\u001b[0m\u001b[0;34m,\u001b[0m\u001b[0;36m1\u001b[0m\u001b[0;34m)\u001b[0m\u001b[0;34m\u001b[0m\u001b[0;34m\u001b[0m\u001b[0m\n",
      "\u001b[0;31mAttributeError\u001b[0m: module 'nltk.translate' has no attribute 'bleu_score'"
     ]
    }
   ],
   "source": [
    "indx = 19\n",
    "bleu_score(decode_sequence(train_x[indx:indx+1], enc, dec, token_dict), \\\n",
    "           tokenize(clean(train_ori_dst[indx:indx+1])))"
   ]
  },
  {
   "cell_type": "code",
   "execution_count": 57,
   "metadata": {},
   "outputs": [
    {
     "ename": "NameError",
     "evalue": "name 'enc' is not defined",
     "output_type": "error",
     "traceback": [
      "\u001b[0;31m---------------------------------------------------------------------------\u001b[0m",
      "\u001b[0;31mNameError\u001b[0m                                 Traceback (most recent call last)",
      "\u001b[0;32m<ipython-input-57-7bd78f3e364f>\u001b[0m in \u001b[0;36m<module>\u001b[0;34m\u001b[0m\n\u001b[1;32m      3\u001b[0m \u001b[0;34m\u001b[0m\u001b[0m\n\u001b[1;32m      4\u001b[0m     \u001b[0;31m#hyp = [get_word(x, tokenizer_dst) for x in np.argmax(model.predict([train_x[indx:indx+1], train_y[indx:indx+1,:]]), axis=2)[0]]\u001b[0m\u001b[0;34m\u001b[0m\u001b[0;34m\u001b[0m\u001b[0;34m\u001b[0m\u001b[0m\n\u001b[0;32m----> 5\u001b[0;31m     \u001b[0mhyp\u001b[0m \u001b[0;34m=\u001b[0m \u001b[0mtokenize\u001b[0m\u001b[0;34m(\u001b[0m\u001b[0mdecode_sequence\u001b[0m\u001b[0;34m(\u001b[0m\u001b[0mtrain_x\u001b[0m\u001b[0;34m[\u001b[0m\u001b[0mindx\u001b[0m\u001b[0;34m:\u001b[0m\u001b[0mindx\u001b[0m\u001b[0;34m+\u001b[0m\u001b[0;36m1\u001b[0m\u001b[0;34m]\u001b[0m\u001b[0;34m,\u001b[0m \u001b[0menc\u001b[0m\u001b[0;34m,\u001b[0m \u001b[0mdec\u001b[0m\u001b[0;34m,\u001b[0m \u001b[0mtoken_dict\u001b[0m\u001b[0;34m)\u001b[0m\u001b[0;34m)\u001b[0m\u001b[0;34m\u001b[0m\u001b[0;34m\u001b[0m\u001b[0m\n\u001b[0m\u001b[1;32m      6\u001b[0m     \u001b[0;31m#tokenize?\u001b[0m\u001b[0;34m\u001b[0m\u001b[0;34m\u001b[0m\u001b[0;34m\u001b[0m\u001b[0m\n\u001b[1;32m      7\u001b[0m     \u001b[0;31m# pass\u001b[0m\u001b[0;34m\u001b[0m\u001b[0;34m\u001b[0m\u001b[0;34m\u001b[0m\u001b[0m\n",
      "\u001b[0;31mNameError\u001b[0m: name 'enc' is not defined"
     ]
    }
   ],
   "source": [
    "max_bs = 0\n",
    "for indx in range(0,3200):\n",
    "    \n",
    "    #hyp = [get_word(x, tokenizer_dst) for x in np.argmax(model.predict([train_x[indx:indx+1], train_y[indx:indx+1,:]]), axis=2)[0]]\n",
    "    hyp = tokenize(decode_sequence(train_x[indx:indx+1], enc, dec, token_dict))\n",
    "    #tokenize?\n",
    "    # pass\n",
    "    ref = tokenize(train_ori_dst[indx:indx+1][0])\n",
    "    #hyp = hyp[0:15]\n",
    "    #print(hyp)\n",
    "\n",
    "    #print(ref)\n",
    "\n",
    "    # print(ref)\n",
    "    BLEUscore = nltk.translate.bleu_score.sentence_bleu([ref], hyp)\n",
    "    #print(BLEUscore)\n",
    "    if BLEUscore>max_bs:\n",
    "        argmax_bs = indx"
   ]
  },
  {
   "cell_type": "code",
   "execution_count": 139,
   "metadata": {},
   "outputs": [
    {
     "data": {
      "text/plain": [
       "-1.0"
      ]
     },
     "execution_count": 139,
     "metadata": {},
     "output_type": "execute_result"
    }
   ],
   "source": [
    "1.0377133938315695e-231 -1"
   ]
  },
  {
   "cell_type": "code",
   "execution_count": 70,
   "metadata": {},
   "outputs": [
    {
     "data": {
      "text/plain": [
       "'<START>'"
      ]
     },
     "execution_count": 70,
     "metadata": {},
     "output_type": "execute_result"
    }
   ],
   "source": [
    "token_dict_reverse[train_y[0][0]]"
   ]
  },
  {
   "cell_type": "code",
   "execution_count": null,
   "metadata": {},
   "outputs": [],
   "source": [
    "sampled_token_index"
   ]
  },
  {
   "cell_type": "code",
   "execution_count": null,
   "metadata": {},
   "outputs": [],
   "source": [
    "np.argmax(output_tokens)"
   ]
  },
  {
   "cell_type": "code",
   "execution_count": 124,
   "metadata": {},
   "outputs": [
    {
     "data": {
      "text/plain": [
       "11323"
      ]
     },
     "execution_count": 124,
     "metadata": {},
     "output_type": "execute_result"
    }
   ],
   "source": [
    "import gc\n",
    "gc.collect()"
   ]
  },
  {
   "cell_type": "code",
   "execution_count": null,
   "metadata": {},
   "outputs": [],
   "source": []
  },
  {
   "cell_type": "code",
   "execution_count": null,
   "metadata": {},
   "outputs": [],
   "source": [
    "from model import *"
   ]
  },
  {
   "cell_type": "code",
   "execution_count": null,
   "metadata": {},
   "outputs": [],
   "source": [
    "encoder_model.predict(train_x[12]).shape"
   ]
  },
  {
   "cell_type": "code",
   "execution_count": null,
   "metadata": {},
   "outputs": [],
   "source": [
    "decode_sequence(train_x[12:13], encoder_model, decoder_model, tokenizer_dst)"
   ]
  },
  {
   "cell_type": "code",
   "execution_count": null,
   "metadata": {},
   "outputs": [],
   "source": [
    "import simplifier\n",
    "batch_size = 32\n",
    "n_samples = 64\n",
    "encoder_input_data, decoder_input_data, decoder_target_data = next(generator_ed(train_x, train_y, batch_size, vocabulary_size_source, vocabulary_size_dst, samples=n_samples, shf=False, onehot_dst=True, onehot_src=True))"
   ]
  },
  {
   "cell_type": "code",
   "execution_count": null,
   "metadata": {},
   "outputs": [],
   "source": [
    "encoder_input_data.shape"
   ]
  },
  {
   "cell_type": "code",
   "execution_count": null,
   "metadata": {},
   "outputs": [],
   "source": [
    "model.fit([encoder_input_data, decoder_input_data], decoder_target_data,\n",
    "          batch_size=4,\n",
    "          epochs=20,\n",
    "          validation_split=0.2)"
   ]
  },
  {
   "cell_type": "code",
   "execution_count": null,
   "metadata": {},
   "outputs": [],
   "source": [
    "import simplifier"
   ]
  },
  {
   "cell_type": "code",
   "execution_count": null,
   "metadata": {},
   "outputs": [],
   "source": [
    "mod.summary()"
   ]
  },
  {
   "cell_type": "code",
   "execution_count": null,
   "metadata": {},
   "outputs": [],
   "source": [
    "\n",
    "# import datetime\n",
    "# import neptune\n",
    "# #from simplifier import generator\n",
    "# #import tensorboard\n",
    "\n",
    "# #PARAMS = {'n_iterations': 117,\n",
    "# #          'n_images': 5}\n",
    "\n",
    "# # neptune.init('l-theorist/sandbox',\n",
    "# #              api_token='eyJhcGlfYWRkcmVzcyI6Imh0dHBzOi8vdWkubmVwdHVuZS5haSIsImFwaV91cmwiOiJodHRwczovL3VpLm5lcHR1bmUuYWkiLCJhcGlfa2V5IjoiNDYyODYzNzAtNWMzOC00ZTY5LWJkMjYtYTRhNTVkNWM4MWZjIn0=')\n",
    "\n",
    "\n",
    "\n",
    "\n",
    "\n",
    "# rms = optimizers.RMSprop(lr=0.001)\n",
    "# nadm =optimizers.Nadam(learning_rate=0.008, beta_1=0.99, beta_2=0.99999)\n",
    "# admx = optimizers.Adamax(learning_rate=0.0006, beta_1=0.999, beta_2=0.999999)\n",
    "# mod.compile(\n",
    "#     optimizer=rms,\n",
    "#     #optimizer=\"adam\",\n",
    "#     #loss=\"categorical_crossentropy\",\n",
    "#     loss=\"sparse_categorical_crossentropy\",\n",
    "#     #metrics=[\"accuracy\"]\n",
    "\n",
    "# )\n",
    "\n",
    "\n",
    "# with neptune.create_experiment(name='baseline simplifier',\n",
    "#                                #params=PARAMS\n",
    "#                               ):\n",
    "#     neptune_monitor = NeptuneMonitor()\n",
    "   \n",
    "\n",
    "batch_size = 64\n",
    "n_samples = 64 #train_x.shape[0]\n",
    "history = mod.fit_generator(\n",
    "    generator(train_x, train_y, batch_size, samples=n_samples, shf=False, onehot=False),\n",
    "    #data_gen,\n",
    "    #(train_gen(train_x, 500), one_hot_encode_output(train_y_gen)),\n",
    "    epochs=100,\n",
    "    #batch_size=50,\n",
    "    #validation_split=0.2,\n",
    "    #steps_per_epoch = train_x.shape[0]/batch_size,\n",
    "    steps_per_epoch = n_samples/batch_size,\n",
    "  #  callbacks=[neptune_monitor]\n",
    "    \n",
    "\n",
    ")"
   ]
  },
  {
   "cell_type": "code",
   "execution_count": null,
   "metadata": {},
   "outputs": [],
   "source": [
    "mod.predict_classes(train_x[10:12])"
   ]
  },
  {
   "cell_type": "code",
   "execution_count": null,
   "metadata": {},
   "outputs": [],
   "source": [
    "mod.layers"
   ]
  },
  {
   "cell_type": "code",
   "execution_count": null,
   "metadata": {},
   "outputs": [],
   "source": [
    "from tensorflow import keras\n",
    "from kerastuner import HyperModel\n",
    "\n",
    "\n",
    "class SimpleHyperModel(HyperModel):\n",
    "    def __init__(self, vocab_in, vocab_out, length_in, length_out, n_units, \\\n",
    "                    use_emb=None, unfreeze_emb=True):\n",
    "        self.vocab_in = vocab_in\n",
    "        self.vocab_out = vocab_out\n",
    "        self.length_in = length_in\n",
    "        self.length_out = length_out\n",
    "        self.n_units = n_units\n",
    "        self.use_emb = use_emb\n",
    "        self.unfreeze_emb = unfreeze_emb\n",
    "        \n",
    "\n",
    "    def build(self, hp):\n",
    "        \n",
    "        if self.use_emb is not None:\n",
    "            assert self.n_units==self.use_emb.shape[-1], \"Embedding dimension should match n_units.\"\n",
    "        encoder_input = Input(shape=(self.length_in,))\n",
    "        encoder_output = layers.Embedding(self.vocab_in+1,\n",
    "                                        self.n_units,\n",
    "                                        input_length=self.length_in,\n",
    "                                        embeddings_initializer='lecun_uniform',\n",
    "                                        mask_zero=True,\n",
    "                                        trainable=True)(encoder_input)\n",
    "        encoder_output = layers.LSTM(self.n_units)(encoder_output)\n",
    "        encoder_output = layers.RepeatVector(self.length_out)(encoder_output)\n",
    "        decoder_output = layers.LSTM(self.n_units, return_sequences=True)(encoder_output)\n",
    "        decoder_output = layers.TimeDistributed(layers.Dense(self.vocab_out+1, activation='softmax'))(decoder_output)\n",
    "\n",
    "        model = models.Model(encoder_input, decoder_output)\n",
    "        if self.use_emb is not None:\n",
    "            model.layers[1].set_weights([self.use_emb])\n",
    "            model.layers[1].trainable = self.unfreeze_emb\n",
    "\n",
    "\n",
    "\n",
    "\n",
    "        \n",
    "        model.compile(\n",
    "            optimizer=keras.optimizers.Adam(\n",
    "                hp.Float(\n",
    "                    'learning_rate',\n",
    "                    min_value=1e-4,\n",
    "                    max_value=1e-2,\n",
    "                    sampling='LOG',\n",
    "                    default=1e-3\n",
    "                )\n",
    "            ),\n",
    "            loss='sparse_categorical_crossentropy',\n",
    "            #metrics=['accuracy']\n",
    "        )\n",
    "        return model\n",
    "\n",
    "hypermodel = SimpleHyperModel(vocabulary_size_source, vocabulary_size_dst, sentence_length, \\\n",
    "                  sentence_length_dst, 512)"
   ]
  },
  {
   "cell_type": "code",
   "execution_count": null,
   "metadata": {},
   "outputs": [],
   "source": [
    "from kerastuner.tuners import RandomSearch #,Hyperband\n",
    "HYPERBAND_MAX_EPOCHS=20\n",
    "SEED=17\n",
    "MAX_TRIALS = 10\n",
    "EXECUTION_PER_TRIAL = 2\n",
    "\n",
    "\n",
    "\n",
    "tuner = RandomSearch(\n",
    "    hypermodel,\n",
    "    #max_epochs=HYPERBAND_MAX_EPOCHS,\n",
    "    objective='loss',\n",
    "    max_trials=MAX_TRIALS,\n",
    "    seed=SEED,\n",
    "    executions_per_trial=EXECUTION_PER_TRIAL,\n",
    "    directory='randomsearch',\n",
    "    project_name='fil'\n",
    ")"
   ]
  },
  {
   "cell_type": "code",
   "execution_count": null,
   "metadata": {},
   "outputs": [],
   "source": [
    "tuner.search_space_summary()"
   ]
  },
  {
   "cell_type": "code",
   "execution_count": null,
   "metadata": {},
   "outputs": [],
   "source": [
    "N_EPOCH_SEARCH = 20\n",
    "batch_size = 128\n",
    "n_samples = 256 #train_x.shape[0]\n",
    "tuner.search_generator(generator(train_x, train_y, batch_size, samples=n_samples, shf=False, onehot=False), epochs=N_EPOCH_SEARCH)"
   ]
  },
  {
   "cell_type": "code",
   "execution_count": null,
   "metadata": {},
   "outputs": [],
   "source": [
    "import matplotlib.pyplot as plt\n",
    "\n",
    "plt.plot(model.history.history[\"loss\"], label=\"loss\")\n",
    "#plt.plot(model.history.history[\"val_loss\"], label=\"validation loss\")\n",
    "plt.legend()\n",
    "plt.show()\n",
    "plt.close()"
   ]
  },
  {
   "cell_type": "code",
   "execution_count": null,
   "metadata": {},
   "outputs": [],
   "source": [
    "model.summary()"
   ]
  },
  {
   "cell_type": "code",
   "execution_count": null,
   "metadata": {},
   "outputs": [],
   "source": [
    "model.predict(train_x[10:11]).shape"
   ]
  },
  {
   "cell_type": "code",
   "execution_count": null,
   "metadata": {},
   "outputs": [],
   "source": [
    "train_ori_src[10:11]"
   ]
  },
  {
   "cell_type": "code",
   "execution_count": null,
   "metadata": {},
   "outputs": [],
   "source": [
    "train_x[10:11]"
   ]
  },
  {
   "cell_type": "code",
   "execution_count": null,
   "metadata": {},
   "outputs": [],
   "source": []
  },
  {
   "cell_type": "code",
   "execution_count": null,
   "metadata": {},
   "outputs": [],
   "source": [
    "model.predict_classes(train_x[10:11])"
   ]
  },
  {
   "cell_type": "code",
   "execution_count": null,
   "metadata": {},
   "outputs": [],
   "source": [
    "convert(model.predict_classes(train_x[10:11]), token_dict=tokenizer_dst)"
   ]
  },
  {
   "cell_type": "code",
   "execution_count": null,
   "metadata": {},
   "outputs": [],
   "source": [
    "convert(train_x[10:11], tokenizer_src)"
   ]
  },
  {
   "cell_type": "code",
   "execution_count": null,
   "metadata": {},
   "outputs": [],
   "source": [
    "train_ori_dst[10:11]"
   ]
  },
  {
   "cell_type": "code",
   "execution_count": null,
   "metadata": {},
   "outputs": [],
   "source": [
    "from tensorflow.keras.models import load_model\n",
    "model = load_model(\"model_all_1.h5\")"
   ]
  },
  {
   "cell_type": "code",
   "execution_count": null,
   "metadata": {},
   "outputs": [],
   "source": []
  },
  {
   "cell_type": "code",
   "execution_count": null,
   "metadata": {},
   "outputs": [],
   "source": [
    "np.sum(model.get_weights()[0])"
   ]
  },
  {
   "cell_type": "code",
   "execution_count": null,
   "metadata": {},
   "outputs": [],
   "source": [
    "from tensorflow.keras.models import load_model\n",
    "mdl = load_model(\"first_3K_smod.h5\")"
   ]
  },
  {
   "cell_type": "code",
   "execution_count": null,
   "metadata": {},
   "outputs": [],
   "source": [
    "np.sum(mdl.get_weights()[0])"
   ]
  },
  {
   "cell_type": "code",
   "execution_count": null,
   "metadata": {},
   "outputs": [],
   "source": [
    "train_x[indx]"
   ]
  },
  {
   "cell_type": "code",
   "execution_count": null,
   "metadata": {},
   "outputs": [],
   "source": [
    "train_y[indx]"
   ]
  },
  {
   "cell_type": "code",
   "execution_count": null,
   "metadata": {},
   "outputs": [],
   "source": [
    "def predict_sequence(model, tokenizer, source):\n",
    "    prediction = model.predict(source, verbose=0)\n",
    "    integers = [np.argmax(vector) for vector in prediction]\n",
    "    return convert(integers, tokenizer)"
   ]
  },
  {
   "cell_type": "code",
   "execution_count": null,
   "metadata": {},
   "outputs": [],
   "source": [
    "predict_sequence(model, tokenizer_dst, train_x[10:11])"
   ]
  },
  {
   "cell_type": "code",
   "execution_count": null,
   "metadata": {},
   "outputs": [],
   "source": [
    "prediction = model.predict(train_x[indx], verbose=0)[0]"
   ]
  },
  {
   "cell_type": "code",
   "execution_count": null,
   "metadata": {},
   "outputs": [],
   "source": [
    "integers = [np.argmax(vector) for vector in prediction]"
   ]
  },
  {
   "cell_type": "code",
   "execution_count": null,
   "metadata": {},
   "outputs": [],
   "source": [
    "prediction[1]"
   ]
  },
  {
   "cell_type": "code",
   "execution_count": null,
   "metadata": {},
   "outputs": [],
   "source": []
  }
 ],
 "metadata": {
  "kernelspec": {
   "display_name": "simple-simplifier",
   "language": "python",
   "name": "simple-simplifier"
  },
  "language_info": {
   "codemirror_mode": {
    "name": "ipython",
    "version": 3
   },
   "file_extension": ".py",
   "mimetype": "text/x-python",
   "name": "python",
   "nbconvert_exporter": "python",
   "pygments_lexer": "ipython3",
   "version": "3.6.10"
  }
 },
 "nbformat": 4,
 "nbformat_minor": 4
}
