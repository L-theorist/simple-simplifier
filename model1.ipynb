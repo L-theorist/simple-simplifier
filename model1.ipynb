{
 "cells": [
  {
   "cell_type": "code",
   "execution_count": 1,
   "metadata": {},
   "outputs": [
    {
     "name": "stderr",
     "output_type": "stream",
     "text": [
      "[nltk_data] Downloading package words to /home/filipp/nltk_data...\n",
      "[nltk_data]   Package words is already up-to-date!\n",
      "[nltk_data] Downloading package punkt to /home/filipp/nltk_data...\n",
      "[nltk_data]   Package punkt is already up-to-date!\n"
     ]
    },
    {
     "data": {
      "text/plain": [
       "True"
      ]
     },
     "execution_count": 1,
     "metadata": {},
     "output_type": "execute_result"
    }
   ],
   "source": [
    "import os\n",
    "import pathlib\n",
    "import nltk\n",
    "import numpy as np\n",
    "from unicodedata import normalize\n",
    "import collections\n",
    "%reload_ext autoreload\n",
    "%autoreload 2\n",
    "\n",
    "import pickle, os\n",
    "from pathlib import Path\n",
    "import datetime\n",
    "\n",
    "from model import *\n",
    "from simplifier import *\n",
    "from spellchecker import *\n",
    "\n",
    "nltk.download('words')\n",
    "nltk.download('punkt')\n"
   ]
  },
  {
   "cell_type": "code",
   "execution_count": 2,
   "metadata": {},
   "outputs": [],
   "source": [
    "path_data = 'data-simplification/wikilarge/wiki.full.aner.'"
   ]
  },
  {
   "cell_type": "code",
   "execution_count": 3,
   "metadata": {},
   "outputs": [],
   "source": [
    "train_src = open(path_data+'train.src', \"r\").readlines()\n",
    "train_dst = open(path_data+'train.dst', \"r\").readlines()\n",
    "train_ori_src = open(path_data+'ori.train.src', \"r\").readlines()\n",
    "train_ori_dst = open(path_data+'ori.train.dst', \"r\").readlines()\n",
    "\n",
    "valid_src = open(path_data+'valid.src', \"r\").readlines()\n",
    "valid_dst = open(path_data+'valid.dst', \"r\").readlines()\n",
    "valid_ori_src = open(path_data+'ori.valid.src', \"r\").readlines()\n",
    "valid_ori_dst = open(path_data+'ori.valid.dst', \"r\").readlines()"
   ]
  },
  {
   "cell_type": "markdown",
   "metadata": {},
   "source": [
    "### Comparison of datasets; will work with original first. Named entity identification is applied to get the modified dataset. Might facilitate trainining working with this."
   ]
  },
  {
   "cell_type": "code",
   "execution_count": 4,
   "metadata": {},
   "outputs": [
    {
     "name": "stdout",
     "output_type": "stream",
     "text": [
      "ORGANIZATION@1 crews conducted backburning operations to ensure containment of the fire on NUMBER@1 February , warning residents of areas between LOCATION@1 and Warragul about smoke from those fires .\n",
      "\n",
      "DSE crews conducted backburning operations to ensure containment of the fire on 9 February , warning residents of areas between Pakenham and Warragul about smoke from those fires .\n",
      "\n",
      "People between Pakenham and Warragul were warned about smoke from those fires .\n",
      "\n",
      "People between LOCATION@1 and Warragul were warned about smoke from those fires .\n",
      "\n",
      "The Summer of Love became a defining moment of the 1960s , as the hippie counterculture movement came into public awareness .\n",
      "\n",
      "Thousands of young people from all over the world went to San Francisco to help create a hippie counterculture . The Summer of Love made the rest of America much more aware of the hippie movement .\n",
      "\n"
     ]
    }
   ],
   "source": [
    "print(train_src[114], \n",
    "      train_ori_src[114], \n",
    "      train_ori_dst[114],\n",
    "      train_dst[114],\n",
    "      valid_ori_src[11],\n",
    "      valid_ori_dst[11],\n",
    "      sep=\"\\n\")"
   ]
  },
  {
   "cell_type": "markdown",
   "metadata": {},
   "source": [
    "### Restricting to a maximal sentence length"
   ]
  },
  {
   "cell_type": "code",
   "execution_count": 5,
   "metadata": {},
   "outputs": [],
   "source": [
    "sent_len = 20\n",
    "train_ori_src, train_ori_dst = shorten(train_ori_src, train_ori_dst, sent_len, short_dst=True)"
   ]
  },
  {
   "cell_type": "code",
   "execution_count": 6,
   "metadata": {},
   "outputs": [
    {
     "data": {
      "text/plain": [
       "(196222, 196222)"
      ]
     },
     "execution_count": 6,
     "metadata": {},
     "output_type": "execute_result"
    }
   ],
   "source": [
    "#checking that the number of source and target samples match\n",
    "len(train_ori_src), len(train_ori_dst)"
   ]
  },
  {
   "cell_type": "code",
   "execution_count": 7,
   "metadata": {},
   "outputs": [
    {
     "name": "stdout",
     "output_type": "stream",
     "text": [
      "Country Music Television , or CMT , is an American country music-oriented cable television network .\n",
      "\n",
      "CMT -LRB- Country Music Television -RRB- is an American country music cable television channel .\n",
      "\n"
     ]
    }
   ],
   "source": [
    "#one more example\n",
    "print(train_ori_src[11],\n",
    "      train_ori_dst[11],\n",
    "      sep=\"\\n\")\n"
   ]
  },
  {
   "cell_type": "markdown",
   "metadata": {},
   "source": [
    "### Use GloVe representation"
   ]
  },
  {
   "cell_type": "code",
   "execution_count": 8,
   "metadata": {},
   "outputs": [],
   "source": [
    "representation_dimension = 300 #50,100, 200 or 300 \n",
    "embedding_index = {}\n",
    "file = os.path.join(str(pathlib.Path.home())+\"/GloVe\",\"glove.6B.{}d.txt\".format(representation_dimension))\n",
    "f= open(file)\n",
    "for line in f:\n",
    "    values = line.split()\n",
    "    word = values[0]\n",
    "    coefs = np.asarray(values[1:], dtype=\"float32\")\n",
    "    embedding_index[word] = coefs\n",
    "\n"
   ]
  },
  {
   "cell_type": "markdown",
   "metadata": {},
   "source": [
    "### A glimpse at the representations."
   ]
  },
  {
   "cell_type": "code",
   "execution_count": 9,
   "metadata": {
    "scrolled": true
   },
   "outputs": [
    {
     "name": "stdout",
     "output_type": "stream",
     "text": [
      "the [ 4.6560e-02  2.1318e-01 -7.4364e-03 -4.5854e-01 -3.5639e-02  2.3643e-01\n",
      " -2.8836e-01  2.1521e-01 -1.3486e-01 -1.6413e+00 -2.6091e-01  3.2434e-02\n",
      "  5.6621e-02 -4.3296e-02 -2.1672e-02  2.2476e-01 -7.5129e-02 -6.7018e-02\n",
      " -1.4247e-01  3.8825e-02 -1.8951e-01  2.9977e-01  3.9305e-01  1.7887e-01\n",
      " -1.7343e-01 -2.1178e-01  2.3617e-01 -6.3681e-02 -4.2318e-01 -1.1661e-01\n",
      "  9.3754e-02  1.7296e-01 -3.3073e-01  4.9112e-01 -6.8995e-01 -9.2462e-02\n",
      "  2.4742e-01 -1.7991e-01  9.7908e-02  8.3118e-02  1.5299e-01 -2.7276e-01\n",
      " -3.8934e-02  5.4453e-01  5.3737e-01  2.9105e-01 -7.3514e-03  4.7880e-02\n",
      " -4.0760e-01 -2.6759e-02  1.7919e-01  1.0977e-02 -1.0963e-01 -2.6395e-01\n",
      "  7.3990e-02  2.6236e-01 -1.5080e-01  3.4623e-01  2.5758e-01  1.1971e-01\n",
      " -3.7135e-02 -7.1593e-02  4.3898e-01 -4.0764e-02  1.6425e-02 -4.4640e-01\n",
      "  1.7197e-01  4.6246e-02  5.8639e-02  4.1499e-02  5.3948e-01  5.2495e-01\n",
      "  1.1361e-01 -4.8315e-02 -3.6385e-01  1.8704e-01  9.2761e-02 -1.1129e-01\n",
      " -4.2085e-01  1.3992e-01 -3.9338e-01 -6.7945e-02  1.2188e-01  1.6707e-01\n",
      "  7.5169e-02 -1.5529e-02 -1.9499e-01  1.9638e-01  5.3194e-02  2.5170e-01\n",
      " -3.4845e-01 -1.0638e-01 -3.4692e-01 -1.9024e-01 -2.0040e-01  1.2154e-01\n",
      " -2.9208e-01  2.3353e-02 -1.1618e-01 -3.5768e-01  6.2304e-02  3.5884e-01\n",
      "  2.9060e-02  7.3005e-03  4.9482e-03 -1.5048e-01 -1.2313e-01  1.9337e-01\n",
      "  1.2173e-01  4.4503e-01  2.5147e-01  1.0781e-01 -1.7716e-01  3.8691e-02\n",
      "  8.1530e-02  1.4667e-01  6.3666e-02  6.1332e-02 -7.5569e-02 -3.7724e-01\n",
      "  1.5850e-02 -3.0342e-01  2.8374e-01 -4.2013e-02 -4.0715e-02 -1.5269e-01\n",
      "  7.4980e-02  1.5577e-01  1.0433e-01  3.1393e-01  1.9309e-01  1.9429e-01\n",
      "  1.5185e-01 -1.0192e-01 -1.8785e-02  2.0791e-01  1.3366e-01  1.9038e-01\n",
      " -2.5558e-01  3.0400e-01 -1.8960e-02  2.0147e-01 -4.2110e-01 -7.5156e-03\n",
      " -2.7977e-01 -1.9314e-01  4.6204e-02  1.9971e-01 -3.0207e-01  2.5735e-01\n",
      "  6.8107e-01 -1.9409e-01  2.3984e-01  2.2493e-01  6.5224e-01 -1.3561e-01\n",
      " -1.7383e-01 -4.8209e-02 -1.1860e-01  2.1588e-03 -1.9525e-02  1.1948e-01\n",
      "  1.9346e-01 -4.0820e-01 -8.2966e-02  1.6626e-01 -1.0601e-01  3.5861e-01\n",
      "  1.6922e-01  7.2590e-02 -2.4803e-01 -1.0024e-01 -5.2491e-01 -1.7745e-01\n",
      " -3.6647e-01  2.6180e-01 -1.2077e-02  8.3190e-02 -2.1528e-01  4.1045e-01\n",
      "  2.9136e-01  3.0869e-01  7.8864e-02  3.2207e-01 -4.1023e-02 -1.0970e-01\n",
      " -9.2041e-02 -1.2339e-01 -1.6416e-01  3.5382e-01 -8.2774e-02  3.3171e-01\n",
      " -2.4738e-01 -4.8928e-02  1.5746e-01  1.8988e-01 -2.6642e-02  6.3315e-02\n",
      " -1.0673e-02  3.4089e-01  1.4106e+00  1.3417e-01  2.8191e-01 -2.5940e-01\n",
      "  5.5267e-02 -5.2425e-02 -2.5789e-01  1.9127e-02 -2.2084e-02  3.2113e-01\n",
      "  6.8818e-02  5.1207e-01  1.6478e-01 -2.0194e-01  2.9232e-01  9.8575e-02\n",
      "  1.3145e-02 -1.0652e-01  1.3510e-01 -4.5332e-02  2.0697e-01 -4.8425e-01\n",
      " -4.4706e-01  3.3305e-03  2.9264e-03 -1.0975e-01 -2.3325e-01  2.2442e-01\n",
      " -1.0503e-01  1.2339e-01  1.0978e-01  4.8994e-02 -2.5157e-01  4.0319e-01\n",
      "  3.5318e-01  1.8651e-01 -2.3622e-02 -1.2734e-01  1.1475e-01  2.7359e-01\n",
      " -2.1866e-01  1.5794e-02  8.1754e-01 -2.3792e-02 -8.5469e-01 -1.6203e-01\n",
      "  1.8076e-01  2.8014e-02 -1.4340e-01  1.3139e-03 -9.1735e-02 -8.9704e-02\n",
      "  1.1105e-01 -1.6703e-01  6.8377e-02 -8.7388e-02 -3.9789e-02  1.4184e-02\n",
      "  2.1187e-01  2.8579e-01 -2.8797e-01 -5.8996e-02 -3.2436e-02 -4.7009e-03\n",
      " -1.7052e-01 -3.4741e-02 -1.1489e-01  7.5093e-02  9.9526e-02  4.8183e-02\n",
      " -7.3775e-02 -4.1817e-01  4.1268e-03  4.4414e-01 -1.6062e-01  1.4294e-01\n",
      " -2.2628e+00 -2.7347e-02  8.1311e-01  7.7417e-01 -2.5639e-01 -1.1576e-01\n",
      " -1.1982e-01 -2.1363e-01  2.8429e-02  2.7261e-01  3.1026e-02  9.6782e-02\n",
      "  6.7769e-03  1.4082e-01 -1.3064e-02 -2.9686e-01 -7.9913e-02  1.9500e-01\n",
      "  3.1549e-02  2.8506e-01 -8.7461e-02  9.0611e-03 -2.0989e-01  5.3913e-02]\n",
      "(300,)\n",
      ", [-2.5539e-01 -2.5723e-01  1.3169e-01 -4.2688e-02  2.1817e-01 -2.2702e-02\n",
      " -1.7854e-01  1.0756e-01  5.8936e-02 -1.3854e+00  5.8509e-01  3.6501e-02\n",
      " -1.9846e-01  1.9613e-01  4.0929e-01  1.5702e-01 -1.5305e-01  5.0447e-02\n",
      "  3.0045e-01 -1.1295e-01 -1.7043e-02  1.8593e-01  1.9982e-01  2.0053e-01\n",
      " -6.3141e-01 -1.2622e-01  2.9510e-01 -2.6282e-01 -1.5831e-01  1.2383e-03\n",
      "  1.1784e-02  5.8758e-01 -1.5914e-01  2.7731e-01 -8.2343e-01 -2.1134e-01\n",
      "  1.3414e-02  1.9637e-01 -4.1470e-01  1.0276e-03  1.3422e-01 -1.4205e-01\n",
      "  5.1545e-02  3.4993e-01 -2.9868e-01 -3.2090e-01  1.9566e-01  4.7886e-01\n",
      "  1.0744e-01  1.0004e-02  1.8503e-01  8.0694e-02  2.0739e-01 -9.7365e-02\n",
      " -3.9448e-02  2.0151e-02 -1.7378e-01  2.5679e-01  2.4198e-01 -3.5100e-01\n",
      "  1.8759e-01  6.3857e-03  1.8395e-01 -1.3929e-01  8.1855e-03 -6.3109e-01\n",
      "  2.9832e-01  3.1731e-01  1.3022e-01 -3.2284e-01 -5.0343e-02 -1.1400e-01\n",
      "  1.2097e-01  1.4687e-01 -3.3244e-01 -5.5789e-02 -5.8490e-02  2.7551e-01\n",
      " -4.3855e-02  3.9664e-02  1.5162e-01 -8.6627e-02  6.7729e-02  2.3146e-01\n",
      "  1.5351e-02 -1.5142e-01 -3.1975e-02  4.5181e-01 -6.8806e-02 -7.7058e-02\n",
      "  5.5193e-02  5.4596e-02 -2.4708e-01  3.1113e-02 -1.2826e-01  1.2782e-01\n",
      " -4.6708e-01 -2.6264e-02  1.0387e-02 -3.3174e-01  1.7277e-01 -2.6894e-01\n",
      "  2.0467e-01 -1.6181e-01 -4.1519e-02 -1.4878e-02  1.0279e-01  1.8868e-01\n",
      " -2.3396e-01 -1.8436e-02 -1.4747e-01 -3.2685e-01 -2.2055e-02 -5.4000e-02\n",
      "  1.6264e-01  2.7095e-01 -2.2792e-01 -7.7006e-03  1.1206e-01 -3.9787e-02\n",
      " -1.1906e-01  2.1773e-02  5.5280e-02 -1.3318e-01 -5.6867e-02  8.3040e-03\n",
      " -2.7021e-02  2.3447e-01  8.6864e-02  1.2009e-01 -3.0726e-01  2.4735e-03\n",
      "  2.9041e-01 -4.4887e-02  1.2297e-01  1.3077e-01  9.0807e-02 -3.9141e-01\n",
      "  8.0546e-02  1.8724e-01 -9.7481e-02  1.0397e-01  1.1492e-01  1.7775e-01\n",
      " -1.8167e-01  2.4652e-01  2.0136e-01 -2.3395e-01 -3.5018e-01 -1.4061e-01\n",
      "  1.7091e-01 -9.5465e-02 -1.0962e-01 -9.8360e-02  1.5344e-01  8.8680e-02\n",
      " -2.2048e-01 -1.3803e-01 -1.1288e-01 -8.5340e-02  7.2735e-02 -1.2732e-01\n",
      " -1.9640e-01 -1.0586e-01  2.0616e-03  1.3496e-01  5.8912e-02 -4.3979e-02\n",
      " -9.1375e-02  2.4408e-01  1.6872e-01  2.4297e-01 -4.3983e-01  4.7089e-01\n",
      " -1.8595e-02  1.6146e-01  1.9828e-01 -1.7237e-01 -2.6998e-03  5.2097e-01\n",
      " -8.0197e-02  4.3324e-01 -6.6261e-02  4.3240e-02  8.4954e-02 -1.4836e-01\n",
      " -4.1936e-01  1.5988e-01 -1.8411e-01  1.3210e-01  2.7476e-01  2.7279e-01\n",
      " -1.3465e-01 -9.1238e-02 -3.2523e-01  2.7936e-01  2.3296e-02 -3.3472e-01\n",
      "  1.6878e-02 -5.5544e-02  9.2915e-01 -3.3914e-01 -1.4791e-01  1.7301e-02\n",
      "  1.8272e-01  3.5108e-01 -1.1438e-01  1.3228e-01 -2.1064e-02 -2.7453e-01\n",
      " -1.0081e-01 -4.6296e-02  2.1689e-01 -5.6319e-02  1.4651e-01 -2.3536e-02\n",
      "  6.8026e-02 -4.5453e-02 -2.3851e-01 -3.3868e-01  3.1396e-01 -3.1914e-02\n",
      " -1.9217e-02  1.8715e-03 -1.3328e-01  7.0148e-02 -3.9761e-02  7.0801e-02\n",
      "  1.8422e-03 -1.2646e-01  2.8675e-02 -9.5728e-02  2.6673e-01 -3.5536e-01\n",
      "  1.5286e-01  6.4565e-02  1.2647e-01  2.3397e-01 -4.6058e-02  1.3519e-01\n",
      " -1.4549e-01  2.3031e-01  4.2066e-01  1.6267e-01 -1.6541e-01 -2.0155e-03\n",
      "  8.0653e-02 -3.0025e-01 -7.6014e-02  7.0612e-02  3.1570e-01  5.3520e-02\n",
      " -1.0721e-01 -1.3660e-01  3.2214e-01  2.0040e-01  1.1609e-01 -2.2501e-01\n",
      "  1.2155e-01 -1.0851e-01 -6.3187e-02 -2.4553e-01 -5.9751e-02  6.8787e-02\n",
      " -1.1627e-01 -8.3402e-03  5.2044e-03 -2.0159e-01 -2.3663e-02  1.7562e-01\n",
      " -3.1475e-01 -1.1162e-01 -1.2492e-01  1.0949e-01 -2.6913e-01  3.4893e-01\n",
      " -1.6997e+00 -2.4470e-01  3.0292e-01  5.6720e-02 -3.1737e-01  8.3612e-02\n",
      "  9.5949e-02 -1.7590e-01  1.0235e-01  3.6808e-01 -3.4380e-01  2.0607e-01\n",
      "  1.9135e-01  1.0992e-01  7.5968e-02 -1.4359e-02 -7.3794e-02  2.2176e-01\n",
      "  1.4652e-01  5.6686e-01  5.3307e-02 -2.3290e-01 -1.2226e-01  3.5499e-01]\n",
      "(300,)\n",
      ". [-1.2559e-01  1.3630e-02  1.0306e-01 -1.0123e-01  9.8128e-02  1.3627e-01\n",
      " -1.0721e-01  2.3697e-01  3.2870e-01 -1.6785e+00  2.2393e-01  1.2409e-01\n",
      " -8.6708e-02  3.3010e-01  3.4375e-01 -8.7582e-04 -2.9658e-01  2.4417e-01\n",
      " -1.1592e-01 -3.5742e-02 -1.0830e-02  2.0776e-01  2.9285e-01 -7.3491e-02\n",
      " -1.8598e-01 -2.0090e-01 -9.5366e-02  6.3732e-03 -1.3620e-01  9.2028e-02\n",
      " -3.9957e-02  1.9027e-01 -1.0456e-01  2.7670e-03 -7.1742e-01 -1.2915e-01\n",
      " -1.3451e-03  2.7002e-01 -5.3023e-02  2.2148e-01  1.3881e-01 -1.5051e-01\n",
      " -1.9150e-01  1.6402e-01  9.7484e-02  5.6841e-02  3.9789e-01  4.0725e-01\n",
      "  1.4802e-01  2.1569e-01 -1.0671e-01 -1.0232e-01  2.4810e-02 -2.2100e-01\n",
      " -1.0720e-02  1.4234e-01 -2.8242e-01  1.9254e-01  8.6720e-02 -3.8970e-01\n",
      "  1.1321e-01  1.3779e-03  6.4009e-03 -1.6206e-01 -8.2153e-02 -5.5397e-01\n",
      "  3.6789e-01 -4.0159e-03  2.0710e-01 -3.7157e-01  2.5135e-01 -1.9544e-01\n",
      " -4.7059e-02  1.7155e-01 -2.4036e-01 -4.6086e-02  1.9429e-01 -1.8939e-01\n",
      " -7.1974e-03  6.9481e-02  5.9175e-02 -1.7585e-01  1.0653e-01  1.6933e-01\n",
      " -3.6122e-02  2.9911e-02 -1.1830e-01  1.3916e-01 -3.7951e-02  1.0690e-01\n",
      " -2.6069e-01 -1.0307e-01 -1.2272e-01 -1.5032e-01 -4.2409e-02  1.3354e-02\n",
      " -2.8510e-01  1.1248e-02  1.6073e-01 -1.6384e-01  2.1233e-01 -1.8476e-01\n",
      " -9.0874e-04  6.6687e-02  1.6918e-01 -3.5004e-01  9.9016e-02  4.6393e-01\n",
      " -1.9462e-01  1.0346e-01 -2.5668e-01 -3.6516e-01 -1.8963e-01 -2.1933e-01\n",
      "  2.4634e-02  6.5627e-02 -1.1120e-01 -1.6400e-01  1.0874e-02 -8.4688e-02\n",
      " -1.4923e-01 -7.0223e-02  2.8887e-02  8.3497e-02 -1.6193e-02 -2.4926e-03\n",
      "  1.7186e-01  9.8749e-03  8.0237e-02  1.4774e-01  4.3206e-02  2.7716e-01\n",
      "  5.7697e-01 -4.1297e-02  1.2765e-01 -9.1517e-02  1.4132e-01  8.7579e-02\n",
      "  9.3224e-02  1.5346e-02 -1.9856e-01  1.7277e-02 -1.0708e-01 -1.3059e-02\n",
      " -3.7227e-01  7.8568e-02  1.6677e-01 -1.5359e-01 -3.3294e-01  3.6986e-02\n",
      "  1.1697e-01  3.9781e-02  3.8464e-02 -1.6247e-01  4.1280e-01 -7.7491e-02\n",
      "  4.5490e-02  1.1330e-01  8.2177e-03 -2.5052e-01  7.0966e-02 -1.1388e-01\n",
      " -1.1503e-01 -1.1014e-01  1.0499e-01  1.5878e-01 -2.7023e-01 -1.1006e-02\n",
      "  7.6057e-04  3.3902e-01  2.5564e-01  1.6342e-01 -5.6019e-01  1.3055e-01\n",
      "  7.6311e-02 -2.8334e-02  2.8721e-01 -2.7844e-02 -1.1561e-01  3.4925e-01\n",
      " -1.2420e-01  2.1405e-01  2.4116e-01 -3.1343e-02  1.0913e-01 -2.4755e-01\n",
      " -4.5429e-02 -8.2178e-02 -1.8831e-01  1.8446e-01 -9.7074e-02  3.2395e-01\n",
      "  1.0658e-01 -2.6676e-01 -2.7311e-01  1.7181e-02  2.5796e-01 -2.8048e-01\n",
      "  3.0790e-01 -2.1800e-01  8.7415e-01 -1.2297e-01  1.0991e-01 -2.9797e-01\n",
      "  1.3394e-01  1.0615e-01 -1.0789e-01 -3.5976e-01 -1.8311e-01 -4.5133e-01\n",
      "  3.4967e-02 -1.9847e-01  2.1965e-01  8.1520e-02  2.5810e-01  4.0173e-02\n",
      "  3.1394e-02  1.9069e-01  7.5800e-02 -6.0638e-02  2.0739e-01  9.8390e-03\n",
      " -2.6930e-01  6.6515e-02 -1.0711e-01  5.9916e-03  2.3284e-01 -5.8663e-02\n",
      "  9.8993e-02 -8.1464e-02  6.7004e-02 -1.4305e-01  2.5506e-01 -3.1971e-01\n",
      " -3.1070e-02 -9.2451e-02  2.9440e-01  2.8947e-01 -5.9804e-02  2.4286e-01\n",
      " -1.6755e-01  4.2031e-02  5.1261e-01  2.4525e-01 -6.5983e-01  6.2456e-02\n",
      "  5.2204e-02 -2.5717e-02 -8.0613e-02  8.0869e-02  2.2821e-01 -1.0217e-01\n",
      " -2.0719e-01 -1.2123e-02  3.4916e-01  8.6527e-02  6.6288e-02 -9.9828e-02\n",
      "  2.5843e-01  1.1943e-01 -1.3667e-01 -4.3962e-01  2.3704e-01  3.1296e-02\n",
      "  7.4701e-02 -2.2387e-01  7.8162e-03 -1.9016e-01  4.4444e-02  2.0191e-01\n",
      " -2.0814e-01 -2.8382e-01  1.0427e-01 -2.1098e-01  1.8865e-01  3.1659e-01\n",
      " -2.0753e+00 -7.1045e-02  5.2419e-01  5.6023e-02 -2.5295e-01 -6.2168e-02\n",
      " -1.0989e-01 -3.5755e-01 -7.9244e-02  3.7472e-01 -2.8353e-01  1.6337e-01\n",
      "  1.1165e-01 -9.8002e-02  6.0148e-02 -1.5619e-01 -1.1949e-01  2.3445e-01\n",
      "  8.1367e-02  2.4618e-01 -1.5242e-01 -3.4224e-01 -2.2394e-02  1.3684e-01]\n",
      "(300,)\n",
      "of [-7.6947e-02 -2.1211e-02  2.1271e-01 -7.2232e-01 -1.3988e-01 -1.2234e-01\n",
      " -1.7521e-01  1.2137e-01 -7.0866e-02 -1.5721e+00 -2.2464e-01  4.2690e-02\n",
      " -4.0180e-01  2.1006e-01  1.4288e-02  4.1628e-01  1.7165e-02  7.1732e-02\n",
      "  6.9246e-03  1.8107e-01 -1.5412e-01  1.4933e-01 -3.0493e-02  2.9918e-01\n",
      "  2.9479e-02 -3.6147e-02 -6.1125e-02  8.3918e-02 -1.2398e-01 -1.0077e-01\n",
      " -5.4142e-03  3.3710e-01 -2.5612e-01  4.4388e-01 -6.8922e-01  1.8020e-01\n",
      "  3.4898e-01 -5.2284e-02 -2.6226e-01 -4.7109e-01  2.1647e-01 -4.0020e-01\n",
      " -4.9986e-02  1.1376e-02  5.4994e-01 -2.2791e-01  9.5873e-02  4.7693e-01\n",
      " -5.6727e-02 -1.7895e-01  1.1756e-01  1.4662e-01  4.8948e-02  1.3587e-01\n",
      " -9.3821e-02  4.5968e-01 -3.2062e-01  2.9911e-01  2.0656e-01 -1.8503e-01\n",
      " -2.7690e-01 -2.2545e-02  7.0698e-01 -2.3815e-01  1.6437e-01 -5.5044e-01\n",
      " -1.0615e-03  1.2266e-01  1.1898e-01  2.3985e-01  2.9815e-01  1.3207e-02\n",
      "  1.6316e-01 -6.1334e-01 -3.7051e-01  1.9444e-01 -1.3621e-01 -3.0426e-01\n",
      " -3.7715e-01  6.5299e-02 -1.5995e-01 -5.6516e-01  7.4696e-02  4.0184e-01\n",
      "  1.9328e-01  4.1802e-02  2.0572e-01  2.8971e-01  3.4783e-01  3.3873e-01\n",
      " -1.0052e-01 -1.6397e-01 -1.5236e-01 -8.6815e-02  3.6522e-01  1.4969e-01\n",
      " -4.0859e-01  2.3106e-01  1.7162e-01 -6.0545e-01  8.6019e-02  3.7043e-01\n",
      "  1.7937e-01 -4.0282e-01 -6.2471e-01 -5.5919e-02  1.5092e-01  1.2554e-01\n",
      " -4.5344e-01  3.4417e-01  4.0042e-01 -4.9512e-02 -2.9969e-01 -3.1761e-01\n",
      "  3.0023e-01  9.0029e-02  3.1060e-01 -3.3077e-02 -2.1995e-01 -4.0396e-01\n",
      " -3.4443e-01 -2.1248e-01 -3.7636e-01  2.1835e-01 -1.7850e-01 -1.7261e-01\n",
      "  1.6391e-01  2.2753e-01  2.6860e-01  5.7541e-01 -1.4912e-01  2.0413e-01\n",
      "  2.2187e-01 -2.7014e-01  6.8253e-02  2.9115e-01 -6.7943e-02  1.0623e-01\n",
      " -1.6281e-01  1.9939e-01 -4.8613e-01  3.5688e-02 -1.2373e-01  1.3707e-01\n",
      "  3.3359e-01 -1.2713e-01 -3.1711e-01 -1.3962e-01 -4.2880e-02 -1.4614e-03\n",
      "  7.6883e-01 -4.1705e-01 -9.2911e-02  1.6315e-01  2.9202e-01  1.2119e-01\n",
      " -7.6683e-02  1.4131e-01 -9.3406e-02 -4.2796e-02  1.3738e-01  1.4278e-02\n",
      "  1.1918e-01 -3.4215e-01 -1.9076e-01 -1.2499e-01  2.4648e-01  4.2259e-01\n",
      "  9.1966e-02  4.5351e-01  1.4437e-01  1.8780e-01 -8.5876e-01  5.9621e-02\n",
      " -3.2242e-01  2.8627e-01  1.2427e-01  9.0984e-03 -1.8910e-01  1.6638e-01\n",
      "  9.9881e-02 -4.8553e-02 -2.6257e-02  9.9904e-02  1.2406e-01 -1.5416e-02\n",
      " -2.9707e-01 -4.0440e-01 -1.7258e-01  3.6468e-01 -1.4118e-02 -1.1889e-01\n",
      " -1.1686e-01 -1.4124e-01  2.8012e-01  6.7644e-02  1.4850e-01 -3.5702e-01\n",
      "  2.9626e-01  3.6004e-01  1.0190e+00 -6.7307e-02 -1.1588e-01 -2.1780e-01\n",
      "  7.0191e-02  2.3154e-01 -1.3849e-01  2.6441e-01  2.8742e-01  1.9410e-01\n",
      " -6.0504e-03  4.4105e-01  1.2416e-01 -2.7745e-01 -2.5729e-01  1.0992e-01\n",
      "  1.8362e-01 -3.4522e-01 -2.1861e-01 -1.8825e-01 -3.7454e-02 -2.0862e-01\n",
      " -2.5216e-01  6.0842e-02  6.8595e-02  1.0275e-01  1.0745e-01 -6.1288e-02\n",
      "  1.9725e-01 -2.7739e-01 -2.2559e-02  5.2794e-02 -2.4083e-01  9.1990e-02\n",
      "  3.0959e-01  5.4999e-02  6.3676e-02 -8.7357e-02 -3.4495e-01  2.2793e-01\n",
      " -4.2405e-01  2.4536e-01  5.5708e-01  1.9126e-01 -7.9700e-01 -2.0480e-01\n",
      "  3.2545e-01  9.2350e-02  8.4791e-02 -1.6433e-01 -6.6568e-02 -9.9249e-02\n",
      "  3.1526e-01 -4.4465e-01  8.7281e-02  3.2880e-01 -1.7809e-02 -2.3855e-01\n",
      " -1.2848e-01  4.1509e-02  4.6728e-01  4.8214e-01  1.0548e-01  6.5805e-02\n",
      "  6.7221e-02  1.3321e-01 -2.7856e-01  1.5532e-02  3.0026e-01  3.8748e-01\n",
      " -1.4401e-01 -1.6131e-01  1.7678e-01  1.6448e-01 -3.2440e-01  7.9370e-03\n",
      " -2.2836e+00  9.6945e-02  6.6131e-01  1.6857e-01 -2.8877e-02 -1.0791e-01\n",
      " -2.7445e-02 -2.5695e-01  4.6686e-02  2.3087e-01 -7.6458e-02  2.7127e-01\n",
      "  2.5185e-01  5.4947e-02 -3.6673e-01 -3.8603e-01  3.0290e-01  1.5747e-02\n",
      "  3.4036e-01  4.7841e-01  6.8617e-02  1.8351e-01 -2.9183e-01 -4.6533e-02]\n",
      "(300,)\n",
      "to [-2.5756e-01 -5.7132e-02 -6.7190e-01 -3.8082e-01 -3.6421e-01 -8.2155e-02\n",
      " -1.0955e-02 -8.2047e-02  4.6056e-01 -1.8477e+00 -1.1258e-01 -1.2955e-01\n",
      "  2.7254e-01  7.2891e-03  2.6038e-01  1.2096e-01 -2.3193e-01  3.2260e-02\n",
      " -2.9472e-01 -6.7594e-01 -3.3844e-01 -2.3297e-01  1.1020e-01  1.8816e-01\n",
      " -4.5184e-01 -3.3833e-01  1.1274e-01  4.9490e-01 -4.2132e-02  7.9961e-02\n",
      " -1.3146e-02  6.2284e-02  2.0223e-01  3.8279e-02 -1.1154e+00 -1.2140e-01\n",
      "  8.9846e-02  2.9702e-01 -5.5794e-02 -4.6021e-01 -1.3194e-01  8.7357e-02\n",
      " -2.7865e-01  1.4981e-01  2.5536e-01  1.6698e-01 -4.4520e-02  6.7588e-02\n",
      " -1.1772e-01 -1.3452e-01  2.8694e-01 -3.9844e-01 -1.2806e-01 -4.7818e-01\n",
      "  6.7802e-02  2.0353e-01 -3.0677e-01  6.0789e-01 -1.8588e-01  1.1997e-01\n",
      " -4.0508e-02 -6.5860e-02  3.0621e-01 -5.5824e-02  3.9448e-02 -4.5570e-01\n",
      "  2.1081e-01  2.5889e-01  1.4666e-01  3.0950e-01  1.4343e-01  1.0524e-01\n",
      "  1.5788e-01  1.0300e-01  3.2211e-01 -2.7939e-01 -1.7139e-01  3.2202e-01\n",
      "  1.0784e-01 -2.8209e-01  1.2611e-01 -2.3913e-01 -8.9638e-02 -3.9179e-01\n",
      " -2.6402e-01  3.6796e-01 -2.3691e-01  6.2503e-01 -2.7226e-02 -3.8851e-02\n",
      " -3.7359e-01  4.5442e-02 -1.7169e-01 -5.4477e-01 -9.1772e-02 -3.2952e-01\n",
      " -2.5522e-01  8.7106e-02  4.8685e-02 -3.1684e-01 -6.4198e-02  4.4885e-02\n",
      " -4.9587e-01  4.2900e-01  3.6198e-01 -1.4682e-01  2.0122e-01 -3.0038e-02\n",
      "  1.8736e-01  3.1626e-01  5.9023e-02 -1.3473e-01 -4.0664e-01 -5.2983e-01\n",
      "  7.2459e-02  8.2531e-02 -3.2495e-01 -6.6910e-03  4.3564e-01 -1.2976e-01\n",
      " -2.6293e-01  1.5975e-01  2.5062e-01 -6.4732e-02 -3.0689e-01  1.6084e-01\n",
      "  4.5830e-01  3.8565e-01  1.2612e-01 -8.0485e-04  1.8055e-01  2.4757e-01\n",
      "  5.5680e-01  2.1701e-01  3.3105e-01  1.1991e-01  2.7257e-03 -1.0679e-01\n",
      " -1.6922e-01  2.5277e-01  3.6024e-01 -4.7620e-01 -2.0035e-01  3.8473e-01\n",
      " -7.1653e-01 -1.3788e-01 -1.2201e-01 -1.6979e-01 -2.9624e-01 -1.0344e-02\n",
      "  1.9216e-01  6.3375e-02  3.0977e-01 -1.9759e-01  5.7419e-01  3.4018e-01\n",
      " -3.4795e-01 -8.5304e-02 -2.8243e-02 -3.9182e-01  2.3797e-01 -9.2997e-02\n",
      "  1.1981e-01 -2.3680e-01  9.8179e-02  8.3047e-02  1.2652e-01  1.6026e-01\n",
      " -1.4166e-01  1.4296e-01 -1.2868e-01  1.8181e-01 -4.2337e-01  1.8061e-01\n",
      " -5.1635e-02 -1.7987e-01 -9.7071e-02  1.3755e-03 -4.2539e-01  5.6817e-01\n",
      "  5.7432e-02  3.1577e-01  1.8918e-01  2.7639e-01 -3.9906e-01  1.8594e-01\n",
      " -5.4231e-01  6.1376e-01  3.7921e-01  1.3660e-01 -3.9842e-01  5.8557e-01\n",
      "  5.4558e-02  6.1801e-02  3.2546e-01 -1.9615e-01 -3.4329e-02 -1.3225e-02\n",
      "  6.7854e-01 -1.6672e-01  9.2439e-01  1.1952e-01  4.0351e-02  3.5368e-01\n",
      " -2.5573e-01  2.6648e-01 -2.0954e-02  1.8535e-01  6.2376e-02 -2.2976e-01\n",
      " -7.4563e-02 -3.2890e-01  2.8535e-01  4.6959e-01 -5.4324e-01  1.4124e-01\n",
      "  1.9964e-01  1.5410e-01  2.4155e-02  1.4400e-01  3.0989e-01 -1.5989e-01\n",
      " -1.1611e-01  9.1020e-02 -5.0317e-01 -3.3662e-01  5.9168e-02  4.3838e-01\n",
      " -1.4280e-01 -5.3718e-03  4.6505e-02  2.1546e-01  6.5006e-02 -3.5175e-01\n",
      " -1.7137e-01  2.0467e-01 -7.1730e-02  4.0879e-01  2.0295e-01 -1.4211e-02\n",
      " -2.1898e-01 -1.2831e-01  3.2240e-01  1.7608e-01 -6.0267e-01  3.6737e-02\n",
      "  5.4848e-01 -4.7682e-01 -5.6556e-01 -8.3633e-02  3.2302e-02 -2.5262e-01\n",
      "  3.9481e-01 -1.9623e-02  6.2547e-01 -1.1369e-01 -2.5727e-01  7.3363e-02\n",
      "  1.8437e-01  1.4587e-01  3.2708e-01 -5.2049e-01  3.7555e-02  2.3667e-02\n",
      " -6.8237e-02 -2.2916e-01  1.7755e-02 -1.8394e-01  5.5107e-01 -2.3965e-01\n",
      "  3.9187e-01 -1.7785e-02  4.3113e-01  2.7181e-01 -1.6043e-01 -3.4700e-01\n",
      " -2.4194e+00 -2.8952e-02  9.5085e-01  5.8040e-02 -2.3623e-01  1.8914e-01\n",
      "  3.1192e-01  2.3064e-01 -3.0309e-01 -1.8603e-01  7.6180e-02  3.7337e-01\n",
      " -1.4444e-01 -2.8793e-02 -1.2806e-02 -5.9707e-01  3.1734e-01 -2.5267e-01\n",
      "  5.4384e-01  6.3007e-02 -4.9795e-02 -1.6043e-01  4.6744e-02 -7.0621e-02]\n",
      "(300,)\n",
      "and [ 0.038466  -0.039792   0.082747  -0.38923   -0.21431    0.1702\n",
      " -0.025657   0.09578    0.2386    -1.6342     0.14332   -0.037958\n",
      " -0.019583   0.38494    0.097319   0.29697   -0.34523    0.11742\n",
      " -0.024189   0.16013    0.09824    0.12811   -0.17482    0.20976\n",
      " -0.22362   -0.20656    0.24428    0.066875  -0.12594   -0.015706\n",
      "  0.064986   0.4754    -0.055405   0.54286   -0.75188   -0.083218\n",
      "  0.17896    0.073084  -0.3033    -0.17416   -0.17147   -0.1192\n",
      "  0.038308  -0.2066     0.088679  -0.055993   0.361      0.38658\n",
      " -0.055434   0.097699   0.3686    -0.326      0.13023   -0.29897\n",
      " -0.24709    0.051869   0.030422   0.18586   -0.046117  -0.14765\n",
      "  0.35895    0.10094   -0.087822  -0.17514   -0.25403   -0.35855\n",
      "  0.15801   -0.027074   0.12565   -0.17509   -0.13126   -0.13916\n",
      "  0.053628  -0.049429   0.051938  -0.048684   0.071719   0.080952\n",
      " -0.20018   -0.10871   -0.26707   -0.35727    0.3712     0.016709\n",
      " -0.034959  -0.047711   0.0024827  0.10847    0.0089053 -0.14874\n",
      "  0.046014   0.42702   -0.24684    0.12193   -0.27579    0.25844\n",
      " -0.20991   -0.086667   0.14767   -0.17441    0.17054   -0.30868\n",
      " -0.08797   -0.17195   -0.11743    0.12146    0.069268   0.13311\n",
      " -0.13565   -0.24855   -0.0026393 -0.71169   -0.32594   -0.36397\n",
      "  0.053331   0.35714   -0.30035    0.041583  -0.11996   -0.02368\n",
      "  0.016728   0.15869   -0.16491   -0.2782    -0.13788    0.10178\n",
      " -0.24177    0.096347   0.2367     0.20885   -0.28867    0.10772\n",
      "  0.15562   -0.012284  -0.22161   -0.1017     0.1257    -0.29579\n",
      " -0.0089604  0.35075    0.020088   0.020389   0.0038884  0.31869\n",
      " -0.19848    0.060458   0.28148   -0.23499   -0.17035   -0.22323\n",
      "  0.57975    0.26464   -0.10124    0.081058   0.14029    0.066431\n",
      " -0.12212    0.040034   0.027548  -0.1476     0.31438   -0.23046\n",
      "  0.2645    -0.10945   -0.39033    0.1266    -0.030951   0.067389\n",
      "  0.16807    0.22373    0.13502    0.38235   -0.52807    0.54013\n",
      " -0.043062   0.093211   0.045211  -0.24291   -0.49781    0.26425\n",
      "  0.0264     0.14347    0.11763   -0.011614   0.097932  -0.26632\n",
      " -0.22143    0.25156    0.08128    0.10937   -0.12199    0.019255\n",
      " -0.33463   -0.18181    0.064724   0.22921   -0.032425  -0.27295\n",
      "  0.31983    0.16134    0.93692   -0.1214    -0.012617   0.25274\n",
      "  0.24615    0.13214    0.16092    0.20576   -0.051567  -0.3784\n",
      "  0.19761    0.16993   -0.087151   0.026922   0.38035    0.083349\n",
      "  0.24715   -0.1094     0.15459   -0.051741   0.16604   -0.21335\n",
      " -0.030744  -0.14574   -0.50462    0.34825   -0.12343    0.17733\n",
      "  0.2857    -0.30467   -0.15095    0.30346   -0.15678    0.064804\n",
      " -0.073008   0.26499    0.16312    0.11889   -0.63938    0.15598\n",
      " -0.23643    0.59644    0.38748    0.3358    -0.58647    0.12584\n",
      "  0.36144   -0.33622    0.38128   -0.10348    0.18825   -0.33686\n",
      "  0.0058178 -0.1345     0.55511   -0.056443   0.15094   -0.28438\n",
      "  0.025488   0.20392    0.052712  -0.45719    0.089267   0.095469\n",
      " -0.19022   -0.17101   -0.37599   -0.182     -0.065605  -0.061388\n",
      " -0.19467   -0.070368  -0.23977    0.39253   -0.21283    0.17221\n",
      " -1.867     -0.22609    0.53976   -0.3358    -0.48587   -0.050246\n",
      "  0.31694   -0.15536    0.12244    0.38356   -0.1389     0.41886\n",
      "  0.23664   -0.31113    0.045194  -0.20405   -0.21097   -0.11025\n",
      "  0.021766   0.44129    0.32797   -0.33427    0.011807   0.059703 ]\n",
      "(300,)\n"
     ]
    }
   ],
   "source": [
    "i = 0\n",
    "for key, value in embedding_index.items():\n",
    "    if i>5:\n",
    "        break\n",
    "    print(key, value)\n",
    "    print(value.shape)\n",
    "    i += 1"
   ]
  },
  {
   "cell_type": "markdown",
   "metadata": {},
   "source": [
    "### Cleaning the source corpus\n",
    "#### use the clean function from simplifier.py"
   ]
  },
  {
   "cell_type": "code",
   "execution_count": 10,
   "metadata": {},
   "outputs": [],
   "source": [
    "clean_txt = clean(train_ori_src)"
   ]
  },
  {
   "cell_type": "code",
   "execution_count": 11,
   "metadata": {},
   "outputs": [
    {
     "name": "stdout",
     "output_type": "stream",
     "text": [
      "\n",
      "Example of clean_txt\n",
      "\n",
      "Original: [\"In a remarkable comparative analysis , Mandaean scholar Säve-Söderberg demonstrated that Mani 's Psalms of Thomas were closely related to Mandaean texts .\\n\", 'When Japan earned another race on the F1 schedule ten years later , it went to Suzuka instead .\\n']\n",
      "\n",
      "Cleaned: in a remarkable comparative analysis mandaean scholar savesoderberg demonstrated that mani s psalms of thomas were closely related to mandaean textswhen japan earned another race on the schedule ten years later it went to suzuka insteadthis marked the first motorcycle racing event at the facility since its first month of operation in august 1909a scythe lrb oxford english dictionary oxford univers\n",
      "    \n"
     ]
    }
   ],
   "source": [
    "print(\"\"\"\n",
    "Example of clean_txt\n",
    "\n",
    "Original: {}\n",
    "\n",
    "Cleaned: {}\n",
    "    \"\"\".format(train_ori_src[0:2], clean_txt[0:400]))"
   ]
  },
  {
   "cell_type": "markdown",
   "metadata": {},
   "source": [
    "### Tokenize the clean_txt\n",
    "#### using nltk.word_tokenize"
   ]
  },
  {
   "cell_type": "code",
   "execution_count": 12,
   "metadata": {},
   "outputs": [
    {
     "name": "stdout",
     "output_type": "stream",
     "text": [
      "['in', 'a', 'remarkable', 'comparative', 'analysis', 'mandaean', 'scholar', 'savesoderberg', 'demonstrated', 'that', 'mani', 's', 'psalms', 'of', 'thomas', 'were', 'closely', 'related', 'to', 'mandaean', 'textswhen', 'japan', 'earned', 'another', 'race', 'on', 'the', 'schedule', 'ten', 'years'] \n",
      "\n",
      "Total tokens :  3590723\n"
     ]
    }
   ],
   "source": [
    "#token_list_src = nltk.word_tokenize(clean_txt)\n",
    "token_list_src = tokenize(clean_txt) #the tokenize function is simply nltk.word_tokenize, but could/should be improved\n",
    "print(token_list_src[0:30],\"\\n\")\n",
    "print(\"Total tokens : \", len(token_list_src))"
   ]
  },
  {
   "cell_type": "code",
   "execution_count": 13,
   "metadata": {},
   "outputs": [
    {
     "name": "stdout",
     "output_type": "stream",
     "text": [
      "['there', 'is', 'manuscript', 'evidence', 'that', 'continued', 'to', 'work', 'on', 'these', 'pieces', 'as', 'late', 'as', 'the', 'period', 'a', 'and', 'that', 'her'] \n",
      "\n",
      "Total tokens :  5244402\n"
     ]
    }
   ],
   "source": [
    "# comparison with source tokens when entities replaced by placeholders\n",
    "token_list_with_ent_src = nltk.word_tokenize(clean(train_src))\n",
    "print(token_list_with_ent_src[0:20],\"\\n\")\n",
    "print(\"Total tokens : \", len(token_list_with_ent_src))"
   ]
  },
  {
   "cell_type": "code",
   "execution_count": 14,
   "metadata": {},
   "outputs": [
    {
     "name": "stdout",
     "output_type": "stream",
     "text": [
      "\n",
      "Total vocabulary size in original sourse 257164\n",
      "Total vocabulary size in entitity tagged sourse: 256472\n",
      "\n"
     ]
    }
   ],
   "source": [
    "#total vocabulary size in source\n",
    "print(\"\"\"\n",
    "Total vocabulary size in original sourse {}\n",
    "Total vocabulary size in entitity tagged sourse: {}\n",
    "\"\"\".format(len(set(token_list_src)), len(set(token_list_with_ent_src))))\n"
   ]
  },
  {
   "cell_type": "markdown",
   "metadata": {},
   "source": [
    "### Looking at the frequencies"
   ]
  },
  {
   "cell_type": "code",
   "execution_count": 15,
   "metadata": {},
   "outputs": [
    {
     "name": "stdout",
     "output_type": "stream",
     "text": [
      "\n",
      "The source vocabulary size is 34885\n",
      "The 10 most common words/tokens with their frequencies are \n",
      "\n",
      "the: 229774\n",
      "of: 136815\n",
      "in: 112224\n",
      "and: 100417\n",
      "a: 93072\n",
      "is: 79595\n",
      "to: 55279\n",
      "lrb: 50868\n",
      "rrb: 40321\n",
      "was: 35531\n"
     ]
    }
   ],
   "source": [
    "# #building vocabulary using the build_vocabulary function from simplifier, drops tokens with frequency < threshold \n",
    "token_list_src_over_threshold = build_vocabulary(token_list_src, threshold=5) \n",
    "vocabulary_size_source = len(token_list_src_over_threshold) + 1 # +1 for the <UNK> token\n",
    "print(\"\"\"\n",
    "The source vocabulary size is {}\n",
    "The 10 most common words/tokens with their frequencies are \n",
    "\"\"\".format(vocabulary_size_source))\n",
    "for x in token_list_src_over_threshold[:10]:\n",
    "    print(\"{}: {}\".format(x[0], x[1]))"
   ]
  },
  {
   "cell_type": "markdown",
   "metadata": {},
   "source": [
    "### Which words/tokens from corpus are missing in GloVe; obviously lots of misspelled/not properly separated words."
   ]
  },
  {
   "cell_type": "code",
   "execution_count": 16,
   "metadata": {},
   "outputs": [
    {
     "data": {
      "text/plain": [
       "4247"
      ]
     },
     "execution_count": 16,
     "metadata": {},
     "output_type": "execute_result"
    }
   ],
   "source": [
    "not_in_GloVe = []\n",
    "for word, _ in token_list_src_over_threshold:\n",
    "    if word not in embedding_index:\n",
    "        not_in_GloVe.append(word)\n",
    "len(not_in_GloVe)"
   ]
  },
  {
   "cell_type": "markdown",
   "metadata": {},
   "source": [
    "### Using spell checker (a la Norvig)\n",
    "#### To reduce the number of words in token_list_src_over_threshold which are not in GloVe one should use a spellchecker in the tokenization process"
   ]
  },
  {
   "cell_type": "code",
   "execution_count": 17,
   "metadata": {},
   "outputs": [
    {
     "data": {
      "text/plain": [
       "['umbrella', 'as']"
      ]
     },
     "execution_count": 17,
     "metadata": {},
     "output_type": "execute_result"
    }
   ],
   "source": [
    "#the function separate_words from spellchecker.py only deals with word splitting errors, but these already amount to a large part\n",
    "separate_words(\"umbrellaas\", embedding_index)"
   ]
  },
  {
   "cell_type": "markdown",
   "metadata": {},
   "source": [
    "##### Separating a word not in the embedding might give two words in the embedding. Run a couple of times, to see that the number of words not in GloVe decreases"
   ]
  },
  {
   "cell_type": "code",
   "execution_count": 18,
   "metadata": {},
   "outputs": [
    {
     "data": {
      "text/plain": [
       "2201"
      ]
     },
     "execution_count": 18,
     "metadata": {},
     "output_type": "execute_result"
    }
   ],
   "source": [
    "for word in not_in_GloVe:\n",
    "    if len(separate_words(word, embedding_index))>1:\n",
    "        not_in_GloVe.remove(word)\n",
    "        \n",
    "len(not_in_GloVe)"
   ]
  },
  {
   "cell_type": "code",
   "execution_count": 19,
   "metadata": {},
   "outputs": [
    {
     "name": "stdout",
     "output_type": "stream",
     "text": [
      "\n",
      "Examples of words in the training corpus not in the GloVe embedding index:\n",
      "(there are still lots of non-splitted words)\n",
      "\n",
      "francethe\n",
      "rrbin\n",
      "statesthe\n",
      "paysdelaloire\n",
      "francein\n",
      "pasdecalais\n",
      "nordpasdecalais\n",
      "singersongwriter\n",
      "playerthe\n",
      "englandthe\n",
      "alpesmaritimes\n",
      "presentday\n",
      "atlantiques\n",
      "bestknown\n",
      "seasonthe\n",
      "timethe\n",
      "awardwinning\n",
      "payperview\n",
      "areathe\n",
      "citythe\n"
     ]
    }
   ],
   "source": [
    "print(\"\"\"\n",
    "Examples of words in the training corpus not in the GloVe embedding index:\n",
    "(there are still lots of non-splitted words)\n",
    "\"\"\")\n",
    "for x in not_in_GloVe[:20]:\n",
    "      print(x)"
   ]
  },
  {
   "cell_type": "code",
   "execution_count": 20,
   "metadata": {},
   "outputs": [],
   "source": [
    "# the improve_toke_list function from spellchecker.py applies separates tokens which are not in the embedding index and adds the result \n",
    "# To the token list. In the first step, the frequencies are removed.\n",
    "improved_token_list = improve_token_list([x[0] for x in token_list_src_over_threshold], \\\n",
    "                                         embedding_index, separate_words)\n",
    "improved_token_list = improve_token_list([x for x in improved_token_list], \\\n",
    "                                         embedding_index, separate_words)"
   ]
  },
  {
   "cell_type": "code",
   "execution_count": 21,
   "metadata": {},
   "outputs": [
    {
     "data": {
      "text/plain": [
       "32310"
      ]
     },
     "execution_count": 21,
     "metadata": {},
     "output_type": "execute_result"
    }
   ],
   "source": [
    "# remove duplicates\n",
    "improved_token_list = list((set(improved_token_list)))\n",
    "len(improved_token_list)"
   ]
  },
  {
   "cell_type": "markdown",
   "metadata": {},
   "source": [
    "### Creating token-index-dictionary"
   ]
  },
  {
   "cell_type": "code",
   "execution_count": 22,
   "metadata": {},
   "outputs": [
    {
     "name": "stdout",
     "output_type": "stream",
     "text": [
      "tokenizer_src has 32311 words\n"
     ]
    }
   ],
   "source": [
    "# the function build_word2index creates a word-index dictionary, indices start with 1\n",
    "tokenizer_src = build_word2index(improved_token_list)\n",
    "print('tokenizer_src has {} words'.format(len(tokenizer_src)))"
   ]
  },
  {
   "cell_type": "code",
   "execution_count": 23,
   "metadata": {},
   "outputs": [],
   "source": [
    "today_string = str(datetime.date.today().day) + str(datetime.date.today().month) + str(datetime.date.today().year) \n",
    "models_path = 'models/'+today_string # choose a name\n",
    "Path(models_path).mkdir(parents=True, exist_ok=True)\n",
    "tokenizer_file = os.path.join(models_path, 'tokenizer_src.pkl') #always save the word-index dictionary !\n",
    "with open(tokenizer_file, 'wb') as file:\n",
    "    pickle.dump(tokenizer_src, file, protocol=pickle.HIGHEST_PROTOCOL)\n",
    "\n",
    "# #to load\n",
    "# with open(tokenizer_file, 'rb') as file:\n",
    "#     to = pickle.load(file)\n",
    "\n"
   ]
  },
  {
   "cell_type": "markdown",
   "metadata": {},
   "source": [
    "### embedding matrix to use the GloVe embedding in the model later"
   ]
  },
  {
   "cell_type": "code",
   "execution_count": 24,
   "metadata": {},
   "outputs": [],
   "source": [
    "embedding_size = representation_dimension # GloVe \n",
    "vocabulary_size_source = len(tokenizer_src)+1\n",
    "embedding_matrix = np.zeros((vocabulary_size_source, embedding_size))\n",
    "for word, idx in tokenizer_src.items():\n",
    "    embedding_vector = embedding_index.get(word)\n",
    "    if embedding_vector is not None:\n",
    "        embedding_matrix[idx] = embedding_vector"
   ]
  },
  {
   "cell_type": "code",
   "execution_count": 25,
   "metadata": {},
   "outputs": [
    {
     "data": {
      "text/plain": [
       "(32312, 300)"
      ]
     },
     "execution_count": 25,
     "metadata": {},
     "output_type": "execute_result"
    }
   ],
   "source": [
    "embedding_matrix.shape"
   ]
  },
  {
   "cell_type": "markdown",
   "metadata": {},
   "source": [
    "### Let's look at sentence lengths"
   ]
  },
  {
   "cell_type": "code",
   "execution_count": 26,
   "metadata": {},
   "outputs": [],
   "source": [
    "lengths=[]\n",
    "lengths = [len((tokenizer(x))) for x in train_ori_src]"
   ]
  },
  {
   "cell_type": "code",
   "execution_count": 27,
   "metadata": {},
   "outputs": [
    {
     "name": "stdout",
     "output_type": "stream",
     "text": [
      "min 0\n",
      "mean 19.73733322461294\n",
      "max 104\n",
      "std 10.930596635047197\n"
     ]
    }
   ],
   "source": [
    "print(\"min\", np.min(lengths))\n",
    "print(\"mean\", np.mean(lengths))\n",
    "print(\"max\", np.max(lengths))\n",
    "print(\"std\", np.std(lengths))"
   ]
  },
  {
   "cell_type": "code",
   "execution_count": 28,
   "metadata": {},
   "outputs": [
    {
     "data": {
      "image/png": "[encoded data removed]",
      "text/plain": [
       "<Figure size 432x288 with 1 Axes>"
      ]
     },
     "metadata": {
      "needs_background": "light"
     },
     "output_type": "display_data"
    }
   ],
   "source": [
    "%matplotlib inline\n",
    "import matplotlib.pyplot as plt\n",
    "plt.hist(lengths, bins=100)\n",
    "plt.show()\n",
    "plt.close()"
   ]
  },
  {
   "cell_type": "code",
   "execution_count": 29,
   "metadata": {},
   "outputs": [
    {
     "name": "stdout",
     "output_type": "stream",
     "text": [
      "The longest sentence has 104 tokens.\n",
      "John Simm -LRB- born 10 July 1970 -RRB- is an English stage and screen actor .\n",
      "\n",
      "! ''\n",
      "\n"
     ]
    }
   ],
   "source": [
    "#looking at the extreme (wrt length) source sentences\n",
    "arg = np.argmax(lengths)\n",
    "lengths.pop(arg) #dropping the longest sentence\n",
    "np.max(lengths)\n",
    "mx = np.argmax(lengths)\n",
    "mn = np.argmin(lengths)\n",
    "print('The longest sentence has {} tokens.'.format(np.max(lengths)))\n",
    "print(train_ori_src[mx], \n",
    "      train_ori_src[mn],\n",
    "     sep=\"\\n\")\n"
   ]
  },
  {
   "cell_type": "code",
   "execution_count": 30,
   "metadata": {},
   "outputs": [
    {
     "data": {
      "text/plain": [
       "60"
      ]
     },
     "execution_count": 30,
     "metadata": {},
     "output_type": "execute_result"
    }
   ],
   "source": [
    "# The still need to set a maximum length for the source sentences (the target sentences were filtered to be \n",
    "# < sent_len), longer senteces will be truncated\n",
    "sentence_length = 60\n",
    "sentence_length"
   ]
  },
  {
   "cell_type": "code",
   "execution_count": 31,
   "metadata": {},
   "outputs": [],
   "source": [
    "# creating source training and validation arrays\n",
    "# using the encode and tokenizer functions from simplifier.py\n",
    "\n",
    "train_x = np.array([encode(tokenizer(line, add_toc=True), \\\n",
    "                            tokenizer_src, sentence_length, pad=True) for line in \\\n",
    "                    train_ori_src]).reshape(-1, sentence_length)\n",
    "\n",
    "valid_x = np.array([encode(tokenizer(line, add_toc=True), \\\n",
    "                            tokenizer_src, sentence_length, pad=True) for line in \\\n",
    "                    valid_ori_src]).reshape(-1, sentence_length)"
   ]
  },
  {
   "cell_type": "code",
   "execution_count": 32,
   "metadata": {},
   "outputs": [
    {
     "name": "stdout",
     "output_type": "stream",
     "text": [
      "(196222, 60) (992, 60)\n"
     ]
    }
   ],
   "source": [
    "print(train_x.shape,\n",
    "      valid_x.shape)"
   ]
  },
  {
   "cell_type": "code",
   "execution_count": 33,
   "metadata": {},
   "outputs": [
    {
     "data": {
      "text/plain": [
       "'eua'"
      ]
     },
     "execution_count": 33,
     "metadata": {},
     "output_type": "execute_result"
    }
   ],
   "source": [
    "# testing the get_word function from simplifier.py\n",
    "get_word(3762, tokenizer_src)"
   ]
  },
  {
   "cell_type": "code",
   "execution_count": 34,
   "metadata": {},
   "outputs": [
    {
     "name": "stdout",
     "output_type": "stream",
     "text": [
      "\n",
      "The original sentence is:\n",
      "Sea surface temperature -LRB- SST -RRB- is the water temperature close to the surface .\n",
      "\n",
      "The tokenization list is:\n",
      "['<START>', 'sea', 'surface', 'temperature', 'lrb', 'sst', 'rrb', 'is', 'the', 'water', 'temperature', 'close', 'to', 'the', 'surface', '<END>']\n",
      "\n",
      "The encoded array is:\n",
      "[32311  2597 11419 31625 17471 32311 22424  8343 10776 19109 31625 13753\n",
      " 22774 10776 11419 32311     0     0     0     0     0     0     0     0\n",
      "     0     0     0     0     0     0     0     0     0     0     0     0\n",
      "     0     0     0     0     0     0     0     0     0     0     0     0\n",
      "     0     0     0     0     0     0     0     0     0     0     0     0]\n"
     ]
    }
   ],
   "source": [
    "# Let's have a look at an example sentence, its tokenization and encoding\n",
    "indx = 12 # choose one\n",
    "print(\"\"\"\n",
    "The original sentence is:\n",
    "{}\n",
    "The tokenization list is:\n",
    "{}\n",
    "\n",
    "The encoded array is:\n",
    "{}\"\"\".format(train_ori_src[indx:indx+1][0], \\\n",
    "             [tokenizer(line, add_toc=True) for line in train_ori_src[indx:indx+1]][0], \\\n",
    "                                  train_x[indx:indx+1][0])\n",
    "     )\n"
   ]
  },
  {
   "cell_type": "code",
   "execution_count": 35,
   "metadata": {},
   "outputs": [],
   "source": [
    "lengths_dst = [len((tokenizer(x))) for x in train_ori_dst]"
   ]
  },
  {
   "cell_type": "code",
   "execution_count": 36,
   "metadata": {},
   "outputs": [
    {
     "name": "stdout",
     "output_type": "stream",
     "text": [
      "min 0\n",
      "mean 10.73831170816728\n",
      "max 19\n",
      "std 5.300009417464431\n"
     ]
    }
   ],
   "source": [
    "print(\"min\", np.min(lengths_dst))\n",
    "print(\"mean\", np.mean(lengths_dst))\n",
    "print(\"max\", np.max(lengths_dst)) # since we set the max to be < sent_len, this should be sent_len - 1\n",
    "print(\"std\", np.std(lengths_dst))"
   ]
  },
  {
   "cell_type": "code",
   "execution_count": 37,
   "metadata": {},
   "outputs": [
    {
     "data": {
      "text/plain": [
       "196222"
      ]
     },
     "execution_count": 37,
     "metadata": {},
     "output_type": "execute_result"
    }
   ],
   "source": [
    "mx = np.argmax(lengths_dst)\n",
    "train_ori_dst[mx]\n",
    "len(train_ori_dst)"
   ]
  },
  {
   "cell_type": "code",
   "execution_count": 38,
   "metadata": {},
   "outputs": [
    {
     "data": {
      "image/png": "[encoded data removed]",
      "text/plain": [
       "<Figure size 432x288 with 1 Axes>"
      ]
     },
     "metadata": {
      "needs_background": "light"
     },
     "output_type": "display_data"
    }
   ],
   "source": [
    "%matplotlib inline\n",
    "import matplotlib.pyplot as plt\n",
    "plt.hist(lengths_dst, bins=20)\n",
    "plt.show()\n",
    "plt.close()"
   ]
  },
  {
   "cell_type": "code",
   "execution_count": 39,
   "metadata": {},
   "outputs": [],
   "source": [
    "sentence_length_dst = max(lengths_dst)\n",
    "assert sentence_length_dst == sent_len - 1 "
   ]
  },
  {
   "cell_type": "markdown",
   "metadata": {},
   "source": [
    "### Look at output vocabulary"
   ]
  },
  {
   "cell_type": "code",
   "execution_count": 40,
   "metadata": {},
   "outputs": [
    {
     "name": "stdout",
     "output_type": "stream",
     "text": [
      "\n",
      "The target vocabulary size is 33506\n",
      "The 10 most common words/tokens with their frequencies are \n",
      "\n",
      "the: 113303\n",
      "of: 70561\n",
      "in: 64149\n",
      "is: 62299\n",
      "a: 53804\n",
      "and: 39597\n",
      "was: 24379\n",
      "to: 23535\n",
      "lrb: 22501\n",
      "rrb: 14729\n"
     ]
    }
   ],
   "source": [
    "token_list_dst_over_threshold = build_vocabulary(tokenize(clean(train_ori_dst)), threshold=3)\n",
    "vocabulary_size_dst = len(token_list_dst_over_threshold) + 1 # +1 for the <UNK> token\n",
    "print(\"\"\"\n",
    "The target vocabulary size is {}\n",
    "The 10 most common words/tokens with their frequencies are \n",
    "\"\"\".format(vocabulary_size_dst))\n",
    "for x in token_list_dst_over_threshold[:10]:\n",
    "    print(\"{}: {}\".format(x[0], x[1]))"
   ]
  },
  {
   "cell_type": "code",
   "execution_count": 41,
   "metadata": {},
   "outputs": [
    {
     "name": "stdout",
     "output_type": "stream",
     "text": [
      "The destination vocabulary size is 28936\n"
     ]
    }
   ],
   "source": [
    "#creating and improving the target token list, as before, it makes sense to run this step more than once\n",
    "improved_token_list_dst = improve_token_list([x[0] for x in token_list_dst_over_threshold], \\\n",
    "                                         embedding_index, separate_words)\n",
    "improved_token_list_dst = list((set(improved_token_list_dst)))\n",
    "vocabulary_size_dst = len(improved_token_list_dst) + 1\n",
    "\n",
    "improved_token_list_dst = improve_token_list([x for x in improved_token_list_dst], \\\n",
    "                                         embedding_index, separate_words)\n",
    "vocabulary_size_dst = len(set(improved_token_list_dst)) + 1\n",
    "print('The destination vocabulary size is {}'.format(vocabulary_size_dst))"
   ]
  },
  {
   "cell_type": "code",
   "execution_count": 42,
   "metadata": {},
   "outputs": [
    {
     "name": "stdout",
     "output_type": "stream",
     "text": [
      "\n",
      "Examples of words in the training (destination) corpus not in the GloVe embedding index:\n",
      "(there are still lots of non-splitted words)\n",
      "308 words in total\n",
      "\n",
      "usitatissimum\n",
      "designskolen\n",
      "interamnia\n",
      "eupatridae\n",
      "majorthe\n",
      "arshawsky\n",
      "pclinuxos\n",
      "francereferencesit\n",
      "poznurr\n",
      "sabellianism\n"
     ]
    }
   ],
   "source": [
    "#Which words are not in the GloVe represantation\n",
    "not_in_GloVe = []\n",
    "for word in improved_token_list_dst:\n",
    "    if word not in embedding_index:\n",
    "        not_in_GloVe.append(word)\n",
    "\n",
    "print(\"\"\"\n",
    "Examples of words in the training (destination) corpus not in the GloVe embedding index:\n",
    "(there are still lots of non-splitted words)\n",
    "{} words in total\n",
    "\"\"\".format(len(not_in_GloVe)))\n",
    "for x in not_in_GloVe[:10]:\n",
    "      print(x)"
   ]
  },
  {
   "cell_type": "code",
   "execution_count": 43,
   "metadata": {},
   "outputs": [
    {
     "name": "stdout",
     "output_type": "stream",
     "text": [
      "The destination vocabulary has 28939 tokens\n"
     ]
    }
   ],
   "source": [
    "# building the word index dictionary for the target corpus, adding <START> and <END> tokens\n",
    "tokenizer_dst = build_word2index(improved_token_list_dst, add_toc=True)\n",
    "vocabulary_size_dst = len(tokenizer_dst)+1 # for the <UNK> token\n",
    "print('The destination vocabulary has {} tokens'.format(vocabulary_size_dst))"
   ]
  },
  {
   "cell_type": "code",
   "execution_count": 44,
   "metadata": {},
   "outputs": [
    {
     "name": "stdout",
     "output_type": "stream",
     "text": [
      "The destination word-index dictionary saved under models/262020/tokenizer_dst.pkl\n"
     ]
    }
   ],
   "source": [
    "Path(models_path).mkdir(parents=True, exist_ok=True)\n",
    "tokenizer_file = os.path.join(models_path, 'tokenizer_dst.pkl')\n",
    "with open(tokenizer_file, 'wb') as file:\n",
    "    pickle.dump(tokenizer_dst, file, protocol=pickle.HIGHEST_PROTOCOL)\n",
    "print('The destination word-index dictionary saved under {}'.format(tokenizer_file))\n",
    "# #to load\n",
    "# with open('tokenizer_dst.pkl', 'rb') as file:\n",
    "#     tokenizer_dst = pickle.load(file)\n",
    "\n"
   ]
  },
  {
   "cell_type": "code",
   "execution_count": 45,
   "metadata": {},
   "outputs": [],
   "source": [
    "# creating target training and validation arrays\n",
    "# using the encode and tokenizer functions from simplifier.py\n",
    "train_y = np.array([encode(tokenizer(line, add_toc=True), \\\n",
    "                            tokenizer_dst, sentence_length_dst, pad=True) for line in \\\n",
    "                    train_ori_dst]).reshape(-1, sentence_length_dst)\n",
    "\n",
    "valid_y = np.array([encode(tokenizer(line, add_toc=True), \\\n",
    "                            tokenizer_dst, sentence_length_dst, pad=True) for line in \\\n",
    "                    valid_ori_dst]).reshape(-1, sentence_length_dst)"
   ]
  },
  {
   "cell_type": "code",
   "execution_count": 46,
   "metadata": {},
   "outputs": [
    {
     "name": "stdout",
     "output_type": "stream",
     "text": [
      "(196222, 19)\n",
      "(992, 19)\n"
     ]
    }
   ],
   "source": [
    "print(train_y.shape, valid_y.shape, sep=\"\\n\")"
   ]
  },
  {
   "cell_type": "code",
   "execution_count": 47,
   "metadata": {},
   "outputs": [
    {
     "name": "stdout",
     "output_type": "stream",
     "text": [
      "Mandaean scholar Säve-Söderberg showed that Mani 's Psalms of Thomas were closely related to Mandaean texts .\n",
      "\n"
     ]
    },
    {
     "data": {
      "text/plain": [
       "['<START>',\n",
       " 'mandaean',\n",
       " 'scholar',\n",
       " 'save',\n",
       " 'soderberg',\n",
       " 'showed',\n",
       " 'that',\n",
       " 'mani',\n",
       " 's',\n",
       " 'psalms',\n",
       " 'of',\n",
       " 'thomas',\n",
       " 'were',\n",
       " 'closely',\n",
       " 'related',\n",
       " 'to',\n",
       " 'mandaean',\n",
       " 'texts',\n",
       " '<END>']"
      ]
     },
     "execution_count": 47,
     "metadata": {},
     "output_type": "execute_result"
    }
   ],
   "source": [
    "#example of the tokenizing with the tokenizer function\n",
    "line = train_ori_dst[0]\n",
    "print(line)\n",
    "tokenizer(line, add_toc=True)"
   ]
  },
  {
   "cell_type": "code",
   "execution_count": 48,
   "metadata": {},
   "outputs": [
    {
     "data": {
      "text/plain": [
       "array([[28937, 15854, 14260, 10484, 28936, 10731, 17244, 21220,  5401,\n",
       "        28936,  8230, 17476,  5703,  1137,   350, 20459, 15854, 17809,\n",
       "        28938],\n",
       "       [28937,  9349,  9373,  1969,  9161, 20831, 20459,  9670, 28936,\n",
       "         9851, 13784,   899,  3755,  9500,  4667, 20459, 17257,  4191,\n",
       "        28938],\n",
       "       [28937,  7025,  1969,  9670,  3818, 14729, 16441, 18183, 28599,\n",
       "         9670, 21842, 15594, 18391,  3818, 21678,  8230,   148, 21107,\n",
       "         4198]], dtype=int32)"
      ]
     },
     "execution_count": 48,
     "metadata": {},
     "output_type": "execute_result"
    }
   ],
   "source": [
    "train_y[0:3]"
   ]
  },
  {
   "cell_type": "markdown",
   "metadata": {},
   "source": [
    "#### Embedding matrix for the decoder"
   ]
  },
  {
   "cell_type": "code",
   "execution_count": 49,
   "metadata": {},
   "outputs": [
    {
     "data": {
      "text/plain": [
       "(28939, 300)"
      ]
     },
     "execution_count": 49,
     "metadata": {},
     "output_type": "execute_result"
    }
   ],
   "source": [
    "embedding_size = representation_dimension # GloVe \n",
    "vocabulary_size_dst = len(tokenizer_dst)+1 # <UNK> token\n",
    "embedding_dec_matrix = np.zeros((vocabulary_size_dst, embedding_size))\n",
    "for word, idx in tokenizer_dst.items():\n",
    "    embedding_vector = embedding_index.get(word)\n",
    "    if embedding_vector is not None:\n",
    "        embedding_dec_matrix[idx] = embedding_vector\n",
    "embedding_dec_matrix.shape"
   ]
  },
  {
   "cell_type": "code",
   "execution_count": 50,
   "metadata": {},
   "outputs": [],
   "source": [
    "## Neptune monitoring\n",
    "# from tensorflow.keras.callbacks import Callback\n",
    "# class NeptuneMonitor(Callback):\n",
    "#     def on_epoch_end(self, epoch, logs={}):\n",
    "#         my_metric = logs['loss']\n",
    "#         neptune.send_metric('Sparse Categorical Cross Entropy', epoch, my_metric)"
   ]
  },
  {
   "cell_type": "code",
   "execution_count": null,
   "metadata": {},
   "outputs": [],
   "source": []
  },
  {
   "cell_type": "code",
   "execution_count": null,
   "metadata": {},
   "outputs": [],
   "source": []
  },
  {
   "cell_type": "code",
   "execution_count": 100,
   "metadata": {},
   "outputs": [],
   "source": [
    "#building the training model and the encoder, decoder models for predicter; using the corr. function from model.py\n",
    "model, encoder_model, decoder_model = build_ed_dp_model(\n",
    "    vocabulary_size_source,\n",
    "    vocabulary_size_dst, \n",
    "    sentence_length, \n",
    "    sentence_length_dst, \n",
    "    300, \n",
    "    300, \n",
    "    use_emb=embedding_matrix, \n",
    "    unfreeze_emb=True, \n",
    "    use_dec_emb=embedding_dec_matrix, \n",
    "    unfreeze_dec_emb=False\n",
    ")"
   ]
  },
  {
   "cell_type": "code",
   "execution_count": 101,
   "metadata": {},
   "outputs": [
    {
     "name": "stdout",
     "output_type": "stream",
     "text": [
      "Model: \"model_4\"\n",
      "__________________________________________________________________________________________________\n",
      "Layer (type)                    Output Shape         Param #     Connected to                     \n",
      "==================================================================================================\n",
      "input_9 (InputLayer)            [(None, None)]       0                                            \n",
      "__________________________________________________________________________________________________\n",
      "embedding_4 (Embedding)         (None, None, 300)    9693600     input_9[0][0]                    \n",
      "__________________________________________________________________________________________________\n",
      "input_10 (InputLayer)           [(None, None)]       0                                            \n",
      "__________________________________________________________________________________________________\n",
      "lstm_8 (LSTM)                   (None, None, 300)    721200      embedding_4[0][0]                \n",
      "__________________________________________________________________________________________________\n",
      "embedding_5 (Embedding)         (None, None, 300)    8681700     input_10[0][0]                   \n",
      "__________________________________________________________________________________________________\n",
      "lstm_9 (LSTM)                   [(None, 300), (None, 721200      lstm_8[0][0]                     \n",
      "__________________________________________________________________________________________________\n",
      "lstm_10 (LSTM)                  (None, None, 300)    721200      embedding_5[0][0]                \n",
      "                                                                 lstm_9[0][1]                     \n",
      "                                                                 lstm_9[0][2]                     \n",
      "__________________________________________________________________________________________________\n",
      "lstm_11 (LSTM)                  [(None, None, 300),  721200      lstm_10[0][0]                    \n",
      "__________________________________________________________________________________________________\n",
      "dense_2 (Dense)                 (None, None, 28939)  8710639     lstm_11[0][0]                    \n",
      "==================================================================================================\n",
      "Total params: 29,970,739\n",
      "Trainable params: 21,289,039\n",
      "Non-trainable params: 8,681,700\n",
      "__________________________________________________________________________________________________\n"
     ]
    }
   ],
   "source": [
    "model.summary()\n"
   ]
  },
  {
   "cell_type": "code",
   "execution_count": 102,
   "metadata": {},
   "outputs": [
    {
     "name": "stdout",
     "output_type": "stream",
     "text": [
      "Failed to import pydot. You must install pydot and graphviz for `pydotprint` to work.\n"
     ]
    }
   ],
   "source": [
    "from tensorflow.keras.utils import plot_model\n",
    "model_name = 'model_ed_dp_rms_3Gemb_unfrENC_24_bs4_50ep' #give it a name\n",
    "plot_model(model, \n",
    "           show_shapes=True, \n",
    "           to_file=os.path.join(models_path, '{}.png'.format(model_name)))"
   ]
  },
  {
   "cell_type": "code",
   "execution_count": 103,
   "metadata": {},
   "outputs": [],
   "source": [
    "# optimizers and model compilation\n",
    "rms = optimizers.RMSprop(lr=0.0005)\n",
    "nadm =optimizers.Nadam(learning_rate=0.0005, beta_1=0.99, beta_2=0.99999)\n",
    "admx = optimizers.Adamax(learning_rate=0.0006, beta_1=0.999, beta_2=0.999999)\n",
    "model.compile(\n",
    "    optimizer=rms,\n",
    "    #optimizer=\"adam\",\n",
    "    #optimizer=admx,\n",
    "    #loss=\"categorical_crossentropy\",\n",
    "    loss=\"categorical_crossentropy\",\n",
    "    metrics=[\"accuracy\"]\n",
    ")\n"
   ]
  },
  {
   "cell_type": "code",
   "execution_count": 104,
   "metadata": {},
   "outputs": [
    {
     "data": {
      "text/plain": [
       "47023"
      ]
     },
     "execution_count": 104,
     "metadata": {},
     "output_type": "execute_result"
    }
   ],
   "source": [
    "import gc\n",
    "gc.collect()"
   ]
  },
  {
   "cell_type": "code",
   "execution_count": 105,
   "metadata": {},
   "outputs": [],
   "source": [
    "from tensorflow.keras.callbacks import CSVLogger\n",
    "csv_logger = CSVLogger(os.path.join(models_path,\"history_log_\"+model_name+\".csv\"), append=True)"
   ]
  },
  {
   "cell_type": "code",
   "execution_count": 106,
   "metadata": {
    "scrolled": true
   },
   "outputs": [
    {
     "name": "stdout",
     "output_type": "stream",
     "text": [
      "Epoch 1/40\n",
      "6/6 [==============================] - 6s 1s/step - loss: 6.9063 - accuracy: 0.3180 - val_loss: 6.2259 - val_accuracy: 0.3191\n",
      "Epoch 2/40\n",
      "6/6 [==============================] - 3s 433ms/step - loss: 4.9880 - accuracy: 0.3399 - val_loss: 6.0839 - val_accuracy: 0.2500\n",
      "Epoch 3/40\n",
      "6/6 [==============================] - 3s 431ms/step - loss: 3.9519 - accuracy: 0.3399 - val_loss: 5.8177 - val_accuracy: 0.2697\n",
      "Epoch 4/40\n",
      "6/6 [==============================] - 3s 443ms/step - loss: 3.5857 - accuracy: 0.3399 - val_loss: 6.0739 - val_accuracy: 0.2533\n",
      "Epoch 5/40\n",
      "6/6 [==============================] - 3s 426ms/step - loss: 3.4232 - accuracy: 0.3399 - val_loss: 5.6728 - val_accuracy: 0.3257\n",
      "Epoch 6/40\n",
      "6/6 [==============================] - 3s 443ms/step - loss: 3.3279 - accuracy: 0.3399 - val_loss: 4.8539 - val_accuracy: 0.4112\n",
      "Epoch 7/40\n",
      "6/6 [==============================] - 3s 432ms/step - loss: 3.2678 - accuracy: 0.3399 - val_loss: 5.6468 - val_accuracy: 0.3191\n",
      "Epoch 8/40\n",
      "6/6 [==============================] - 3s 431ms/step - loss: 3.2287 - accuracy: 0.3421 - val_loss: 6.5323 - val_accuracy: 0.2500\n",
      "Epoch 9/40\n",
      "6/6 [==============================] - 3s 441ms/step - loss: 3.2029 - accuracy: 0.3421 - val_loss: 6.4981 - val_accuracy: 0.2697\n",
      "Epoch 10/40\n",
      "6/6 [==============================] - 3s 425ms/step - loss: 3.1850 - accuracy: 0.3421 - val_loss: 6.8291 - val_accuracy: 0.2533\n",
      "Epoch 11/40\n",
      "6/6 [==============================] - 3s 426ms/step - loss: 3.1727 - accuracy: 0.3421 - val_loss: 6.3517 - val_accuracy: 0.3257\n",
      "Epoch 12/40\n",
      "6/6 [==============================] - 3s 434ms/step - loss: 3.1639 - accuracy: 0.3421 - val_loss: 5.3996 - val_accuracy: 0.4112\n",
      "Epoch 13/40\n",
      "6/6 [==============================] - 3s 435ms/step - loss: 3.1574 - accuracy: 0.3421 - val_loss: 6.2789 - val_accuracy: 0.3191\n",
      "Epoch 14/40\n",
      "6/6 [==============================] - 3s 421ms/step - loss: 3.1525 - accuracy: 0.3421 - val_loss: 7.2458 - val_accuracy: 0.2500\n",
      "Epoch 15/40\n",
      "6/6 [==============================] - 3s 426ms/step - loss: 3.1475 - accuracy: 0.3421 - val_loss: 7.1702 - val_accuracy: 0.2697\n",
      "Epoch 16/40\n",
      "6/6 [==============================] - 3s 432ms/step - loss: 3.1422 - accuracy: 0.3421 - val_loss: 7.4955 - val_accuracy: 0.2533\n",
      "Epoch 17/40\n",
      "6/6 [==============================] - 3s 433ms/step - loss: 3.1353 - accuracy: 0.3421 - val_loss: 6.9318 - val_accuracy: 0.3257\n",
      "Epoch 18/40\n",
      "6/6 [==============================] - 3s 432ms/step - loss: 3.2588 - accuracy: 0.3158 - val_loss: 5.7552 - val_accuracy: 0.4112\n",
      "Epoch 19/40\n",
      "6/6 [==============================] - 3s 423ms/step - loss: 3.2161 - accuracy: 0.3158 - val_loss: 6.6365 - val_accuracy: 0.3191\n",
      "Epoch 20/40\n",
      "6/6 [==============================] - 3s 433ms/step - loss: 3.0967 - accuracy: 0.3421 - val_loss: 7.5693 - val_accuracy: 0.2500\n",
      "Epoch 21/40\n",
      "6/6 [==============================] - 3s 434ms/step - loss: 3.0805 - accuracy: 0.3421 - val_loss: 7.3853 - val_accuracy: 0.2697\n",
      "Epoch 22/40\n",
      "6/6 [==============================] - 3s 431ms/step - loss: 3.0606 - accuracy: 0.3421 - val_loss: 7.6393 - val_accuracy: 0.2533\n",
      "Epoch 23/40\n",
      "6/6 [==============================] - 3s 432ms/step - loss: 3.0465 - accuracy: 0.3421 - val_loss: 7.0308 - val_accuracy: 0.3257\n",
      "Epoch 24/40\n",
      "6/6 [==============================] - 3s 428ms/step - loss: 3.0368 - accuracy: 0.3092 - val_loss: 5.8773 - val_accuracy: 0.4112\n",
      "Epoch 25/40\n",
      "6/6 [==============================] - 3s 423ms/step - loss: 3.0302 - accuracy: 0.2895 - val_loss: 6.7475 - val_accuracy: 0.3191\n",
      "Epoch 26/40\n",
      "6/6 [==============================] - 3s 451ms/step - loss: 3.0107 - accuracy: 0.3092 - val_loss: 7.6755 - val_accuracy: 0.2500\n",
      "Epoch 27/40\n",
      "6/6 [==============================] - 3s 446ms/step - loss: 2.9973 - accuracy: 0.3158 - val_loss: 7.5048 - val_accuracy: 0.2204\n",
      "Epoch 28/40\n",
      "6/6 [==============================] - 3s 429ms/step - loss: 2.9783 - accuracy: 0.3224 - val_loss: 7.7721 - val_accuracy: 0.2039\n",
      "Epoch 29/40\n",
      "6/6 [==============================] - 3s 432ms/step - loss: 2.9597 - accuracy: 0.3246 - val_loss: 7.1058 - val_accuracy: 0.2237\n",
      "Epoch 30/40\n",
      "6/6 [==============================] - 3s 431ms/step - loss: 2.9472 - accuracy: 0.3268 - val_loss: 5.9407 - val_accuracy: 0.2105\n",
      "Epoch 31/40\n",
      "6/6 [==============================] - 3s 431ms/step - loss: 2.9306 - accuracy: 0.3268 - val_loss: 6.7980 - val_accuracy: 0.2664\n",
      "Epoch 32/40\n",
      "6/6 [==============================] - 3s 436ms/step - loss: 2.9249 - accuracy: 0.3180 - val_loss: 7.7304 - val_accuracy: 0.2105\n",
      "Epoch 33/40\n",
      "6/6 [==============================] - 3s 433ms/step - loss: 2.9067 - accuracy: 0.3202 - val_loss: 7.5579 - val_accuracy: 0.2237\n",
      "Epoch 34/40\n",
      "6/6 [==============================] - 3s 431ms/step - loss: 2.8857 - accuracy: 0.3289 - val_loss: 7.8424 - val_accuracy: 0.2039\n",
      "Epoch 35/40\n",
      "6/6 [==============================] - 3s 417ms/step - loss: 2.8896 - accuracy: 0.3004 - val_loss: 7.1603 - val_accuracy: 0.2138\n",
      "Epoch 36/40\n",
      "6/6 [==============================] - 3s 436ms/step - loss: 2.8478 - accuracy: 0.3246 - val_loss: 5.9793 - val_accuracy: 0.3026\n",
      "Epoch 37/40\n",
      "6/6 [==============================] - 3s 451ms/step - loss: 2.8431 - accuracy: 0.3246 - val_loss: 6.8358 - val_accuracy: 0.2697\n",
      "Epoch 38/40\n",
      "6/6 [==============================] - 3s 425ms/step - loss: 2.8215 - accuracy: 0.3268 - val_loss: 7.7377 - val_accuracy: 0.1579\n",
      "Epoch 39/40\n",
      "6/6 [==============================] - 3s 427ms/step - loss: 2.8048 - accuracy: 0.3289 - val_loss: 7.6018 - val_accuracy: 0.1678\n",
      "Epoch 40/40\n",
      "6/6 [==============================] - 3s 427ms/step - loss: 2.7904 - accuracy: 0.3289 - val_loss: 7.8717 - val_accuracy: 0.1645\n"
     ]
    }
   ],
   "source": [
    "#Training\n",
    "batch_size = 4\n",
    "n_samples = 24 #train_x.shape[0]\n",
    "history = model.fit_generator(\n",
    "    generator_ed(train_x, train_y, batch_size, vocabulary_size_source, vocabulary_size_dst, \\\n",
    "                 samples=n_samples, shf=False, onehot_dst=True, onehot_src=False),\n",
    "    epochs=40,\n",
    "    #batch_size=50,\n",
    "    #validation_split=0.2,\n",
    "    #steps_per_epoch = train_x.shape[0]/batch_size,\n",
    "    steps_per_epoch=n_samples/batch_size,\n",
    "    validation_data=generator_ed(valid_x, valid_y, batch_size, vocabulary_size_source, \\\n",
    "         vocabulary_size_dst, samples=n_samples, shf=True, onehot_dst=True, onehot_src=False),\n",
    "    validation_steps=batch_size,\n",
    "  #  callbacks=[neptune_monitor]\n",
    "    callbacks=[csv_logger]\n",
    "\n",
    ")"
   ]
  },
  {
   "cell_type": "code",
   "execution_count": 107,
   "metadata": {},
   "outputs": [
    {
     "name": "stdout",
     "output_type": "stream",
     "text": [
      "Model(s) and history saved under models/262020/model_ed_dp_rms_3Gemb_unfrENC_24_bs4_50ep.h5 and models/262020/trainHistory_model_ed_dp_rms_3Gemb_unfrENC_24_bs4_50ep respectively\n"
     ]
    }
   ],
   "source": [
    "\n",
    "Path(models_path).mkdir(parents=True, exist_ok=True)\n",
    "model_file_path = os.path.join(models_path, model_name+'.h5')\n",
    "encoder_file_path = os.path.join(models_path, model_name+'_encoder.h5')\n",
    "decoder_file_path = os.path.join(models_path, model_name+'_decoder.h5')\n",
    "model_hist_path = os.path.join(models_path, 'trainHistory_'+model_name)\n",
    "\n",
    "with open(model_hist_path, 'wb') as file_pi:\n",
    "        pickle.dump(history.history, file_pi)\n",
    "\n",
    "model.save(model_file_path)\n",
    "encoder_model.save(encoder_file_path)\n",
    "decoder_model.save(decoder_file_path)\n",
    "\n",
    "print('Model(s) and history saved under {} and {} respectively'.format(model_file_path, \\\n",
    "                                                                    model_hist_path))\n",
    "\n",
    "\n",
    "#from tensorflow.keras.models import load_model\n",
    "#model = load_model('model_ed_3200_150ep.h5')"
   ]
  },
  {
   "cell_type": "markdown",
   "metadata": {},
   "source": [
    "## from here onwards, it's a mess, still in progress"
   ]
  },
  {
   "cell_type": "code",
   "execution_count": 96,
   "metadata": {},
   "outputs": [
    {
     "data": {
      "text/plain": [
       "dict_keys(['loss', 'accuracy', 'val_loss', 'val_accuracy'])"
      ]
     },
     "execution_count": 96,
     "metadata": {},
     "output_type": "execute_result"
    }
   ],
   "source": []
  },
  {
   "cell_type": "code",
   "execution_count": 108,
   "metadata": {},
   "outputs": [
    {
     "data": {
      "image/png": "[encoded data removed]",
      "text/plain": [
       "<Figure size 432x288 with 1 Axes>"
      ]
     },
     "metadata": {
      "needs_background": "light"
     },
     "output_type": "display_data"
    }
   ],
   "source": [
    "%matplotlib inline\n",
    "plt.plot(history.history['loss'], label=\"loss\")\n",
    "plt.plot(history.history[\"val_loss\"], label=\"validation loss\")\n",
    "plt.legend()\n",
    "plt.show()\n",
    "plt.close()"
   ]
  },
  {
   "cell_type": "code",
   "execution_count": 71,
   "metadata": {},
   "outputs": [
    {
     "data": {
      "text/plain": [
       "array([ 1969, 15677,  9640, 20614, 21445, 20459,  9670,  9670, 17476,\n",
       "        5703,  1137,   350, 20459, 15854, 17809, 28938,     0,     0])"
      ]
     },
     "execution_count": 71,
     "metadata": {},
     "output_type": "execute_result"
    }
   ],
   "source": [
    "np.argmax(model.predict([train_x[0:1], train_y[0:1,1:]]), axis=2)[0]"
   ]
  },
  {
   "cell_type": "code",
   "execution_count": 72,
   "metadata": {},
   "outputs": [
    {
     "name": "stdout",
     "output_type": "stream",
     "text": [
      "['was', 'lrb', 'not', 'old', 'english', 'english', 'english', 'dictionary', '1933', 'rrb', '<END>', None, None, None, None, None, None, None]\n"
     ]
    }
   ],
   "source": [
    "print([get_word(x, tokenizer_dst) for x in np.argmax(model.predict([train_x[3:4], train_y[3:4,:-1]]), axis=2)[0]])"
   ]
  },
  {
   "cell_type": "code",
   "execution_count": 73,
   "metadata": {},
   "outputs": [
    {
     "data": {
      "text/plain": [
       "['A scythe -LRB- , from Old English siðeOxford English Dictionary 1933 . -RRB-\\n']"
      ]
     },
     "execution_count": 73,
     "metadata": {},
     "output_type": "execute_result"
    }
   ],
   "source": [
    "train_ori_dst[3:4]"
   ]
  },
  {
   "cell_type": "code",
   "execution_count": 98,
   "metadata": {},
   "outputs": [],
   "source": [
    "vocab_in = vocabulary_size_source\n",
    "vocab_out = vocabulary_size_dst\n",
    "length_in = sentence_length\n",
    "lenght_out = sentence_length_dst\n",
    "n_units = 300\n",
    "n2_units = 300\n",
    "\n",
    "encoder_input = Input(shape=(None,))# vocab_in+1))\n",
    "encoder_emb_layer = layers.Embedding(vocab_in,\n",
    "                                n_units,\n",
    "                                #input_length=length_in,\n",
    "                                #embeddings_initializer='lecun_uniform',\n",
    "                                mask_zero=True,\n",
    "                                #trainable=True\n",
    "                                )\n",
    "encoder_emb = encoder_emb_layer(encoder_input)\n",
    "encoder_lstm = layers.LSTM(n_units, return_sequences=True, return_state=False)\n",
    "encoder_lstm2 = layers.LSTM(n2_units, return_state=True)\n",
    "#encoder_output = layers.RepeatVector(length_out)(encoder_output)\n",
    "encoder_output, state_h, state_c = encoder_lstm2(encoder_lstm(encoder_emb))\n",
    "encoder_states = [state_h, state_c]\n",
    "#Decoder\n",
    "decoder_input = Input(shape=(None,))# vocab_out+1))\n",
    "decoder_emb_layer = layers.Embedding(vocab_out , n_units, mask_zero=True)\n",
    "decoder_emb = decoder_emb_layer(decoder_input)\n",
    "decoder_lstm2 = layers.LSTM(n2_units, return_sequences=True, return_state=False)\n",
    "decoder_lstm = layers.LSTM(n_units, return_sequences=True, return_state=True)\n",
    "decoder_outputs, _, _ = decoder_lstm(decoder_lstm2(decoder_emb, initial_state=encoder_states))\n",
    "#decoder_output = layers.TimeDistributed(layers.Dense(vocab_out+1, activation='softmax'))(decoder_output)\n",
    "\n",
    "decoder_dense = layers.Dense(vocab_out, activation='softmax')\n",
    "decoder_output = decoder_dense(decoder_outputs)\n",
    "decoder_state_input_h = Input(shape=(300,))\n",
    "decoder_state_input_c = Input(shape=(300,))\n",
    "decoder_states_inputs = [decoder_state_input_h, decoder_state_input_c]\n",
    "\n",
    "decoder_emb2 = decoder_emb_layer(decoder_input)\n",
    "\n",
    "decoder_outputs2, state_h2, state_c2 = decoder_lstm(decoder_lstm2(decoder_emb2, initial_state=decoder_states_inputs))\n",
    "decoder_states2 = [state_h2, state_c2]\n",
    "decoder_outputs2 = decoder_dense(decoder_outputs2)\n",
    "\n",
    "decoder_model = models.Model(\n",
    "            [decoder_input] + decoder_states_inputs,\n",
    "            [decoder_outputs2] + decoder_states2)"
   ]
  },
  {
   "cell_type": "code",
   "execution_count": 81,
   "metadata": {},
   "outputs": [
    {
     "name": "stdout",
     "output_type": "stream",
     "text": [
      "Failed to import pydot. You must install pydot and graphviz for `pydotprint` to work.\n"
     ]
    }
   ],
   "source": [
    "import pydot\n",
    "plot_model(decoder_model)"
   ]
  },
  {
   "cell_type": "code",
   "execution_count": 77,
   "metadata": {},
   "outputs": [
    {
     "name": "stdout",
     "output_type": "stream",
     "text": [
      "Model: \"model_2\"\n",
      "__________________________________________________________________________________________________\n",
      "Layer (type)                    Output Shape         Param #     Connected to                     \n",
      "==================================================================================================\n",
      "input_2 (InputLayer)            [(None, None)]       0                                            \n",
      "__________________________________________________________________________________________________\n",
      "embedding_1 (Embedding)         (None, None, 300)    8681700     input_2[0][0]                    \n",
      "__________________________________________________________________________________________________\n",
      "input_3 (InputLayer)            [(None, 100)]        0                                            \n",
      "__________________________________________________________________________________________________\n",
      "input_4 (InputLayer)            [(None, 100)]        0                                            \n",
      "__________________________________________________________________________________________________\n",
      "lstm_2 (LSTM)                   (None, None, 100)    160400      embedding_1[1][0]                \n",
      "                                                                 input_3[0][0]                    \n",
      "                                                                 input_4[0][0]                    \n",
      "__________________________________________________________________________________________________\n",
      "lstm_3 (LSTM)                   [(None, None, 300),  481200      lstm_2[1][0]                     \n",
      "__________________________________________________________________________________________________\n",
      "dense (Dense)                   (None, None, 28939)  8710639     lstm_3[1][0]                     \n",
      "==================================================================================================\n",
      "Total params: 18,033,939\n",
      "Trainable params: 9,352,239\n",
      "Non-trainable params: 8,681,700\n",
      "__________________________________________________________________________________________________\n"
     ]
    }
   ],
   "source": [
    "decoder_model.summary()"
   ]
  },
  {
   "cell_type": "code",
   "execution_count": 113,
   "metadata": {},
   "outputs": [
    {
     "data": {
      "text/plain": [
       "' lrb lrb bushrangers orestes lrb lrb lrb lrb lrb lrb lrb lrb lrb lrb lrb lrb lrb lrb lrb lrb lrb lrb lrb lrb lrb lrb lrb lrb lrb lrb lrb lrb lrb lrb lrb lrb lrb lrb lrb lrb lrb lrb lrb lrb lrb lrb lrb lrb lrb lrb'"
      ]
     },
     "execution_count": 113,
     "metadata": {},
     "output_type": "execute_result"
    }
   ],
   "source": [
    "import pdb\n",
    "indx = 19\n",
    "sequence = train_x[indx:indx+1]\n",
    "token_dict = tokenizer_dst\n",
    "token_dict_reverse = dict((index, word) for word, index in token_dict.items())\n",
    "token_dict_reverse[0] = '<pad>'\n",
    "length_out = 50     \n",
    "enc = encoder_model\n",
    "dec = decoder_model\n",
    "states_value = enc.predict(sequence)\n",
    "\n",
    "# Generate empty target sequence of length 1.\n",
    "decoded_sequence = np.zeros((1,1))\n",
    "\n",
    "# Populate the first character of target sequence with the start character.\n",
    "decoded_sequence[0, 0] = token_dict['<START>']\n",
    "\n",
    "# Sampling loop for a batch of sequences\n",
    "# (to simplify, here we assume a batch of size 1).\n",
    "stop_condition = False\n",
    "decoded_sentence = ''\n",
    "\n",
    "output_len = 0\n",
    "\n",
    "while not stop_condition:\n",
    "   \n",
    "    \n",
    "    #print(decoded_sequence)\n",
    "    #print(states_value[1].shape)\n",
    "    #output_tokens, h, c = decoder_model.predict([decoded_sequence] + states_value)\n",
    "    output_tokens, hh, cc = dec.predict([decoded_sequence] + states_value)\n",
    "    #pdb.set_trace()\n",
    "    #print(output_tokens.shape)\n",
    "    # Sample a token\n",
    "    sampled_token_index = np.argmax(output_tokens[0, -1, :])\n",
    "#     sampled_token_index = np.argmax(output_tokens, axis=2)[0][0]\n",
    "#     print(sampled_token_index)\n",
    "    \n",
    "    sampled_word = token_dict_reverse[sampled_token_index]\n",
    "#     output_array.append((sampled_token_index, sampled_word))\n",
    "    \n",
    "    output_len += 1\n",
    "    # Exit condition: either hit max length or find stop token.\n",
    "    if (sampled_word == '<END>' or output_len > length_out):\n",
    "        stop_condition = True\n",
    "    else:\n",
    "        decoded_sentence += ' '+sampled_word\n",
    "        \n",
    "    # Update the target sequence (of length 1).\n",
    "    decoded_sequence = np.zeros((1,1))\n",
    "    decoded_sequence[0, 0] = sampled_token_index\n",
    "\n",
    "    # Update states\n",
    "    states_value = [hh, cc]\n",
    "decoded_sentence\n"
   ]
  },
  {
   "cell_type": "code",
   "execution_count": 75,
   "metadata": {},
   "outputs": [
    {
     "data": {
      "text/plain": [
       "[<tf.Tensor 'dense_1/Identity:0' shape=(None, None, 28939) dtype=float32>,\n",
       " <tf.Tensor 'lstm_3_1/Identity_1:0' shape=(None, 300) dtype=float32>,\n",
       " <tf.Tensor 'lstm_3_1/Identity_2:0' shape=(None, 300) dtype=float32>]"
      ]
     },
     "execution_count": 75,
     "metadata": {},
     "output_type": "execute_result"
    }
   ],
   "source": [
    "decoder_model.output"
   ]
  },
  {
   "cell_type": "code",
   "execution_count": 126,
   "metadata": {},
   "outputs": [
    {
     "name": "stdout",
     "output_type": "stream",
     "text": [
      "Model: \"model_13\"\n",
      "__________________________________________________________________________________________________\n",
      "Layer (type)                    Output Shape         Param #     Connected to                     \n",
      "==================================================================================================\n",
      "input_34 (InputLayer)           [(None, None)]       0                                            \n",
      "__________________________________________________________________________________________________\n",
      "embedding_23 (Embedding)        (None, None, 300)    8679600     input_34[0][0]                   \n",
      "__________________________________________________________________________________________________\n",
      "input_35 (InputLayer)           [(None, 100)]        0                                            \n",
      "__________________________________________________________________________________________________\n",
      "input_36 (InputLayer)           [(None, 100)]        0                                            \n",
      "__________________________________________________________________________________________________\n",
      "lstm_46 (LSTM)                  (None, None, 100)    160400      embedding_23[1][0]               \n",
      "                                                                 input_35[0][0]                   \n",
      "                                                                 input_36[0][0]                   \n",
      "__________________________________________________________________________________________________\n",
      "lstm_47 (LSTM)                  [(None, None, 300),  481200      lstm_46[1][0]                    \n",
      "__________________________________________________________________________________________________\n",
      "dense_5 (Dense)                 (None, None, 28932)  8708532     lstm_47[1][0]                    \n",
      "==================================================================================================\n",
      "Total params: 18,029,732\n",
      "Trainable params: 9,350,132\n",
      "Non-trainable params: 8,679,600\n",
      "__________________________________________________________________________________________________\n"
     ]
    }
   ],
   "source": [
    "decoder_model.summary()"
   ]
  },
  {
   "cell_type": "code",
   "execution_count": 133,
   "metadata": {},
   "outputs": [
    {
     "data": {
      "image/png": "[encoded data removed]",
      "text/plain": [
       "<IPython.core.display.Image object>"
      ]
     },
     "execution_count": 133,
     "metadata": {},
     "output_type": "execute_result"
    }
   ],
   "source": [
    "plot_model(decoder_model, show_shapes=True)"
   ]
  },
  {
   "cell_type": "code",
   "execution_count": 132,
   "metadata": {},
   "outputs": [
    {
     "data": {
      "image/png": "[encoded data removed]",
      "text/plain": [
       "<IPython.core.display.Image object>"
      ]
     },
     "execution_count": 132,
     "metadata": {},
     "output_type": "execute_result"
    }
   ],
   "source": [
    "plot_model(encoder_model, show_shapes=True)"
   ]
  },
  {
   "cell_type": "code",
   "execution_count": 129,
   "metadata": {},
   "outputs": [
    {
     "data": {
      "text/plain": [
       "array([[28930,  9309, 15698, 11008, 14719, 24476,  8309, 25896,  3457,\n",
       "        24318, 28931,     0,     0,     0,     0,     0,     0,     0,\n",
       "            0]], dtype=int32)"
      ]
     },
     "execution_count": 129,
     "metadata": {},
     "output_type": "execute_result"
    }
   ],
   "source": [
    "train_y[indx:indx+1]"
   ]
  },
  {
   "cell_type": "code",
   "execution_count": 274,
   "metadata": {},
   "outputs": [
    {
     "data": {
      "text/plain": [
       "['The unit is named after Heinrich Rudolf Hertz .\\n']"
      ]
     },
     "execution_count": 274,
     "metadata": {},
     "output_type": "execute_result"
    }
   ],
   "source": [
    "train_ori_dst[indx:indx+1]"
   ]
  },
  {
   "cell_type": "code",
   "execution_count": null,
   "metadata": {},
   "outputs": [],
   "source": []
  },
  {
   "cell_type": "code",
   "execution_count": 91,
   "metadata": {},
   "outputs": [
    {
     "data": {
      "text/plain": [
       "array([[12214, 19938,  9052, 12214,  8560, 17237, 17051, 16711, 24271,\n",
       "        26058,  9052, 12214, 12619, 19938,  9052, 12214,  4127,     0,\n",
       "            0,     0,     0,     0,     0,     0,     0,     0,     0,\n",
       "            0,     0,     0,     0,     0,     0,     0,     0,     0,\n",
       "            0,     0,     0,     0,     0,     0,     0,     0,     0,\n",
       "            0,     0,     0,     0,     0]], dtype=int32)"
      ]
     },
     "execution_count": 91,
     "metadata": {},
     "output_type": "execute_result"
    }
   ],
   "source": [
    "train_x[19:20]"
   ]
  },
  {
   "cell_type": "code",
   "execution_count": 67,
   "metadata": {},
   "outputs": [],
   "source": [
    "from simplifier import *"
   ]
  },
  {
   "cell_type": "code",
   "execution_count": 68,
   "metadata": {},
   "outputs": [],
   "source": [
    "tokenizer_dst_rev = build_reverse_dict(tokenizer_dst)"
   ]
  },
  {
   "cell_type": "code",
   "execution_count": 116,
   "metadata": {},
   "outputs": [
    {
     "data": {
      "text/plain": [
       "' lrb lrb bushrangers orestes lrb lrb lrb lrb lrb lrb lrb lrb lrb lrb lrb lrb lrb lrb lrb lrb lrb lrb lrb lrb lrb lrb lrb lrb lrb lrb lrb lrb lrb lrb lrb lrb lrb lrb lrb lrb lrb lrb lrb lrb lrb lrb lrb lrb lrb lrb'"
      ]
     },
     "execution_count": 116,
     "metadata": {},
     "output_type": "execute_result"
    }
   ],
   "source": [
    "indx=23\n",
    "decode_sequence(train_x[indx:indx+1], encoder_model, decoder_model, tokenizer_dst, tokenizer_dst_rev )"
   ]
  },
  {
   "cell_type": "code",
   "execution_count": 312,
   "metadata": {},
   "outputs": [
    {
     "data": {
      "text/plain": [
       "['He was elected on May 17 , 2005 , defeating the mayor in office , James Hahn .\\n']"
      ]
     },
     "execution_count": 312,
     "metadata": {},
     "output_type": "execute_result"
    }
   ],
   "source": [
    "train_ori_dst[indx:indx+1]"
   ]
  },
  {
   "cell_type": "code",
   "execution_count": 313,
   "metadata": {},
   "outputs": [
    {
     "data": {
      "text/plain": [
       "['He was elected on May 17 , 2005 , defeating incumbent mayor James Hahn , and then re-elected for a second term in 2009 .\\n']"
      ]
     },
     "execution_count": 313,
     "metadata": {},
     "output_type": "execute_result"
    }
   ],
   "source": [
    "train_ori_src[indx:indx+1]"
   ]
  },
  {
   "cell_type": "code",
   "execution_count": 75,
   "metadata": {},
   "outputs": [
    {
     "data": {
      "text/plain": [
       "150"
      ]
     },
     "execution_count": 75,
     "metadata": {},
     "output_type": "execute_result"
    }
   ],
   "source": [
    "# with open('trainHistory_320_200-250ep', 'rb') as file:\n",
    "#     history3 = pickle.load(file)\n",
    "# history2['loss'] += history3['loss']\n",
    "# history2['val_loss'] += history3['val_loss']\n",
    "len(history2['loss'])"
   ]
  },
  {
   "cell_type": "code",
   "execution_count": 286,
   "metadata": {},
   "outputs": [
    {
     "data": {
      "image/png": "[encoded data removed]",
      "text/plain": [
       "<Figure size 432x288 with 1 Axes>"
      ]
     },
     "metadata": {
      "needs_background": "light"
     },
     "output_type": "display_data"
    }
   ],
   "source": [
    "import matplotlib.pyplot as plt\n",
    "#fig = plt.figure()\n",
    "plt.plot(model.history.history[\"loss\"], label=\"loss\")\n",
    "plt.plot(model.history.history[\"val_loss\"], label=\"validation loss\")\n",
    "plt.title(model_name)\n",
    "plt.legend()\n",
    "plt.savefig('training_{}.png'.format(model_name), bbox_inches='tight')\n",
    "plt.show()\n",
    "plt.close()\n",
    "\n",
    "# plt.plot(history2[\"loss\"], label=\"loss\")\n",
    "# plt.plot(history2[\"val_loss\"], label=\"validation loss\")\n",
    "# plt.title('Training on 320 samples without GloVe embedding on enc and dec, tr epochs: 100-250')\n",
    "# plt.legend()\n",
    "# plt.savefig('training_comparison2.png', bbox_inches='tight')\n",
    "# plt.show()\n",
    "# plt.close()\n",
    "\n",
    "# fig = plt.gcf()\n",
    "# plt.show()\n",
    "# plt.draw()\n",
    "# fig.savefig('training_comparison.png')"
   ]
  },
  {
   "cell_type": "code",
   "execution_count": 167,
   "metadata": {},
   "outputs": [
    {
     "data": {
      "text/plain": [
       "0.0"
      ]
     },
     "execution_count": 167,
     "metadata": {},
     "output_type": "execute_result"
    }
   ],
   "source": [
    "from model import *\n",
    "indx = 21\n",
    "# hyp = decode_sequence(train_x[indx:indx+1], enc, dec, token_dict)\n",
    "# ref = tokenize(clean(train_ori_dst[indx:indx+1]))\n",
    "hyp = tokenize(\"oil is good\")\n",
    "ref = [\"oil is good many\"]\n",
    "\n",
    "bleu_score(ref, hyp)"
   ]
  },
  {
   "cell_type": "code",
   "execution_count": 177,
   "metadata": {},
   "outputs": [
    {
     "data": {
      "text/plain": [
       "0.6027417027417027"
      ]
     },
     "execution_count": 177,
     "metadata": {},
     "output_type": "execute_result"
    }
   ],
   "source": [
    "ssent = \"About 95 species are currently accepted .\"\n",
    "csent = \"About 95 species are known .\"\n",
    "rsent = \"About 95 species are currently known .\"\n",
    "\n",
    "from SARI import *\n",
    "SARIsent(ssent, csent, [rsent])"
   ]
  },
  {
   "cell_type": "code",
   "execution_count": 178,
   "metadata": {},
   "outputs": [
    {
     "name": "stderr",
     "output_type": "stream",
     "text": [
      "[autoreload of nltk.internals failed: Traceback (most recent call last):\n",
      "  File \"/home/filipp/anaconda3/envs/simple-simplifier/lib/python3.6/site-packages/IPython/extensions/autoreload.py\", line 245, in check\n",
      "    superreload(m, reload, self.old_objects)\n",
      "  File \"/home/filipp/anaconda3/envs/simple-simplifier/lib/python3.6/site-packages/IPython/extensions/autoreload.py\", line 410, in superreload\n",
      "    update_generic(old_obj, new_obj)\n",
      "  File \"/home/filipp/anaconda3/envs/simple-simplifier/lib/python3.6/site-packages/IPython/extensions/autoreload.py\", line 347, in update_generic\n",
      "    update(a, b)\n",
      "  File \"/home/filipp/anaconda3/envs/simple-simplifier/lib/python3.6/site-packages/IPython/extensions/autoreload.py\", line 317, in update_class\n",
      "    update_instances(old, new)\n",
      "  File \"/home/filipp/anaconda3/envs/simple-simplifier/lib/python3.6/site-packages/IPython/extensions/autoreload.py\", line 280, in update_instances\n",
      "    ref.__class__ = new\n",
      "  File \"/home/filipp/anaconda3/envs/simple-simplifier/lib/python3.6/site-packages/nltk/internals.py\", line 981, in __setattr__\n",
      "    return setattr(self._etree, attr, value)\n",
      "TypeError: __class__ assignment only supported for heap types or ModuleType subclasses\n",
      "]\n",
      "[autoreload of nltk.lazyimport failed: Traceback (most recent call last):\n",
      "  File \"/home/filipp/anaconda3/envs/simple-simplifier/lib/python3.6/site-packages/IPython/extensions/autoreload.py\", line 245, in check\n",
      "    superreload(m, reload, self.old_objects)\n",
      "  File \"/home/filipp/anaconda3/envs/simple-simplifier/lib/python3.6/site-packages/IPython/extensions/autoreload.py\", line 410, in superreload\n",
      "    update_generic(old_obj, new_obj)\n",
      "  File \"/home/filipp/anaconda3/envs/simple-simplifier/lib/python3.6/site-packages/IPython/extensions/autoreload.py\", line 347, in update_generic\n",
      "    update(a, b)\n",
      "  File \"/home/filipp/anaconda3/envs/simple-simplifier/lib/python3.6/site-packages/IPython/extensions/autoreload.py\", line 317, in update_class\n",
      "    update_instances(old, new)\n",
      "  File \"/home/filipp/anaconda3/envs/simple-simplifier/lib/python3.6/site-packages/IPython/extensions/autoreload.py\", line 280, in update_instances\n",
      "    ref.__class__ = new\n",
      "  File \"/home/filipp/anaconda3/envs/simple-simplifier/lib/python3.6/site-packages/nltk/lazyimport.py\", line 142, in __setattr__\n",
      "    setattr(module, name, value)\n",
      "TypeError: __class__ assignment only supported for heap types or ModuleType subclasses\n",
      "]\n",
      "[autoreload of nltk.downloader failed: Traceback (most recent call last):\n",
      "  File \"/home/filipp/anaconda3/envs/simple-simplifier/lib/python3.6/site-packages/IPython/extensions/autoreload.py\", line 245, in check\n",
      "    superreload(m, reload, self.old_objects)\n",
      "  File \"/home/filipp/anaconda3/envs/simple-simplifier/lib/python3.6/site-packages/IPython/extensions/autoreload.py\", line 394, in superreload\n",
      "    module = reload(module)\n",
      "  File \"/home/filipp/anaconda3/envs/simple-simplifier/lib/python3.6/imp.py\", line 315, in reload\n",
      "    return importlib.reload(module)\n",
      "  File \"/home/filipp/anaconda3/envs/simple-simplifier/lib/python3.6/importlib/__init__.py\", line 166, in reload\n",
      "    _bootstrap._exec(spec, module)\n",
      "  File \"<frozen importlib._bootstrap>\", line 618, in _exec\n",
      "  File \"<frozen importlib._bootstrap_external>\", line 678, in exec_module\n",
      "  File \"<frozen importlib._bootstrap>\", line 219, in _call_with_frames_removed\n",
      "  File \"/home/filipp/anaconda3/envs/simple-simplifier/lib/python3.6/site-packages/nltk/downloader.py\", line 2513, in <module>\n",
      "    _downloader = Downloader()\n",
      "  File \"/home/filipp/anaconda3/envs/simple-simplifier/lib/python3.6/site-packages/nltk/downloader.py\", line 521, in __init__\n",
      "    self._download_dir = self.default_download_dir()\n",
      "  File \"/home/filipp/anaconda3/envs/simple-simplifier/lib/python3.6/site-packages/nltk/downloader.py\", line 1082, in default_download_dir\n",
      "    if os.path.exists(nltkdir) and nltk.internals.is_writable(nltkdir):\n",
      "AttributeError: module 'nltk' has no attribute 'internals'\n",
      "]\n"
     ]
    },
    {
     "ename": "NameError",
     "evalue": "name 'easse' is not defined",
     "output_type": "error",
     "traceback": [
      "\u001b[0;31m---------------------------------------------------------------------------\u001b[0m",
      "\u001b[0;31mNameError\u001b[0m                                 Traceback (most recent call last)",
      "\u001b[0;32m<ipython-input-178-b7265c5376e6>\u001b[0m in \u001b[0;36m<module>\u001b[0;34m\u001b[0m\n\u001b[0;32m----> 1\u001b[0;31m \u001b[0measse\u001b[0m\u001b[0;34m\u001b[0m\u001b[0;34m\u001b[0m\u001b[0m\n\u001b[0m",
      "\u001b[0;31mNameError\u001b[0m: name 'easse' is not defined"
     ]
    }
   ],
   "source": [
    "easse"
   ]
  },
  {
   "cell_type": "code",
   "execution_count": 179,
   "metadata": {},
   "outputs": [
    {
     "ename": "AttributeError",
     "evalue": "module 'nltk.translate' has no attribute 'bleu_score'",
     "output_type": "error",
     "traceback": [
      "\u001b[0;31m---------------------------------------------------------------------------\u001b[0m",
      "\u001b[0;31mAttributeError\u001b[0m                            Traceback (most recent call last)",
      "\u001b[0;32m<ipython-input-179-a496e7b6bb4e>\u001b[0m in \u001b[0;36m<module>\u001b[0;34m\u001b[0m\n\u001b[1;32m      1\u001b[0m \u001b[0mindx\u001b[0m \u001b[0;34m=\u001b[0m \u001b[0;36m19\u001b[0m\u001b[0;34m\u001b[0m\u001b[0;34m\u001b[0m\u001b[0m\n\u001b[1;32m      2\u001b[0m bleu_score(decode_sequence(train_x[indx:indx+1], enc, dec, token_dict), \\\n\u001b[0;32m----> 3\u001b[0;31m            tokenize(clean(train_ori_dst[indx:indx+1])))\n\u001b[0m",
      "\u001b[0;32m~/Project/model.py\u001b[0m in \u001b[0;36mbleu_score\u001b[0;34m(ref, hyp)\u001b[0m\n\u001b[1;32m    123\u001b[0m \u001b[0;34m\u001b[0m\u001b[0m\n\u001b[1;32m    124\u001b[0m     \u001b[0mref\u001b[0m \u001b[0;34m=\u001b[0m \u001b[0msimplifier\u001b[0m\u001b[0;34m.\u001b[0m\u001b[0mtokenize\u001b[0m\u001b[0;34m(\u001b[0m\u001b[0mref\u001b[0m\u001b[0;34m[\u001b[0m\u001b[0;36m0\u001b[0m\u001b[0;34m]\u001b[0m\u001b[0;34m)\u001b[0m\u001b[0;34m\u001b[0m\u001b[0;34m\u001b[0m\u001b[0m\n\u001b[0;32m--> 125\u001b[0;31m     \u001b[0mBLEUscore\u001b[0m \u001b[0;34m=\u001b[0m \u001b[0mnltk\u001b[0m\u001b[0;34m.\u001b[0m\u001b[0mtranslate\u001b[0m\u001b[0;34m.\u001b[0m\u001b[0mbleu_score\u001b[0m\u001b[0;34m.\u001b[0m\u001b[0msentence_bleu\u001b[0m\u001b[0;34m(\u001b[0m\u001b[0;34m[\u001b[0m\u001b[0mref\u001b[0m\u001b[0;34m]\u001b[0m\u001b[0;34m,\u001b[0m \u001b[0mhyp\u001b[0m\u001b[0;34m,\u001b[0m \u001b[0mweights\u001b[0m\u001b[0;34m=\u001b[0m\u001b[0;34m(\u001b[0m\u001b[0;36m1\u001b[0m\u001b[0;34m,\u001b[0m \u001b[0;36m1\u001b[0m\u001b[0;34m,\u001b[0m \u001b[0;36m1\u001b[0m\u001b[0;34m,\u001b[0m \u001b[0;36m1\u001b[0m\u001b[0;34m)\u001b[0m\u001b[0;34m)\u001b[0m\u001b[0;34m\u001b[0m\u001b[0;34m\u001b[0m\u001b[0m\n\u001b[0m\u001b[1;32m    126\u001b[0m     \u001b[0;32mreturn\u001b[0m \u001b[0mnp\u001b[0m\u001b[0;34m.\u001b[0m\u001b[0mround\u001b[0m\u001b[0;34m(\u001b[0m\u001b[0mBLEUscore\u001b[0m\u001b[0;34m*\u001b[0m\u001b[0;36m100\u001b[0m\u001b[0;34m,\u001b[0m\u001b[0;36m1\u001b[0m\u001b[0;34m)\u001b[0m\u001b[0;34m\u001b[0m\u001b[0;34m\u001b[0m\u001b[0m\n",
      "\u001b[0;31mAttributeError\u001b[0m: module 'nltk.translate' has no attribute 'bleu_score'"
     ]
    }
   ],
   "source": [
    "indx = 19\n",
    "bleu_score(decode_sequence(train_x[indx:indx+1], enc, dec, token_dict), \\\n",
    "           tokenize(clean(train_ori_dst[indx:indx+1])))"
   ]
  },
  {
   "cell_type": "code",
   "execution_count": 57,
   "metadata": {},
   "outputs": [
    {
     "ename": "NameError",
     "evalue": "name 'enc' is not defined",
     "output_type": "error",
     "traceback": [
      "\u001b[0;31m---------------------------------------------------------------------------\u001b[0m",
      "\u001b[0;31mNameError\u001b[0m                                 Traceback (most recent call last)",
      "\u001b[0;32m<ipython-input-57-7bd78f3e364f>\u001b[0m in \u001b[0;36m<module>\u001b[0;34m\u001b[0m\n\u001b[1;32m      3\u001b[0m \u001b[0;34m\u001b[0m\u001b[0m\n\u001b[1;32m      4\u001b[0m     \u001b[0;31m#hyp = [get_word(x, tokenizer_dst) for x in np.argmax(model.predict([train_x[indx:indx+1], train_y[indx:indx+1,:]]), axis=2)[0]]\u001b[0m\u001b[0;34m\u001b[0m\u001b[0;34m\u001b[0m\u001b[0;34m\u001b[0m\u001b[0m\n\u001b[0;32m----> 5\u001b[0;31m     \u001b[0mhyp\u001b[0m \u001b[0;34m=\u001b[0m \u001b[0mtokenize\u001b[0m\u001b[0;34m(\u001b[0m\u001b[0mdecode_sequence\u001b[0m\u001b[0;34m(\u001b[0m\u001b[0mtrain_x\u001b[0m\u001b[0;34m[\u001b[0m\u001b[0mindx\u001b[0m\u001b[0;34m:\u001b[0m\u001b[0mindx\u001b[0m\u001b[0;34m+\u001b[0m\u001b[0;36m1\u001b[0m\u001b[0;34m]\u001b[0m\u001b[0;34m,\u001b[0m \u001b[0menc\u001b[0m\u001b[0;34m,\u001b[0m \u001b[0mdec\u001b[0m\u001b[0;34m,\u001b[0m \u001b[0mtoken_dict\u001b[0m\u001b[0;34m)\u001b[0m\u001b[0;34m)\u001b[0m\u001b[0;34m\u001b[0m\u001b[0;34m\u001b[0m\u001b[0m\n\u001b[0m\u001b[1;32m      6\u001b[0m     \u001b[0;31m#tokenize?\u001b[0m\u001b[0;34m\u001b[0m\u001b[0;34m\u001b[0m\u001b[0;34m\u001b[0m\u001b[0m\n\u001b[1;32m      7\u001b[0m     \u001b[0;31m# pass\u001b[0m\u001b[0;34m\u001b[0m\u001b[0;34m\u001b[0m\u001b[0;34m\u001b[0m\u001b[0m\n",
      "\u001b[0;31mNameError\u001b[0m: name 'enc' is not defined"
     ]
    }
   ],
   "source": [
    "max_bs = 0\n",
    "for indx in range(0,3200):\n",
    "    \n",
    "    #hyp = [get_word(x, tokenizer_dst) for x in np.argmax(model.predict([train_x[indx:indx+1], train_y[indx:indx+1,:]]), axis=2)[0]]\n",
    "    hyp = tokenize(decode_sequence(train_x[indx:indx+1], enc, dec, token_dict))\n",
    "    #tokenize?\n",
    "    # pass\n",
    "    ref = tokenize(train_ori_dst[indx:indx+1][0])\n",
    "    #hyp = hyp[0:15]\n",
    "    #print(hyp)\n",
    "\n",
    "    #print(ref)\n",
    "\n",
    "    # print(ref)\n",
    "    BLEUscore = nltk.translate.bleu_score.sentence_bleu([ref], hyp)\n",
    "    #print(BLEUscore)\n",
    "    if BLEUscore>max_bs:\n",
    "        argmax_bs = indx"
   ]
  },
  {
   "cell_type": "code",
   "execution_count": 139,
   "metadata": {},
   "outputs": [
    {
     "data": {
      "text/plain": [
       "-1.0"
      ]
     },
     "execution_count": 139,
     "metadata": {},
     "output_type": "execute_result"
    }
   ],
   "source": [
    "1.0377133938315695e-231 -1"
   ]
  },
  {
   "cell_type": "code",
   "execution_count": 70,
   "metadata": {},
   "outputs": [
    {
     "data": {
      "text/plain": [
       "'<START>'"
      ]
     },
     "execution_count": 70,
     "metadata": {},
     "output_type": "execute_result"
    }
   ],
   "source": [
    "token_dict_reverse[train_y[0][0]]"
   ]
  },
  {
   "cell_type": "code",
   "execution_count": null,
   "metadata": {},
   "outputs": [],
   "source": [
    "sampled_token_index"
   ]
  },
  {
   "cell_type": "code",
   "execution_count": null,
   "metadata": {},
   "outputs": [],
   "source": [
    "np.argmax(output_tokens)"
   ]
  },
  {
   "cell_type": "code",
   "execution_count": 124,
   "metadata": {},
   "outputs": [
    {
     "data": {
      "text/plain": [
       "11323"
      ]
     },
     "execution_count": 124,
     "metadata": {},
     "output_type": "execute_result"
    }
   ],
   "source": [
    "import gc\n",
    "gc.collect()"
   ]
  },
  {
   "cell_type": "code",
   "execution_count": null,
   "metadata": {},
   "outputs": [],
   "source": []
  },
  {
   "cell_type": "code",
   "execution_count": null,
   "metadata": {},
   "outputs": [],
   "source": [
    "from model import *"
   ]
  },
  {
   "cell_type": "code",
   "execution_count": null,
   "metadata": {},
   "outputs": [],
   "source": [
    "encoder_model.predict(train_x[12]).shape"
   ]
  },
  {
   "cell_type": "code",
   "execution_count": null,
   "metadata": {},
   "outputs": [],
   "source": [
    "decode_sequence(train_x[12:13], encoder_model, decoder_model, tokenizer_dst)"
   ]
  },
  {
   "cell_type": "code",
   "execution_count": null,
   "metadata": {},
   "outputs": [],
   "source": [
    "import simplifier\n",
    "batch_size = 32\n",
    "n_samples = 64\n",
    "encoder_input_data, decoder_input_data, decoder_target_data = next(generator_ed(train_x, train_y, batch_size, vocabulary_size_source, vocabulary_size_dst, samples=n_samples, shf=False, onehot_dst=True, onehot_src=True))"
   ]
  },
  {
   "cell_type": "code",
   "execution_count": null,
   "metadata": {},
   "outputs": [],
   "source": [
    "encoder_input_data.shape"
   ]
  },
  {
   "cell_type": "code",
   "execution_count": null,
   "metadata": {},
   "outputs": [],
   "source": [
    "model.fit([encoder_input_data, decoder_input_data], decoder_target_data,\n",
    "          batch_size=4,\n",
    "          epochs=20,\n",
    "          validation_split=0.2)"
   ]
  },
  {
   "cell_type": "code",
   "execution_count": null,
   "metadata": {},
   "outputs": [],
   "source": [
    "import simplifier"
   ]
  },
  {
   "cell_type": "code",
   "execution_count": null,
   "metadata": {},
   "outputs": [],
   "source": [
    "mod.summary()"
   ]
  },
  {
   "cell_type": "code",
   "execution_count": null,
   "metadata": {},
   "outputs": [],
   "source": [
    "\n",
    "# import datetime\n",
    "# import neptune\n",
    "# #from simplifier import generator\n",
    "# #import tensorboard\n",
    "\n",
    "# #PARAMS = {'n_iterations': 117,\n",
    "# #          'n_images': 5}\n",
    "\n",
    "# # neptune.init('l-theorist/sandbox',\n",
    "# #              api_token='eyJhcGlfYWRkcmVzcyI6Imh0dHBzOi8vdWkubmVwdHVuZS5haSIsImFwaV91cmwiOiJodHRwczovL3VpLm5lcHR1bmUuYWkiLCJhcGlfa2V5IjoiNDYyODYzNzAtNWMzOC00ZTY5LWJkMjYtYTRhNTVkNWM4MWZjIn0=')\n",
    "\n",
    "\n",
    "\n",
    "\n",
    "\n",
    "# rms = optimizers.RMSprop(lr=0.001)\n",
    "# nadm =optimizers.Nadam(learning_rate=0.008, beta_1=0.99, beta_2=0.99999)\n",
    "# admx = optimizers.Adamax(learning_rate=0.0006, beta_1=0.999, beta_2=0.999999)\n",
    "# mod.compile(\n",
    "#     optimizer=rms,\n",
    "#     #optimizer=\"adam\",\n",
    "#     #loss=\"categorical_crossentropy\",\n",
    "#     loss=\"sparse_categorical_crossentropy\",\n",
    "#     #metrics=[\"accuracy\"]\n",
    "\n",
    "# )\n",
    "\n",
    "\n",
    "# with neptune.create_experiment(name='baseline simplifier',\n",
    "#                                #params=PARAMS\n",
    "#                               ):\n",
    "#     neptune_monitor = NeptuneMonitor()\n",
    "   \n",
    "\n",
    "batch_size = 64\n",
    "n_samples = 64 #train_x.shape[0]\n",
    "history = mod.fit_generator(\n",
    "    generator(train_x, train_y, batch_size, samples=n_samples, shf=False, onehot=False),\n",
    "    #data_gen,\n",
    "    #(train_gen(train_x, 500), one_hot_encode_output(train_y_gen)),\n",
    "    epochs=100,\n",
    "    #batch_size=50,\n",
    "    #validation_split=0.2,\n",
    "    #steps_per_epoch = train_x.shape[0]/batch_size,\n",
    "    steps_per_epoch = n_samples/batch_size,\n",
    "  #  callbacks=[neptune_monitor]\n",
    "    \n",
    "\n",
    ")"
   ]
  },
  {
   "cell_type": "code",
   "execution_count": null,
   "metadata": {},
   "outputs": [],
   "source": [
    "mod.predict_classes(train_x[10:12])"
   ]
  },
  {
   "cell_type": "code",
   "execution_count": null,
   "metadata": {},
   "outputs": [],
   "source": [
    "mod.layers"
   ]
  },
  {
   "cell_type": "code",
   "execution_count": null,
   "metadata": {},
   "outputs": [],
   "source": [
    "from tensorflow import keras\n",
    "from kerastuner import HyperModel\n",
    "\n",
    "\n",
    "class SimpleHyperModel(HyperModel):\n",
    "    def __init__(self, vocab_in, vocab_out, length_in, length_out, n_units, \\\n",
    "                    use_emb=None, unfreeze_emb=True):\n",
    "        self.vocab_in = vocab_in\n",
    "        self.vocab_out = vocab_out\n",
    "        self.length_in = length_in\n",
    "        self.length_out = length_out\n",
    "        self.n_units = n_units\n",
    "        self.use_emb = use_emb\n",
    "        self.unfreeze_emb = unfreeze_emb\n",
    "        \n",
    "\n",
    "    def build(self, hp):\n",
    "        \n",
    "        if self.use_emb is not None:\n",
    "            assert self.n_units==self.use_emb.shape[-1], \"Embedding dimension should match n_units.\"\n",
    "        encoder_input = Input(shape=(self.length_in,))\n",
    "        encoder_output = layers.Embedding(self.vocab_in+1,\n",
    "                                        self.n_units,\n",
    "                                        input_length=self.length_in,\n",
    "                                        embeddings_initializer='lecun_uniform',\n",
    "                                        mask_zero=True,\n",
    "                                        trainable=True)(encoder_input)\n",
    "        encoder_output = layers.LSTM(self.n_units)(encoder_output)\n",
    "        encoder_output = layers.RepeatVector(self.length_out)(encoder_output)\n",
    "        decoder_output = layers.LSTM(self.n_units, return_sequences=True)(encoder_output)\n",
    "        decoder_output = layers.TimeDistributed(layers.Dense(self.vocab_out+1, activation='softmax'))(decoder_output)\n",
    "\n",
    "        model = models.Model(encoder_input, decoder_output)\n",
    "        if self.use_emb is not None:\n",
    "            model.layers[1].set_weights([self.use_emb])\n",
    "            model.layers[1].trainable = self.unfreeze_emb\n",
    "\n",
    "\n",
    "\n",
    "\n",
    "        \n",
    "        model.compile(\n",
    "            optimizer=keras.optimizers.Adam(\n",
    "                hp.Float(\n",
    "                    'learning_rate',\n",
    "                    min_value=1e-4,\n",
    "                    max_value=1e-2,\n",
    "                    sampling='LOG',\n",
    "                    default=1e-3\n",
    "                )\n",
    "            ),\n",
    "            loss='sparse_categorical_crossentropy',\n",
    "            #metrics=['accuracy']\n",
    "        )\n",
    "        return model\n",
    "\n",
    "hypermodel = SimpleHyperModel(vocabulary_size_source, vocabulary_size_dst, sentence_length, \\\n",
    "                  sentence_length_dst, 512)"
   ]
  },
  {
   "cell_type": "code",
   "execution_count": null,
   "metadata": {},
   "outputs": [],
   "source": [
    "from kerastuner.tuners import RandomSearch #,Hyperband\n",
    "HYPERBAND_MAX_EPOCHS=20\n",
    "SEED=17\n",
    "MAX_TRIALS = 10\n",
    "EXECUTION_PER_TRIAL = 2\n",
    "\n",
    "\n",
    "\n",
    "tuner = RandomSearch(\n",
    "    hypermodel,\n",
    "    #max_epochs=HYPERBAND_MAX_EPOCHS,\n",
    "    objective='loss',\n",
    "    max_trials=MAX_TRIALS,\n",
    "    seed=SEED,\n",
    "    executions_per_trial=EXECUTION_PER_TRIAL,\n",
    "    directory='randomsearch',\n",
    "    project_name='fil'\n",
    ")"
   ]
  },
  {
   "cell_type": "code",
   "execution_count": null,
   "metadata": {},
   "outputs": [],
   "source": [
    "tuner.search_space_summary()"
   ]
  },
  {
   "cell_type": "code",
   "execution_count": null,
   "metadata": {},
   "outputs": [],
   "source": [
    "N_EPOCH_SEARCH = 20\n",
    "batch_size = 128\n",
    "n_samples = 256 #train_x.shape[0]\n",
    "tuner.search_generator(generator(train_x, train_y, batch_size, samples=n_samples, shf=False, onehot=False), epochs=N_EPOCH_SEARCH)"
   ]
  },
  {
   "cell_type": "code",
   "execution_count": null,
   "metadata": {},
   "outputs": [],
   "source": [
    "import matplotlib.pyplot as plt\n",
    "\n",
    "plt.plot(model.history.history[\"loss\"], label=\"loss\")\n",
    "#plt.plot(model.history.history[\"val_loss\"], label=\"validation loss\")\n",
    "plt.legend()\n",
    "plt.show()\n",
    "plt.close()"
   ]
  },
  {
   "cell_type": "code",
   "execution_count": null,
   "metadata": {},
   "outputs": [],
   "source": [
    "model.summary()"
   ]
  },
  {
   "cell_type": "code",
   "execution_count": null,
   "metadata": {},
   "outputs": [],
   "source": [
    "model.predict(train_x[10:11]).shape"
   ]
  },
  {
   "cell_type": "code",
   "execution_count": null,
   "metadata": {},
   "outputs": [],
   "source": [
    "train_ori_src[10:11]"
   ]
  },
  {
   "cell_type": "code",
   "execution_count": null,
   "metadata": {},
   "outputs": [],
   "source": [
    "train_x[10:11]"
   ]
  },
  {
   "cell_type": "code",
   "execution_count": null,
   "metadata": {},
   "outputs": [],
   "source": []
  },
  {
   "cell_type": "code",
   "execution_count": null,
   "metadata": {},
   "outputs": [],
   "source": [
    "model.predict_classes(train_x[10:11])"
   ]
  },
  {
   "cell_type": "code",
   "execution_count": null,
   "metadata": {},
   "outputs": [],
   "source": [
    "convert(model.predict_classes(train_x[10:11]), token_dict=tokenizer_dst)"
   ]
  },
  {
   "cell_type": "code",
   "execution_count": null,
   "metadata": {},
   "outputs": [],
   "source": [
    "convert(train_x[10:11], tokenizer_src)"
   ]
  },
  {
   "cell_type": "code",
   "execution_count": null,
   "metadata": {},
   "outputs": [],
   "source": [
    "train_ori_dst[10:11]"
   ]
  },
  {
   "cell_type": "code",
   "execution_count": null,
   "metadata": {},
   "outputs": [],
   "source": [
    "from tensorflow.keras.models import load_model\n",
    "model = load_model(\"model_all_1.h5\")"
   ]
  },
  {
   "cell_type": "code",
   "execution_count": null,
   "metadata": {},
   "outputs": [],
   "source": []
  },
  {
   "cell_type": "code",
   "execution_count": null,
   "metadata": {},
   "outputs": [],
   "source": [
    "np.sum(model.get_weights()[0])"
   ]
  },
  {
   "cell_type": "code",
   "execution_count": null,
   "metadata": {},
   "outputs": [],
   "source": [
    "from tensorflow.keras.models import load_model\n",
    "mdl = load_model(\"first_3K_smod.h5\")"
   ]
  },
  {
   "cell_type": "code",
   "execution_count": null,
   "metadata": {},
   "outputs": [],
   "source": [
    "np.sum(mdl.get_weights()[0])"
   ]
  },
  {
   "cell_type": "code",
   "execution_count": null,
   "metadata": {},
   "outputs": [],
   "source": [
    "train_x[indx]"
   ]
  },
  {
   "cell_type": "code",
   "execution_count": null,
   "metadata": {},
   "outputs": [],
   "source": [
    "train_y[indx]"
   ]
  },
  {
   "cell_type": "code",
   "execution_count": null,
   "metadata": {},
   "outputs": [],
   "source": [
    "def predict_sequence(model, tokenizer, source):\n",
    "    prediction = model.predict(source, verbose=0)\n",
    "    integers = [np.argmax(vector) for vector in prediction]\n",
    "    return convert(integers, tokenizer)"
   ]
  },
  {
   "cell_type": "code",
   "execution_count": null,
   "metadata": {},
   "outputs": [],
   "source": [
    "predict_sequence(model, tokenizer_dst, train_x[10:11])"
   ]
  },
  {
   "cell_type": "code",
   "execution_count": null,
   "metadata": {},
   "outputs": [],
   "source": [
    "prediction = model.predict(train_x[indx], verbose=0)[0]"
   ]
  },
  {
   "cell_type": "code",
   "execution_count": null,
   "metadata": {},
   "outputs": [],
   "source": [
    "integers = [np.argmax(vector) for vector in prediction]"
   ]
  },
  {
   "cell_type": "code",
   "execution_count": null,
   "metadata": {},
   "outputs": [],
   "source": [
    "prediction[1]"
   ]
  },
  {
   "cell_type": "code",
   "execution_count": null,
   "metadata": {},
   "outputs": [],
   "source": []
  }
 ],
 "metadata": {
  "kernelspec": {
   "display_name": "simplifier",
   "language": "python",
   "name": "simplifier"
  },
  "language_info": {
   "codemirror_mode": {
    "name": "ipython",
    "version": 3
   },
   "file_extension": ".py",
   "mimetype": "text/x-python",
   "name": "python",
   "nbconvert_exporter": "python",
   "pygments_lexer": "ipython3",
   "version": "3.6.10"
  }
 },
 "nbformat": 4,
 "nbformat_minor": 4
}
